{
 "cells": [
  {
   "cell_type": "markdown",
   "id": "a20ebb0d-563c-4377-ad92-c56ed2e1853e",
   "metadata": {},
   "source": [
    "# Тестирование модулей"
   ]
  },
  {
   "cell_type": "code",
   "execution_count": null,
   "id": "09461562-41e2-4b34-af62-1c4779a1c321",
   "metadata": {},
   "outputs": [],
   "source": [
    "!cd"
   ]
  },
  {
   "cell_type": "code",
   "execution_count": null,
   "id": "32670dcc-a27f-49d2-819d-f48c6cae779b",
   "metadata": {},
   "outputs": [],
   "source": [
    "%load_ext autoreload\n",
    "%autoreload 2\n",
    "\n",
    "import os"
   ]
  },
  {
   "cell_type": "code",
   "execution_count": null,
   "id": "cd4602e8-ae5a-4b0c-a990-c5e2eb5328ef",
   "metadata": {},
   "outputs": [],
   "source": [
    "if 'notebooks' in os.listdir():\n",
    "    pass\n",
    "else:\n",
    "    os.chdir('..')\n",
    "    print(os.getcwd())"
   ]
  },
  {
   "cell_type": "code",
   "execution_count": null,
   "id": "0fc9aefc-af58-451d-918b-d02dd28b818e",
   "metadata": {},
   "outputs": [],
   "source": [
    "SEED = 1"
   ]
  },
  {
   "cell_type": "markdown",
   "id": "10194242-bc76-4050-95b6-dfef9a29d1c7",
   "metadata": {},
   "source": [
    "# Модуль `datasets`"
   ]
  },
  {
   "cell_type": "code",
   "execution_count": null,
   "id": "d064f8c2-10d9-4c5f-9547-f70c2ebac94a",
   "metadata": {},
   "outputs": [],
   "source": [
    "from recs_searcher import dataset"
   ]
  },
  {
   "cell_type": "markdown",
   "id": "12cbd1f2-f989-4697-8e53-4165a5bc9ca0",
   "metadata": {},
   "source": [
    "Загрузка DataFrame"
   ]
  },
  {
   "cell_type": "code",
   "execution_count": null,
   "id": "ad6a1fc7-0acf-48b8-8a25-b46ea28a293c",
   "metadata": {},
   "outputs": [],
   "source": [
    "df_video_games = dataset.load_video_games()\n",
    "df_video_games"
   ]
  },
  {
   "cell_type": "markdown",
   "id": "30b723fa-e9a7-4088-a80a-313184ba1363",
   "metadata": {},
   "source": [
    "Загрузка кастомных датасетов"
   ]
  },
  {
   "cell_type": "code",
   "execution_count": null,
   "id": "68ac9acb-5447-4b6e-82ce-9af2aeeaf02a",
   "metadata": {},
   "outputs": [],
   "source": [
    "dataset_video_games = dataset.StandartDataset(df_video_games.target.values)\n",
    "print(dataset_video_games)\n",
    "print()\n",
    "\n",
    "for i in range(5):\n",
    "    print(dataset_video_games[i])"
   ]
  },
  {
   "cell_type": "code",
   "execution_count": null,
   "id": "9d2a128a-9c39-4ffb-8dad-479198d37699",
   "metadata": {},
   "outputs": [],
   "source": [
    "dataset_video_games = dataset.SentenceTransformerDataset(df_video_games.target.values)\n",
    "print(dataset_video_games)\n",
    "print()\n",
    "\n",
    "for i in range(5):\n",
    "    print(dataset_video_games[i])"
   ]
  },
  {
   "cell_type": "markdown",
   "id": "9e39fe99-2c71-4c98-9240-54ee20a2f5bc",
   "metadata": {},
   "source": [
    "# Модуль `preprocessing`"
   ]
  },
  {
   "cell_type": "code",
   "execution_count": null,
   "id": "696e1a70-7687-4fe0-b1c2-72baa6843a46",
   "metadata": {},
   "outputs": [],
   "source": [
    "from recs_searcher import preprocessing"
   ]
  },
  {
   "cell_type": "code",
   "execution_count": null,
   "id": "e6ef5038-8309-4029-be6b-3e0ba9b855d0",
   "metadata": {},
   "outputs": [],
   "source": [
    "preprocessing_list = [\n",
    "    preprocessing.BaseCleaner(remove_number=False),\n",
    "    preprocessing.BaseNormalizer(\n",
    "        'english',\n",
    "        remove_stopwords=True,\n",
    "        number_extract=True,\n",
    "        lemmatize=True,\n",
    "    ),\n",
    "]"
   ]
  },
  {
   "cell_type": "markdown",
   "id": "f6b88859-a1ce-4a76-ab18-57b2cae54978",
   "metadata": {},
   "source": [
    "#### Очистка текста"
   ]
  },
  {
   "cell_type": "code",
   "execution_count": null,
   "id": "2b7c58dc-0409-4676-a622-71f7fb705c1d",
   "metadata": {},
   "outputs": [],
   "source": [
    "%%time\n",
    "cleaner_base = preprocessing.BaseCleaner(remove_number=False)\n",
    "\n",
    "df_video_games['clear'] = cleaner_base.transform(df_video_games.target.values)\n",
    "df_video_games"
   ]
  },
  {
   "cell_type": "markdown",
   "id": "1ef0e10a-7a61-4771-a5e8-8d9ac4fdc67a",
   "metadata": {},
   "source": [
    "#### Нормализация текста"
   ]
  },
  {
   "cell_type": "code",
   "execution_count": null,
   "id": "3e228d85-c14d-400b-b515-32f6e3d2980f",
   "metadata": {},
   "outputs": [],
   "source": [
    "# %%time\n",
    "# normilizer = preprocessing.BaseNormalizer(\n",
    "#     'english',\n",
    "#     remove_stopwords=True,\n",
    "#     number_extract=True,\n",
    "#     lemmatize=True,\n",
    "# )\n",
    "\n",
    "# df_video_games['norm'] = normilizer.transform(df_video_games.target.values)\n",
    "# df_video_games"
   ]
  },
  {
   "cell_type": "markdown",
   "id": "229c2b84-d9f7-479d-97fd-dc0c3cbde90e",
   "metadata": {},
   "source": [
    "#### Чистка + нормализация"
   ]
  },
  {
   "cell_type": "code",
   "execution_count": null,
   "id": "81c1a43e-bf87-456a-8d4d-ed7f9328a159",
   "metadata": {},
   "outputs": [],
   "source": [
    "%%time\n",
    "normilizer = preprocessing.BaseNormalizer(\n",
    "    'english',\n",
    "    remove_stopwords=True,\n",
    "    number_extract=True,\n",
    "    lemmatize=True,\n",
    ")\n",
    "\n",
    "df_video_games['clear_norm'] = normilizer.transform(df_video_games.clear.values)\n",
    "df_video_games"
   ]
  },
  {
   "cell_type": "markdown",
   "id": "1357a676-c50f-4599-9574-f8b93d22d44b",
   "metadata": {},
   "source": [
    "#### Кастомные тесты нормализации с числами"
   ]
  },
  {
   "cell_type": "code",
   "execution_count": null,
   "id": "bf528f7d-b1ed-4f9e-954c-43484690cbb1",
   "metadata": {},
   "outputs": [],
   "source": [
    "%%time\n",
    "normilizer = preprocessing.BaseNormalizer(\n",
    "    'russian',\n",
    "    remove_stopwords=True,\n",
    "    number_extract=True,\n",
    "    lemmatize=True,\n",
    ")\n",
    "\n",
    "rus_text = ['В две тысячи семьдесят седьмом году была очень хорошая погода. Примерно + двадцать пять градусов было днём!']\n",
    "normilizer.transform(rus_text)"
   ]
  },
  {
   "cell_type": "code",
   "execution_count": null,
   "id": "cd3c8389-b265-4819-9672-be67f2a52a0a",
   "metadata": {},
   "outputs": [],
   "source": [
    "%%time\n",
    "normilizer = preprocessing.BaseNormalizer(\n",
    "    'english',\n",
    "    remove_stopwords=True,\n",
    "    number_extract=True,\n",
    "    lemmatize=True,\n",
    ")\n",
    "\n",
    "eng_text = ['In the year two thousand seventy seven, the weather was very good. It was about + twenty five degrees in the afternoon!']\n",
    "normilizer.transform(eng_text)"
   ]
  },
  {
   "cell_type": "markdown",
   "id": "67d680d4-ba31-4d40-b799-ae72a4a19824",
   "metadata": {},
   "source": [
    "# Модуль `models`"
   ]
  },
  {
   "cell_type": "code",
   "execution_count": null,
   "id": "1f23c6f6-199f-4de3-93a9-63721840d4ad",
   "metadata": {},
   "outputs": [],
   "source": [
    "from recs_searcher import models"
   ]
  },
  {
   "cell_type": "markdown",
   "id": "9a1ce819-5da7-4ce8-8e34-b530c8ea9c4c",
   "metadata": {},
   "source": [
    "#### TFIDF:"
   ]
  },
  {
   "cell_type": "code",
   "execution_count": null,
   "id": "68e9c49e-95f7-4f7d-9577-2157a4074982",
   "metadata": {},
   "outputs": [],
   "source": [
    "model_tfidf_wrapper = models.TfidfWrapperModel()"
   ]
  },
  {
   "cell_type": "code",
   "execution_count": null,
   "id": "5d06a20b-741f-4748-9c6a-f587916a5a81",
   "metadata": {},
   "outputs": [],
   "source": [
    "%%time\n",
    "embedding_database_tfidf = model_tfidf_wrapper.fit_transform(df_video_games.clear.values)\n",
    "\n",
    "print(embedding_database_tfidf.shape)\n",
    "embedding_database_tfidf"
   ]
  },
  {
   "cell_type": "code",
   "execution_count": null,
   "id": "600095bf-07b6-4818-aebd-23b8cbdcddf2",
   "metadata": {},
   "outputs": [],
   "source": [
    "# model_tfidf_wrapper.save('testing')"
   ]
  },
  {
   "cell_type": "code",
   "execution_count": null,
   "id": "3ba6c461-cb11-4f37-97bf-595d53e814b4",
   "metadata": {},
   "outputs": [],
   "source": [
    "# model_tfidf_wrapper.load('testing')"
   ]
  },
  {
   "cell_type": "markdown",
   "id": "7f0d72a2-f46c-4406-892d-0fc52cc8e77b",
   "metadata": {},
   "source": [
    "#### FastText"
   ]
  },
  {
   "cell_type": "code",
   "execution_count": null,
   "id": "7b4761c1-86c5-445b-b403-5d33b96638d5",
   "metadata": {},
   "outputs": [],
   "source": [
    "model_fasttext_wrapper = models.FastTextWrapperModel(\n",
    "    min_count=1,\n",
    "    vector_size=200,\n",
    "    window=2,\n",
    "    sg=1,\n",
    "    hs=1,\n",
    "    epochs=70,\n",
    "    min_n=0,\n",
    "    seed=SEED,\n",
    ")"
   ]
  },
  {
   "cell_type": "code",
   "execution_count": null,
   "id": "e543516e-811d-497d-99cd-4655fb7ae490",
   "metadata": {},
   "outputs": [],
   "source": [
    "%%time\n",
    "embedding_database_fasttext = model_fasttext_wrapper.fit_transform(df_video_games.clear.values)\n",
    "\n",
    "print(embedding_database_fasttext.shape)\n",
    "embedding_database_fasttext"
   ]
  },
  {
   "cell_type": "markdown",
   "id": "a1115281-b376-4adb-8dc9-fdabac781981",
   "metadata": {},
   "source": [
    "#### SentenceTransformers"
   ]
  },
  {
   "cell_type": "code",
   "execution_count": null,
   "id": "803e724e-869f-466c-b7a7-93f83cd90d7b",
   "metadata": {},
   "outputs": [],
   "source": [
    "# model_transformer_wrapper = models.SentenceTransformerWrapperModel()"
   ]
  },
  {
   "cell_type": "code",
   "execution_count": null,
   "id": "d0729a55-6f62-490d-998f-b6de46ed16aa",
   "metadata": {},
   "outputs": [],
   "source": [
    "# model_transformer_wrapper.fit(df_video_games.clear.values)"
   ]
  },
  {
   "cell_type": "code",
   "execution_count": null,
   "id": "92a93d7b-ceef-43e4-b78a-8c189ed53c91",
   "metadata": {},
   "outputs": [],
   "source": [
    "# embedding_database_transformer = model_transformer_wrapper.transform(df_video_games.clear.values)\n",
    "\n",
    "# print(embedding_database_transformer.shape)\n",
    "# embedding_database_transformer"
   ]
  },
  {
   "cell_type": "markdown",
   "id": "b380e7ed-6a3c-48fe-ac1a-c34accdfc411",
   "metadata": {},
   "source": [
    "# Модуль `similarity_search`"
   ]
  },
  {
   "cell_type": "code",
   "execution_count": null,
   "id": "2cdf7392-f32e-40c2-bf16-6adc378fd77f",
   "metadata": {},
   "outputs": [],
   "source": [
    "from recs_searcher import similarity_search"
   ]
  },
  {
   "cell_type": "markdown",
   "id": "e4b39cc4-d6a5-4ebb-a25f-3433201686f4",
   "metadata": {},
   "source": [
    "Для SentenceTransformer:"
   ]
  },
  {
   "cell_type": "code",
   "execution_count": null,
   "id": "45df9a0a-4b08-4f8a-b177-7523a0ffeb39",
   "metadata": {},
   "outputs": [],
   "source": [
    "# %%time\n",
    "# search_cycle_transformer = similarity_search.ForCycleSearch(model_transformer_wrapper, embedding_database_transformer, df_video_games.target.values)\n",
    "# search_cycle_transformer.search('mario 9', 5)"
   ]
  },
  {
   "cell_type": "markdown",
   "id": "90ced1b4-4f89-4e63-9195-fb177959dcd5",
   "metadata": {},
   "source": [
    "### TheFuzzSearch"
   ]
  },
  {
   "cell_type": "code",
   "execution_count": null,
   "id": "32c258ef-56f8-4656-89df-4afa9732ad6c",
   "metadata": {},
   "outputs": [],
   "source": [
    "%%time\n",
    "search_fuzz = similarity_search.TheFuzzSearch(df_video_games.target.values)\n",
    "search_fuzz.search('mario 9', 5)"
   ]
  },
  {
   "cell_type": "markdown",
   "id": "fce1157b-9903-4fc6-b298-aeda5e51f869",
   "metadata": {},
   "source": [
    "### NearestNeighbors"
   ]
  },
  {
   "cell_type": "markdown",
   "id": "99737fc0-ea61-4557-af6e-4862939db707",
   "metadata": {},
   "source": [
    "Для Fasttext"
   ]
  },
  {
   "cell_type": "code",
   "execution_count": null,
   "id": "d2c6b6de-aa34-423c-a843-40491415df21",
   "metadata": {},
   "outputs": [],
   "source": [
    "%%time\n",
    "search_knn_fasttext = similarity_search.NearestNeighborsSearch(\n",
    "    model_fasttext_wrapper,\n",
    "    embedding_database_fasttext,\n",
    "    df_video_games.target.values,\n",
    "\n",
    "    # algorithm='auto',\n",
    "    # metric='minkowski',\n",
    ")\n",
    "search_knn_fasttext.search('mario 9', 5)"
   ]
  },
  {
   "cell_type": "markdown",
   "id": "ae99fea9-f199-4fa1-8150-36639202bd19",
   "metadata": {},
   "source": [
    "Для TF-IDF"
   ]
  },
  {
   "cell_type": "code",
   "execution_count": null,
   "id": "b5d9dab7-bb85-44c1-ad0c-b28207717052",
   "metadata": {},
   "outputs": [],
   "source": [
    "%%time\n",
    "search_knn_tfidf = similarity_search.NearestNeighborsSearch(\n",
    "    model_tfidf_wrapper,\n",
    "    embedding_database_tfidf,\n",
    "    df_video_games.target.values,\n",
    "\n",
    "    # algorithm='auto',\n",
    "    # metric='cosine',\n",
    ")\n",
    "search_knn_tfidf.search('mario 9', 5)"
   ]
  },
  {
   "cell_type": "markdown",
   "id": "98b42c6f-7b24-4b21-adbd-f6d3303724b3",
   "metadata": {},
   "source": [
    "### FaissSearch"
   ]
  },
  {
   "cell_type": "markdown",
   "id": "197365e2-1f83-4152-b1e4-7bb76ddb6e87",
   "metadata": {},
   "source": [
    "Для Fasttext"
   ]
  },
  {
   "cell_type": "code",
   "execution_count": null,
   "id": "c907ba21-5d05-4185-833f-a54442471e86",
   "metadata": {},
   "outputs": [],
   "source": [
    "%%time\n",
    "search_faiss_fasttext = similarity_search.FaissSearch(model_fasttext_wrapper, embedding_database_fasttext, df_video_games.target.values)\n",
    "search_faiss_fasttext.search('mario 9', 5)"
   ]
  },
  {
   "cell_type": "markdown",
   "id": "49bdec40-a8c9-41e4-9f91-e59e7bc4fa33",
   "metadata": {},
   "source": [
    "Для TF-IDF"
   ]
  },
  {
   "cell_type": "code",
   "execution_count": null,
   "id": "35bf520b-93b6-4bc7-afbe-ff70e8a7d9d5",
   "metadata": {},
   "outputs": [],
   "source": [
    "%%time\n",
    "search_faiss_tfidf = similarity_search.FaissSearch(model_tfidf_wrapper, embedding_database_tfidf, df_video_games.target.values)\n",
    "search_faiss_tfidf.search('mario 9', 5)"
   ]
  },
  {
   "cell_type": "markdown",
   "id": "a91cec61-48a8-4886-87b3-f7dc1c09e11a",
   "metadata": {},
   "source": [
    "### ChromaDB"
   ]
  },
  {
   "cell_type": "markdown",
   "id": "04ed5e7f-556e-4a95-9da3-e5b4b79e888b",
   "metadata": {},
   "source": [
    "Для FastText:"
   ]
  },
  {
   "cell_type": "code",
   "execution_count": null,
   "id": "6623f6ce-2966-442e-a1c6-cadd0e1563c4",
   "metadata": {},
   "outputs": [],
   "source": [
    "%%time\n",
    "search_chromadb_fasttext = similarity_search.ChromaDBSearch(model_fasttext_wrapper, embedding_database_fasttext, df_video_games.target.values)"
   ]
  },
  {
   "cell_type": "code",
   "execution_count": null,
   "id": "601bf2cd-a09b-4333-9cac-2f32c5ea4aa0",
   "metadata": {},
   "outputs": [],
   "source": [
    "%%time\n",
    "search_chromadb_fasttext.search('mario 9', 5)"
   ]
  },
  {
   "cell_type": "markdown",
   "id": "97ee43a6-0cb9-42c0-92ae-fe5f385e0385",
   "metadata": {},
   "source": [
    "Для Tf-Idf"
   ]
  },
  {
   "cell_type": "code",
   "execution_count": null,
   "id": "bbbbfbd6-cc87-4b03-9ea4-a14dce082962",
   "metadata": {},
   "outputs": [],
   "source": [
    "%%time\n",
    "search_chromadb_tfidf = similarity_search.ChromaDBSearch(model_tfidf_wrapper, embedding_database_tfidf, df_video_games.target.values)"
   ]
  },
  {
   "cell_type": "code",
   "execution_count": null,
   "id": "f4a00999-560a-4621-8ebd-ac0ba3d92507",
   "metadata": {},
   "outputs": [],
   "source": [
    "%%time\n",
    "search_chromadb_tfidf.search('mario 9', 5)"
   ]
  },
  {
   "cell_type": "markdown",
   "id": "d61cf859-f6b8-4430-9107-ff9ab662ad89",
   "metadata": {},
   "source": [
    "# Модуль `augmentation`"
   ]
  },
  {
   "cell_type": "code",
   "execution_count": null,
   "id": "0818c0cb-271d-4b7e-a886-98f525639ae9",
   "metadata": {},
   "outputs": [],
   "source": [
    "from recs_searcher import augmentation"
   ]
  },
  {
   "cell_type": "markdown",
   "id": "f1bb92c9-a903-4448-8e04-4a1d4d82106b",
   "metadata": {},
   "source": [
    "Создание ошибок в словах"
   ]
  },
  {
   "cell_type": "code",
   "execution_count": null,
   "id": "ac492ba1-d4f7-4c0d-ad33-b87969a73785",
   "metadata": {},
   "outputs": [],
   "source": [
    "%%time\n",
    "misspelling_augmentation = augmentation.MisspellingAugmentation(\n",
    "    add_syms={'p': 0.01, 'language': 'english'},\n",
    "    change_syms={'p': 0.01, 'language': 'english'},\n",
    "    delete_syms={'p': 0.01},\n",
    "    multiply_syms={'p': 0.01},\n",
    "    swap_syms={'p': 0.01},\n",
    "    seed=SEED,\n",
    ")\n",
    "misspelling_augmentation.transform(df_video_games.target.values)"
   ]
  },
  {
   "cell_type": "code",
   "execution_count": null,
   "id": "60524981-8624-4510-b67b-a4f04561cca1",
   "metadata": {},
   "outputs": [],
   "source": [
    "%%time\n",
    "structure_augmentation = augmentation.StructureAugmentation(\n",
    "    delete_words={'p': 0.1},\n",
    "    get_abbreviation=False,\n",
    "    shuffle_words=True,\n",
    "    seed=SEED,\n",
    ")\n",
    "structure_augmentation.transform(df_video_games.target.values)"
   ]
  },
  {
   "cell_type": "code",
   "execution_count": null,
   "id": "4345b9cb-5231-408f-a56d-98414cf1ad29",
   "metadata": {},
   "outputs": [],
   "source": [
    "%%time\n",
    "structure_augmentation = augmentation.StructureAugmentation(\n",
    "    delete_words=False,\n",
    "    get_abbreviation=True,\n",
    "    shuffle_words=False,\n",
    "    seed=SEED,\n",
    ")\n",
    "structure_augmentation.transform(df_video_games.target.values)"
   ]
  },
  {
   "cell_type": "markdown",
   "id": "b53f9fd2-e896-46bf-9629-b62c1603707d",
   "metadata": {},
   "source": [
    "Датасет с аугментацией"
   ]
  },
  {
   "cell_type": "code",
   "execution_count": null,
   "id": "8147f42a-4274-4a18-9e9a-c313c50297f8",
   "metadata": {},
   "outputs": [],
   "source": [
    "dataset_video_games = dataset.SentenceTransformerDataset('load_video_games', [misspelling_augmentation])\n",
    "print(dataset_video_games)\n",
    "print()\n",
    "\n",
    "for i in range(5):\n",
    "    print(dataset_video_games[i])"
   ]
  },
  {
   "cell_type": "markdown",
   "id": "82b939db-024f-4aa3-905b-c63747c86559",
   "metadata": {},
   "source": [
    "## Реализация `Validate` моделей"
   ]
  },
  {
   "cell_type": "code",
   "execution_count": null,
   "id": "fd1c3eb6-5cd1-4b0d-a3c0-00c24a9ccb13",
   "metadata": {},
   "outputs": [],
   "source": [
    "%%time\n",
    "metrics = models.Validate(\n",
    "    searcher=search_knn_fasttext,\n",
    "    augmentation_transforms=[\n",
    "        augmentation.MisspellingAugmentation(\n",
    "            add_syms={'p': 0.01, 'language': 'english'},\n",
    "            change_syms={'p': 0.01, 'language': 'english'},\n",
    "            delete_syms={'p': 0.01},\n",
    "            multiply_syms={'p': 0.01},\n",
    "            swap_syms={'p': 0.01},\n",
    "            seed=SEED,\n",
    "        ),\n",
    "    ],\n",
    "    accuracy_top=[1, 5, 10],\n",
    ")"
   ]
  }
 ],
 "metadata": {
  "kernelspec": {
   "display_name": "Python 3 (ipykernel)",
   "language": "python",
   "name": "python3"
  },
  "language_info": {
   "codemirror_mode": {
    "name": "ipython",
    "version": 3
   },
   "file_extension": ".py",
   "mimetype": "text/x-python",
   "name": "python",
   "nbconvert_exporter": "python",
   "pygments_lexer": "ipython3",
   "version": "3.11.5"
  }
 },
 "nbformat": 4,
 "nbformat_minor": 5
}
