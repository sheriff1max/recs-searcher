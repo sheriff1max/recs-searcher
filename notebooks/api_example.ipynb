{
 "cells": [
  {
   "cell_type": "markdown",
   "id": "8a1d4d0d-aff3-4116-8c10-b3837638b20c",
   "metadata": {},
   "source": [
    "# Пример использования API"
   ]
  },
  {
   "cell_type": "code",
   "execution_count": 1,
   "id": "295b81bd-6cca-45a3-b95f-4000d7df53c2",
   "metadata": {},
   "outputs": [],
   "source": [
    "%load_ext autoreload\n",
    "%autoreload 2\n",
    "\n",
    "import os"
   ]
  },
  {
   "cell_type": "code",
   "execution_count": 2,
   "id": "380cc8de-11fb-4d95-aeb6-3dd4694a1f8f",
   "metadata": {},
   "outputs": [],
   "source": [
    "SEED = 1"
   ]
  },
  {
   "cell_type": "markdown",
   "id": "519bd037-0916-403a-ac75-76f21101db7f",
   "metadata": {},
   "source": [
    "## Импорт модулей"
   ]
  },
  {
   "cell_type": "code",
   "execution_count": 3,
   "id": "78b79a95-2c57-4bc5-9d32-69a14b814633",
   "metadata": {},
   "outputs": [],
   "source": [
    "from recs_searcher import (\n",
    "    dataset,\n",
    "    preprocessing,\n",
    "    models,\n",
    "    similarity_search,\n",
    "    augmentation,\n",
    ")"
   ]
  },
  {
   "cell_type": "markdown",
   "id": "d65044c7-7200-459b-b09c-0cd147164d66",
   "metadata": {},
   "source": [
    "#### Настройки для pipeline:"
   ]
  },
  {
   "cell_type": "code",
   "execution_count": 4,
   "id": "8e479587-68d0-4c75-8200-b3b649fd4130",
   "metadata": {},
   "outputs": [],
   "source": [
    "dataset_phones = dataset.load_mobile_phones()\n",
    "dataset_games = dataset.load_video_games()\n",
    "\n",
    "SPACY_MODEL_NAME = 'en_core_web_md'\n",
    "preprocessing_list = [\n",
    "    preprocessing.TextLower(),\n",
    "    preprocessing.RemovePunct(),\n",
    "    preprocessing.RemoveNumber(),\n",
    "    preprocessing.RemoveWhitespace(),\n",
    "    preprocessing.RemoveHTML(),\n",
    "    preprocessing.RemoveURL(),\n",
    "    preprocessing.RemoveEmoji(),\n",
    "\n",
    "    preprocessing.RemoveStopwordsSpacy(spacy_model_name=SPACY_MODEL_NAME),\n",
    "    preprocessing.LemmatizeSpacy(spacy_model_name=SPACY_MODEL_NAME),\n",
    "]\n",
    "\n",
    "model_fasttext = models.FastTextWrapperModel(\n",
    "    min_count=1,\n",
    "    vector_size=20,\n",
    "    window=2,\n",
    "    sg=1,\n",
    "    hs=1,\n",
    "    epochs=70,\n",
    "    min_n=0,\n",
    "    seed=SEED,\n",
    ")\n",
    "\n",
    "searcher_faiss = similarity_search.FaissSearch\n",
    "searcher_chroma = similarity_search.ChromaDBSearch\n",
    "searcher_knn = similarity_search.NearestNeighborsSearch\n",
    "searcher_fuzz = similarity_search.TheFuzzSearch"
   ]
  },
  {
   "cell_type": "markdown",
   "id": "6ef0e6e5-d650-4e0f-a593-1eed36aa9db3",
   "metadata": {},
   "source": [
    "#### Настройки для валидации:"
   ]
  },
  {
   "cell_type": "code",
   "execution_count": 5,
   "id": "ccb3b23e-18c8-4314-8f02-6676a26b61cb",
   "metadata": {},
   "outputs": [],
   "source": [
    "LANGUAGE = 'english'\n",
    "validate_augmentation_transforms = [\n",
    "    augmentation.ChangeSyms(p=0.013, language=LANGUAGE, change_only_alpha=True, seed=SEED),\n",
    "    augmentation.DeleteSyms(p=0.013, delete_only_alpha=True, seed=SEED),\n",
    "    augmentation.AddSyms(p=0.013, language=LANGUAGE, seed=SEED),\n",
    "    augmentation.MultiplySyms(p=0.013, count_multiply=2, multiply_only_alpha=True, seed=SEED),\n",
    "    augmentation.SwapSyms(p=0.013, seed=SEED),\n",
    "    augmentation.ChangeSyms(p=0.013, language=LANGUAGE, change_only_alpha=True, seed=SEED),\n",
    "    augmentation.ChangeSyms(p=0.013, language=LANGUAGE, change_only_alpha=True, seed=SEED),\n",
    "]\n",
    "accuracy_top = [1, 5, 10]"
   ]
  },
  {
   "cell_type": "markdown",
   "id": "fd2d52a7-3ab6-4efc-a547-72dab6307327",
   "metadata": {},
   "source": [
    "## Модуль `api`"
   ]
  },
  {
   "cell_type": "code",
   "execution_count": 6,
   "id": "4f93b05c-4f1b-40db-ae87-b62465edfd09",
   "metadata": {},
   "outputs": [],
   "source": [
    "from recs_searcher import api"
   ]
  },
  {
   "cell_type": "markdown",
   "id": "37ff0912-3b8a-4cc6-9bcf-806dbb6a2bb2",
   "metadata": {},
   "source": [
    "#### Faiss-fasttext"
   ]
  },
  {
   "cell_type": "code",
   "execution_count": 7,
   "id": "c75d1ee1-38a3-4d8f-951f-82c7f8d172c5",
   "metadata": {},
   "outputs": [
    {
     "name": "stdout",
     "output_type": "stream",
     "text": [
      "Data preparation for training has begun...\n",
      "The training of the model has begun...\n",
      "Pipeline ready!\n"
     ]
    }
   ],
   "source": [
    "pipeline1 = api.Pipeline(\n",
    "    dataset=dataset_phones.target.values,\n",
    "    preprocessing=preprocessing_list,\n",
    "    model=model_fasttext,\n",
    "    searcher=searcher_faiss,\n",
    "    verbose=True,\n",
    ")"
   ]
  },
  {
   "cell_type": "code",
   "execution_count": 8,
   "id": "345f35f8-3936-4e58-951a-8e9c2becaddb",
   "metadata": {},
   "outputs": [
    {
     "name": "stdout",
     "output_type": "stream",
     "text": [
      "CPU times: total: 15.6 ms\n",
      "Wall time: 18 ms\n"
     ]
    },
    {
     "data": {
      "text/html": [
       "<div>\n",
       "<style scoped>\n",
       "    .dataframe tbody tr th:only-of-type {\n",
       "        vertical-align: middle;\n",
       "    }\n",
       "\n",
       "    .dataframe tbody tr th {\n",
       "        vertical-align: top;\n",
       "    }\n",
       "\n",
       "    .dataframe thead th {\n",
       "        text-align: right;\n",
       "    }\n",
       "</style>\n",
       "<table border=\"1\" class=\"dataframe\">\n",
       "  <thead>\n",
       "    <tr style=\"text-align: right;\">\n",
       "      <th></th>\n",
       "      <th>name</th>\n",
       "      <th>similarity</th>\n",
       "    </tr>\n",
       "  </thead>\n",
       "  <tbody>\n",
       "    <tr>\n",
       "      <th>0</th>\n",
       "      <td>Apple iPhone 13</td>\n",
       "      <td>0.001139</td>\n",
       "    </tr>\n",
       "    <tr>\n",
       "      <th>1</th>\n",
       "      <td>Apple iPhone 12</td>\n",
       "      <td>0.001139</td>\n",
       "    </tr>\n",
       "    <tr>\n",
       "      <th>2</th>\n",
       "      <td>Apple iPhone 11</td>\n",
       "      <td>0.001139</td>\n",
       "    </tr>\n",
       "    <tr>\n",
       "      <th>3</th>\n",
       "      <td>Apple iPhone 6</td>\n",
       "      <td>0.001139</td>\n",
       "    </tr>\n",
       "    <tr>\n",
       "      <th>4</th>\n",
       "      <td>Apple iPhone 5s</td>\n",
       "      <td>0.002705</td>\n",
       "    </tr>\n",
       "  </tbody>\n",
       "</table>\n",
       "</div>"
      ],
      "text/plain": [
       "              name  similarity\n",
       "0  Apple iPhone 13    0.001139\n",
       "1  Apple iPhone 12    0.001139\n",
       "2  Apple iPhone 11    0.001139\n",
       "3   Apple iPhone 6    0.001139\n",
       "4  Apple iPhone 5s    0.002705"
      ]
     },
     "execution_count": 8,
     "metadata": {},
     "output_type": "execute_result"
    }
   ],
   "source": [
    "%%time\n",
    "pipeline1.search('apple', 5)"
   ]
  },
  {
   "cell_type": "code",
   "execution_count": 9,
   "id": "f4071897-c183-416f-af27-b3416637723b",
   "metadata": {},
   "outputs": [
    {
     "name": "stderr",
     "output_type": "stream",
     "text": [
      "100%|██████████████████████████████████████████████████████████| 223/223 [00:03<00:00, 61.74it/s]"
     ]
    },
    {
     "name": "stdout",
     "output_type": "stream",
     "text": [
      "Top 1Acc = 0.3991031390134529\n",
      "Top 5Acc = 0.6995515695067265\n",
      "Top 10Acc = 0.7937219730941704\n"
     ]
    },
    {
     "name": "stderr",
     "output_type": "stream",
     "text": [
      "\n"
     ]
    },
    {
     "data": {
      "text/plain": [
       "{1: 0.3991031390134529, 5: 0.6995515695067265, 10: 0.7937219730941704}"
      ]
     },
     "execution_count": 9,
     "metadata": {},
     "output_type": "execute_result"
    }
   ],
   "source": [
    "pipeline1.validate(validate_augmentation_transforms, accuracy_top)"
   ]
  },
  {
   "cell_type": "code",
   "execution_count": 10,
   "id": "8fe27c4a-70a1-42bf-875b-37e4c8df4f20",
   "metadata": {},
   "outputs": [],
   "source": [
    "# pipeline1.save(path_folder_save='pipelines', filename='tmp')"
   ]
  },
  {
   "cell_type": "code",
   "execution_count": 11,
   "id": "c728b7fe-fc4d-4b1a-9062-cbde634ee46b",
   "metadata": {},
   "outputs": [],
   "source": [
    "# pipeline1 = api.load_pipeline(path_to_filename='tmp')\n",
    "# pipeline1"
   ]
  },
  {
   "cell_type": "markdown",
   "id": "ea048c24-433a-48e3-9e0c-e736fd38cfb0",
   "metadata": {},
   "source": [
    "#### KNN-fasttext"
   ]
  },
  {
   "cell_type": "code",
   "execution_count": 12,
   "id": "284dc776-8bda-44af-b6d0-e987f88fab3e",
   "metadata": {},
   "outputs": [
    {
     "name": "stdout",
     "output_type": "stream",
     "text": [
      "Data preparation for training has begun...\n",
      "The training of the model has begun...\n",
      "Pipeline ready!\n"
     ]
    }
   ],
   "source": [
    "pipeline2 = api.Pipeline(\n",
    "    dataset=dataset_phones.target.values,\n",
    "    preprocessing=preprocessing_list,\n",
    "    model=model_fasttext,\n",
    "    searcher=searcher_knn,\n",
    "    verbose=True,\n",
    "\n",
    "    algorithm='brute',\n",
    ")"
   ]
  },
  {
   "cell_type": "code",
   "execution_count": 13,
   "id": "a439b6d3-e0a9-4b57-bf23-4e2881bbf1ba",
   "metadata": {},
   "outputs": [
    {
     "data": {
      "text/html": [
       "<div>\n",
       "<style scoped>\n",
       "    .dataframe tbody tr th:only-of-type {\n",
       "        vertical-align: middle;\n",
       "    }\n",
       "\n",
       "    .dataframe tbody tr th {\n",
       "        vertical-align: top;\n",
       "    }\n",
       "\n",
       "    .dataframe thead th {\n",
       "        text-align: right;\n",
       "    }\n",
       "</style>\n",
       "<table border=\"1\" class=\"dataframe\">\n",
       "  <thead>\n",
       "    <tr style=\"text-align: right;\">\n",
       "      <th></th>\n",
       "      <th>name</th>\n",
       "      <th>similarity</th>\n",
       "    </tr>\n",
       "  </thead>\n",
       "  <tbody>\n",
       "    <tr>\n",
       "      <th>0</th>\n",
       "      <td>Apple iPhone 13</td>\n",
       "      <td>0.999431</td>\n",
       "    </tr>\n",
       "    <tr>\n",
       "      <th>1</th>\n",
       "      <td>Apple iPhone 6</td>\n",
       "      <td>0.999431</td>\n",
       "    </tr>\n",
       "    <tr>\n",
       "      <th>2</th>\n",
       "      <td>Apple iPhone 12</td>\n",
       "      <td>0.999431</td>\n",
       "    </tr>\n",
       "    <tr>\n",
       "      <th>3</th>\n",
       "      <td>Apple iPhone 11</td>\n",
       "      <td>0.999431</td>\n",
       "    </tr>\n",
       "    <tr>\n",
       "      <th>4</th>\n",
       "      <td>Apple iPhone 5s</td>\n",
       "      <td>0.998648</td>\n",
       "    </tr>\n",
       "  </tbody>\n",
       "</table>\n",
       "</div>"
      ],
      "text/plain": [
       "              name  similarity\n",
       "0  Apple iPhone 13    0.999431\n",
       "1   Apple iPhone 6    0.999431\n",
       "2  Apple iPhone 12    0.999431\n",
       "3  Apple iPhone 11    0.999431\n",
       "4  Apple iPhone 5s    0.998648"
      ]
     },
     "execution_count": 13,
     "metadata": {},
     "output_type": "execute_result"
    }
   ],
   "source": [
    "pipeline2.search('apple', 5)"
   ]
  },
  {
   "cell_type": "code",
   "execution_count": 14,
   "id": "325bef72-9152-45ff-ab1e-420260875b78",
   "metadata": {},
   "outputs": [
    {
     "name": "stderr",
     "output_type": "stream",
     "text": [
      "100%|██████████████████████████████████████████████████████████| 223/223 [00:03<00:00, 56.68it/s]"
     ]
    },
    {
     "name": "stdout",
     "output_type": "stream",
     "text": [
      "Top 1Acc = 0.4304932735426009\n",
      "Top 5Acc = 0.6860986547085202\n",
      "Top 10Acc = 0.7937219730941704\n"
     ]
    },
    {
     "name": "stderr",
     "output_type": "stream",
     "text": [
      "\n"
     ]
    },
    {
     "data": {
      "text/plain": [
       "{1: 0.4304932735426009, 5: 0.6860986547085202, 10: 0.7937219730941704}"
      ]
     },
     "execution_count": 14,
     "metadata": {},
     "output_type": "execute_result"
    }
   ],
   "source": [
    "pipeline2.validate(validate_augmentation_transforms, accuracy_top)"
   ]
  },
  {
   "cell_type": "markdown",
   "id": "3f0b66ab-2cb5-4ce6-b49f-971b7de27bc4",
   "metadata": {},
   "source": [
    "#### TheFuzzSearch"
   ]
  },
  {
   "cell_type": "code",
   "execution_count": 15,
   "id": "00682952-d4a5-47ab-9e72-8c44b766f83d",
   "metadata": {},
   "outputs": [
    {
     "name": "stdout",
     "output_type": "stream",
     "text": [
      "Data preparation for training has begun...\n",
      "Pipeline ready!\n"
     ]
    }
   ],
   "source": [
    "pipeline3 = api.Pipeline(\n",
    "    dataset=dataset_phones.target.values,\n",
    "    preprocessing=preprocessing_list,\n",
    "    searcher=searcher_fuzz,\n",
    "    verbose=True,\n",
    ")"
   ]
  },
  {
   "cell_type": "code",
   "execution_count": 16,
   "id": "598cc4cf-298d-43de-948a-88a028762c05",
   "metadata": {},
   "outputs": [
    {
     "data": {
      "text/html": [
       "<div>\n",
       "<style scoped>\n",
       "    .dataframe tbody tr th:only-of-type {\n",
       "        vertical-align: middle;\n",
       "    }\n",
       "\n",
       "    .dataframe tbody tr th {\n",
       "        vertical-align: top;\n",
       "    }\n",
       "\n",
       "    .dataframe thead th {\n",
       "        text-align: right;\n",
       "    }\n",
       "</style>\n",
       "<table border=\"1\" class=\"dataframe\">\n",
       "  <thead>\n",
       "    <tr style=\"text-align: right;\">\n",
       "      <th></th>\n",
       "      <th>name</th>\n",
       "      <th>similarity</th>\n",
       "    </tr>\n",
       "  </thead>\n",
       "  <tbody>\n",
       "    <tr>\n",
       "      <th>0</th>\n",
       "      <td>Apple iPhone 13 Pro Max</td>\n",
       "      <td>90</td>\n",
       "    </tr>\n",
       "    <tr>\n",
       "      <th>1</th>\n",
       "      <td>Apple iPhone 13 Pro</td>\n",
       "      <td>90</td>\n",
       "    </tr>\n",
       "    <tr>\n",
       "      <th>2</th>\n",
       "      <td>Apple iPhone 13</td>\n",
       "      <td>90</td>\n",
       "    </tr>\n",
       "    <tr>\n",
       "      <th>3</th>\n",
       "      <td>Apple iPhone 13 mini</td>\n",
       "      <td>90</td>\n",
       "    </tr>\n",
       "    <tr>\n",
       "      <th>4</th>\n",
       "      <td>Apple iPhone 12 Pro Max</td>\n",
       "      <td>90</td>\n",
       "    </tr>\n",
       "  </tbody>\n",
       "</table>\n",
       "</div>"
      ],
      "text/plain": [
       "                      name  similarity\n",
       "0  Apple iPhone 13 Pro Max          90\n",
       "1      Apple iPhone 13 Pro          90\n",
       "2          Apple iPhone 13          90\n",
       "3     Apple iPhone 13 mini          90\n",
       "4  Apple iPhone 12 Pro Max          90"
      ]
     },
     "execution_count": 16,
     "metadata": {},
     "output_type": "execute_result"
    }
   ],
   "source": [
    "pipeline3.search('apple', 5)"
   ]
  },
  {
   "cell_type": "code",
   "execution_count": 17,
   "id": "0e4f95a0-79bf-45bc-b162-2d0be635e68a",
   "metadata": {},
   "outputs": [
    {
     "name": "stderr",
     "output_type": "stream",
     "text": [
      "100%|██████████████████████████████████████████████████████████| 223/223 [00:03<00:00, 57.03it/s]"
     ]
    },
    {
     "name": "stdout",
     "output_type": "stream",
     "text": [
      "Top 1Acc = 0.4798206278026906\n",
      "Top 5Acc = 0.7937219730941704\n",
      "Top 10Acc = 0.8789237668161435\n"
     ]
    },
    {
     "name": "stderr",
     "output_type": "stream",
     "text": [
      "\n"
     ]
    },
    {
     "data": {
      "text/plain": [
       "{1: 0.4798206278026906, 5: 0.7937219730941704, 10: 0.8789237668161435}"
      ]
     },
     "execution_count": 17,
     "metadata": {},
     "output_type": "execute_result"
    }
   ],
   "source": [
    "pipeline3.validate(validate_augmentation_transforms, accuracy_top)"
   ]
  },
  {
   "cell_type": "markdown",
   "id": "ef422993-3dcf-4048-9418-45945b63e88b",
   "metadata": {},
   "source": [
    "Добавим данные к существующему поисковику:"
   ]
  },
  {
   "cell_type": "code",
   "execution_count": 18,
   "id": "30e14210-3c28-4d19-a781-a446c8a864ab",
   "metadata": {},
   "outputs": [
    {
     "data": {
      "text/html": [
       "<div>\n",
       "<style scoped>\n",
       "    .dataframe tbody tr th:only-of-type {\n",
       "        vertical-align: middle;\n",
       "    }\n",
       "\n",
       "    .dataframe tbody tr th {\n",
       "        vertical-align: top;\n",
       "    }\n",
       "\n",
       "    .dataframe thead th {\n",
       "        text-align: right;\n",
       "    }\n",
       "</style>\n",
       "<table border=\"1\" class=\"dataframe\">\n",
       "  <thead>\n",
       "    <tr style=\"text-align: right;\">\n",
       "      <th></th>\n",
       "      <th>target</th>\n",
       "    </tr>\n",
       "  </thead>\n",
       "  <tbody>\n",
       "    <tr>\n",
       "      <th>0</th>\n",
       "      <td>Wii Sports</td>\n",
       "    </tr>\n",
       "    <tr>\n",
       "      <th>1</th>\n",
       "      <td>Super Mario Bros.</td>\n",
       "    </tr>\n",
       "    <tr>\n",
       "      <th>2</th>\n",
       "      <td>Mario Kart Wii</td>\n",
       "    </tr>\n",
       "  </tbody>\n",
       "</table>\n",
       "</div>"
      ],
      "text/plain": [
       "              target\n",
       "0         Wii Sports\n",
       "1  Super Mario Bros.\n",
       "2     Mario Kart Wii"
      ]
     },
     "execution_count": 18,
     "metadata": {},
     "output_type": "execute_result"
    }
   ],
   "source": [
    "dataset_games.head(3)"
   ]
  },
  {
   "cell_type": "code",
   "execution_count": 19,
   "id": "8b9cdbfe-8286-4e9b-95c5-0a8c47d926b1",
   "metadata": {},
   "outputs": [
    {
     "name": "stdout",
     "output_type": "stream",
     "text": [
      "Data preparation for training has begun...\n",
      "Pipeline ready!\n"
     ]
    }
   ],
   "source": [
    "pipeline3 = pipeline3.fine_tuning(dataset_games.target.values)"
   ]
  },
  {
   "cell_type": "code",
   "execution_count": 20,
   "id": "ca4b24da-625d-4c0c-8d3c-a7522637b9db",
   "metadata": {},
   "outputs": [
    {
     "data": {
      "text/html": [
       "<div>\n",
       "<style scoped>\n",
       "    .dataframe tbody tr th:only-of-type {\n",
       "        vertical-align: middle;\n",
       "    }\n",
       "\n",
       "    .dataframe tbody tr th {\n",
       "        vertical-align: top;\n",
       "    }\n",
       "\n",
       "    .dataframe thead th {\n",
       "        text-align: right;\n",
       "    }\n",
       "</style>\n",
       "<table border=\"1\" class=\"dataframe\">\n",
       "  <thead>\n",
       "    <tr style=\"text-align: right;\">\n",
       "      <th></th>\n",
       "      <th>name</th>\n",
       "      <th>similarity</th>\n",
       "    </tr>\n",
       "  </thead>\n",
       "  <tbody>\n",
       "    <tr>\n",
       "      <th>0</th>\n",
       "      <td>Super Mario Bros.</td>\n",
       "      <td>90</td>\n",
       "    </tr>\n",
       "    <tr>\n",
       "      <th>1</th>\n",
       "      <td>Mario Kart Wii</td>\n",
       "      <td>90</td>\n",
       "    </tr>\n",
       "    <tr>\n",
       "      <th>2</th>\n",
       "      <td>New Super Mario Bros.</td>\n",
       "      <td>90</td>\n",
       "    </tr>\n",
       "    <tr>\n",
       "      <th>3</th>\n",
       "      <td>New Super Mario Bros. Wii</td>\n",
       "      <td>90</td>\n",
       "    </tr>\n",
       "    <tr>\n",
       "      <th>4</th>\n",
       "      <td>Mario Kart DS</td>\n",
       "      <td>90</td>\n",
       "    </tr>\n",
       "  </tbody>\n",
       "</table>\n",
       "</div>"
      ],
      "text/plain": [
       "                        name  similarity\n",
       "0          Super Mario Bros.          90\n",
       "1             Mario Kart Wii          90\n",
       "2      New Super Mario Bros.          90\n",
       "3  New Super Mario Bros. Wii          90\n",
       "4              Mario Kart DS          90"
      ]
     },
     "execution_count": 20,
     "metadata": {},
     "output_type": "execute_result"
    }
   ],
   "source": [
    "pipeline3.search('mario', 5)"
   ]
  },
  {
   "cell_type": "markdown",
   "id": "a6e7e5b7-516d-4a87-a067-47ab7974e1f8",
   "metadata": {},
   "source": [
    "#### SentenceTransformer"
   ]
  },
  {
   "cell_type": "code",
   "execution_count": 21,
   "id": "6c1fa515-a168-4c56-9b5c-f97c9a61ddf3",
   "metadata": {},
   "outputs": [],
   "source": [
    "augmentation_transforms_seed_none = [\n",
    "    augmentation.ChangeSyms(p=0.013, language=LANGUAGE, change_only_alpha=True, seed=None),\n",
    "    augmentation.DeleteSyms(p=0.013, delete_only_alpha=True, seed=None),\n",
    "    augmentation.AddSyms(p=0.013, language=LANGUAGE, seed=None),\n",
    "    augmentation.MultiplySyms(p=0.013, count_multiply=2, multiply_only_alpha=True, seed=None),\n",
    "    augmentation.SwapSyms(p=0.013, seed=None),\n",
    "    augmentation.ChangeSyms(p=0.013, language=LANGUAGE, change_only_alpha=True, seed=None),\n",
    "    augmentation.ChangeSyms(p=0.013, language=LANGUAGE, change_only_alpha=True, seed=None),\n",
    "]\n",
    "\n",
    "model_sentence_transformer = models.SentenceTransformerWrapperModel(\n",
    "    augmentation_transform=augmentation_transforms_seed_none,\n",
    "    batch_size=32,\n",
    "    epochs=3,\n",
    "    optimizer_params={'lr': 2e-2},\n",
    ")"
   ]
  },
  {
   "cell_type": "code",
   "execution_count": 22,
   "id": "d54c809e-49a9-4f3d-84dd-0620e5cb3146",
   "metadata": {},
   "outputs": [
    {
     "name": "stdout",
     "output_type": "stream",
     "text": [
      "Data preparation for training has begun...\n",
      "The training of the model has begun...\n"
     ]
    },
    {
     "data": {
      "application/vnd.jupyter.widget-view+json": {
       "model_id": "4c37a0b4a24040b095227688a77516a2",
       "version_major": 2,
       "version_minor": 0
      },
      "text/plain": [
       "Epoch:   0%|          | 0/3 [00:00<?, ?it/s]"
      ]
     },
     "metadata": {},
     "output_type": "display_data"
    },
    {
     "data": {
      "application/vnd.jupyter.widget-view+json": {
       "model_id": "7e77a4ab09904ba894e58bb41db05243",
       "version_major": 2,
       "version_minor": 0
      },
      "text/plain": [
       "Iteration:   0%|          | 0/7 [00:00<?, ?it/s]"
      ]
     },
     "metadata": {},
     "output_type": "display_data"
    },
    {
     "data": {
      "application/vnd.jupyter.widget-view+json": {
       "model_id": "24df10bd0a3d4e449a7b6b3c71bd4e79",
       "version_major": 2,
       "version_minor": 0
      },
      "text/plain": [
       "Iteration:   0%|          | 0/7 [00:00<?, ?it/s]"
      ]
     },
     "metadata": {},
     "output_type": "display_data"
    },
    {
     "data": {
      "application/vnd.jupyter.widget-view+json": {
       "model_id": "47cad7f2d9314540b6b1d09b5ef86846",
       "version_major": 2,
       "version_minor": 0
      },
      "text/plain": [
       "Iteration:   0%|          | 0/7 [00:00<?, ?it/s]"
      ]
     },
     "metadata": {},
     "output_type": "display_data"
    },
    {
     "name": "stdout",
     "output_type": "stream",
     "text": [
      "Pipeline ready!\n"
     ]
    }
   ],
   "source": [
    "pipeline4 = api.Pipeline(\n",
    "    dataset=dataset_phones.target.values,\n",
    "    preprocessing=preprocessing_list,\n",
    "    model=model_sentence_transformer,\n",
    "    searcher=searcher_faiss,\n",
    "    verbose=True,\n",
    ")"
   ]
  },
  {
   "cell_type": "code",
   "execution_count": 23,
   "id": "f3e5e81f-f834-419b-a70f-5b995acdf022",
   "metadata": {},
   "outputs": [
    {
     "data": {
      "text/html": [
       "<div>\n",
       "<style scoped>\n",
       "    .dataframe tbody tr th:only-of-type {\n",
       "        vertical-align: middle;\n",
       "    }\n",
       "\n",
       "    .dataframe tbody tr th {\n",
       "        vertical-align: top;\n",
       "    }\n",
       "\n",
       "    .dataframe thead th {\n",
       "        text-align: right;\n",
       "    }\n",
       "</style>\n",
       "<table border=\"1\" class=\"dataframe\">\n",
       "  <thead>\n",
       "    <tr style=\"text-align: right;\">\n",
       "      <th></th>\n",
       "      <th>name</th>\n",
       "      <th>similarity</th>\n",
       "    </tr>\n",
       "  </thead>\n",
       "  <tbody>\n",
       "    <tr>\n",
       "      <th>0</th>\n",
       "      <td>Apple iPhone 13</td>\n",
       "      <td>10.015034</td>\n",
       "    </tr>\n",
       "    <tr>\n",
       "      <th>1</th>\n",
       "      <td>Apple iPhone 12</td>\n",
       "      <td>10.015034</td>\n",
       "    </tr>\n",
       "    <tr>\n",
       "      <th>2</th>\n",
       "      <td>Apple iPhone 11</td>\n",
       "      <td>10.015034</td>\n",
       "    </tr>\n",
       "    <tr>\n",
       "      <th>3</th>\n",
       "      <td>Apple iPhone 6</td>\n",
       "      <td>10.015034</td>\n",
       "    </tr>\n",
       "    <tr>\n",
       "      <th>4</th>\n",
       "      <td>Apple iPhone SE (2020)</td>\n",
       "      <td>12.554626</td>\n",
       "    </tr>\n",
       "  </tbody>\n",
       "</table>\n",
       "</div>"
      ],
      "text/plain": [
       "                     name  similarity\n",
       "0         Apple iPhone 13   10.015034\n",
       "1         Apple iPhone 12   10.015034\n",
       "2         Apple iPhone 11   10.015034\n",
       "3          Apple iPhone 6   10.015034\n",
       "4  Apple iPhone SE (2020)   12.554626"
      ]
     },
     "execution_count": 23,
     "metadata": {},
     "output_type": "execute_result"
    }
   ],
   "source": [
    "pipeline4.search('apple', 5)"
   ]
  },
  {
   "cell_type": "code",
   "execution_count": 24,
   "id": "657017cb-7b39-4491-8f4a-744b13a0b938",
   "metadata": {},
   "outputs": [
    {
     "name": "stderr",
     "output_type": "stream",
     "text": [
      "100%|██████████████████████████████████████████████████████████| 223/223 [00:13<00:00, 16.56it/s]"
     ]
    },
    {
     "name": "stdout",
     "output_type": "stream",
     "text": [
      "Top 1Acc = 0.47085201793721976\n",
      "Top 5Acc = 0.8340807174887892\n",
      "Top 10Acc = 0.905829596412556\n"
     ]
    },
    {
     "name": "stderr",
     "output_type": "stream",
     "text": [
      "\n"
     ]
    },
    {
     "data": {
      "text/plain": [
       "{1: 0.47085201793721976, 5: 0.8340807174887892, 10: 0.905829596412556}"
      ]
     },
     "execution_count": 24,
     "metadata": {},
     "output_type": "execute_result"
    }
   ],
   "source": [
    "pipeline4.validate(validate_augmentation_transforms, accuracy_top)"
   ]
  },
  {
   "cell_type": "code",
   "execution_count": null,
   "id": "51440f28-0c97-46f1-b0a1-901795aaa954",
   "metadata": {},
   "outputs": [],
   "source": []
  }
 ],
 "metadata": {
  "kernelspec": {
   "display_name": "Python 3 (ipykernel)",
   "language": "python",
   "name": "python3"
  },
  "language_info": {
   "codemirror_mode": {
    "name": "ipython",
    "version": 3
   },
   "file_extension": ".py",
   "mimetype": "text/x-python",
   "name": "python",
   "nbconvert_exporter": "python",
   "pygments_lexer": "ipython3",
   "version": "3.11.5"
  }
 },
 "nbformat": 4,
 "nbformat_minor": 5
}
