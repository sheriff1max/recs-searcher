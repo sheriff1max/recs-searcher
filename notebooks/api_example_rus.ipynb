{
 "cells": [
  {
   "cell_type": "markdown",
   "id": "6a1ab248-4223-49de-ac40-414a808e3fca",
   "metadata": {},
   "source": [
    "# Пример использования API\n",
    "\n",
    "* [1. Импорт модулей](#1)\n",
    "* [2. Настройки для Pipeline](#2)\n",
    "* [3. Настройки для валидации](#3)\n",
    "* [4. Обучение Pipeline и получение результатов](#4)\n",
    "* [5. Ансамбль моделей](#5)\n",
    "* [6. Fine-tuning](#6)\n",
    "* [7. Интерпретация результатов](#7)"
   ]
  },
  {
   "cell_type": "code",
   "execution_count": 1,
   "id": "295b81bd-6cca-45a3-b95f-4000d7df53c2",
   "metadata": {},
   "outputs": [],
   "source": [
    "%load_ext autoreload\n",
    "%autoreload 2\n",
    "\n",
    "import os"
   ]
  },
  {
   "cell_type": "code",
   "execution_count": 2,
   "id": "380cc8de-11fb-4d95-aeb6-3dd4694a1f8f",
   "metadata": {},
   "outputs": [],
   "source": [
    "SEED = 1"
   ]
  },
  {
   "cell_type": "code",
   "execution_count": 3,
   "id": "c18c99cf-78d7-4917-a2e2-a3f459047576",
   "metadata": {},
   "outputs": [
    {
     "name": "stdout",
     "output_type": "stream",
     "text": [
      "F:\\study\\recs\n"
     ]
    }
   ],
   "source": [
    "if 'notebooks' in os.listdir():\n",
    "    pass\n",
    "else:\n",
    "    os.chdir('..')\n",
    "    print(os.getcwd())"
   ]
  },
  {
   "cell_type": "markdown",
   "id": "519bd037-0916-403a-ac75-76f21101db7f",
   "metadata": {},
   "source": [
    "<a id='1'></a>\n",
    "## 1. Импорт модулей"
   ]
  },
  {
   "cell_type": "code",
   "execution_count": 4,
   "id": "78b79a95-2c57-4bc5-9d32-69a14b814633",
   "metadata": {},
   "outputs": [],
   "source": [
    "from recs_searcher import (\n",
    "    dataset,  # учебные датасеты\n",
    "    preprocessing,  # предобработка текста\n",
    "    embeddings,  # преобразование текста в эмбеддинги\n",
    "    similarity_search,  # быстрые поисковики в пространстве эмбеддингов\n",
    "    augmentation,  # аугментация текста для валидации пайплайнов\n",
    "    explain,  # интерпретация сходства двух текстов\n",
    ")\n",
    "from recs_searcher import api  # Пайплайн"
   ]
  },
  {
   "cell_type": "markdown",
   "id": "d65044c7-7200-459b-b09c-0cd147164d66",
   "metadata": {},
   "source": [
    "<a id='2'></a>\n",
    "## 2. Настройки для Pipeline"
   ]
  },
  {
   "cell_type": "code",
   "execution_count": 5,
   "id": "8e479587-68d0-4c75-8200-b3b649fd4130",
   "metadata": {},
   "outputs": [],
   "source": [
    "dataset_phones = dataset.load_mobile_phones()\n",
    "dataset_games = dataset.load_video_games()\n",
    "\n",
    "SPACY_MODEL_NAME = 'en_core_web_md'\n",
    "preprocessing_list = [\n",
    "    preprocessing.TextLower(),\n",
    "    preprocessing.RemovePunct(),\n",
    "    # preprocessing.RemoveNumber(),\n",
    "    preprocessing.RemoveWhitespace(),\n",
    "    # preprocessing.RemoveHTML(),\n",
    "    # preprocessing.RemoveURL(),\n",
    "    # preprocessing.RemoveEmoji(),\n",
    "\n",
    "    # preprocessing.RemoveStopwordsSpacy(spacy_model_name=SPACY_MODEL_NAME),\n",
    "    # preprocessing.LemmatizeSpacy(spacy_model_name=SPACY_MODEL_NAME),\n",
    "]\n",
    "\n",
    "model_count_vectorizer_word = embeddings.CountVectorizerWrapperEmbedding(\n",
    "    analyzer='word',\n",
    "    ngram_range=(1, 1),\n",
    ")\n",
    "model_count_vectorizer_char = embeddings.CountVectorizerWrapperEmbedding(\n",
    "    analyzer='char',\n",
    "    ngram_range=(1, 2),\n",
    ")\n",
    "\n",
    "searcher_faiss = similarity_search.FaissSearch\n",
    "searcher_chroma = similarity_search.ChromaDBSearch\n",
    "searcher_knn = similarity_search.NearestNeighborsSearch\n",
    "searcher_fuzz = similarity_search.TheFuzzSearch"
   ]
  },
  {
   "cell_type": "markdown",
   "id": "6ef0e6e5-d650-4e0f-a593-1eed36aa9db3",
   "metadata": {},
   "source": [
    "<a id='3'></a>\n",
    "## 3. Настройки для валидации"
   ]
  },
  {
   "cell_type": "code",
   "execution_count": 6,
   "id": "ccb3b23e-18c8-4314-8f02-6676a26b61cb",
   "metadata": {},
   "outputs": [],
   "source": [
    "validate_augmentation_transforms = [\n",
    "    augmentation.AugmentexCharWrapperAugmentation(\n",
    "        action='insert',\n",
    "        unit_prob=1.0,\n",
    "        min_aug=1,\n",
    "        max_aug=2,\n",
    "        mult_num=2,\n",
    "        seed=SEED,\n",
    "        lang=\"eng\",\n",
    "        platform=\"pc\",\n",
    "    ),\n",
    "    augmentation.AugmentexCharWrapperAugmentation(\n",
    "        action='delete',\n",
    "        unit_prob=1.0,\n",
    "        min_aug=1,\n",
    "        max_aug=2,\n",
    "        mult_num=2,\n",
    "        seed=SEED,\n",
    "        lang=\"eng\",\n",
    "        platform=\"pc\",\n",
    "    ),\n",
    "]\n",
    "accuracy_top = [1, 5, 10]"
   ]
  },
  {
   "cell_type": "code",
   "execution_count": 7,
   "id": "488aedf9-586d-46df-8b70-1461f7a34e9f",
   "metadata": {},
   "outputs": [
    {
     "data": {
      "text/plain": [
       "['Motorfola Moto G9 Polwer']"
      ]
     },
     "execution_count": 7,
     "metadata": {},
     "output_type": "execute_result"
    }
   ],
   "source": [
    "validate_augmentation_transforms[0].transform(['Motorola Moto G9 Power'])"
   ]
  },
  {
   "cell_type": "markdown",
   "id": "fd2d52a7-3ab6-4efc-a547-72dab6307327",
   "metadata": {},
   "source": [
    "<a id='4'></a>\n",
    "## 4. Обучение Pipeline и получение результатов"
   ]
  },
  {
   "cell_type": "markdown",
   "id": "37ff0912-3b8a-4cc6-9bcf-806dbb6a2bb2",
   "metadata": {},
   "source": [
    "### CountVectorizer-Faiss"
   ]
  },
  {
   "cell_type": "markdown",
   "id": "584262c7-e185-4d90-933b-a409121b1cfc",
   "metadata": {},
   "source": [
    "**Анализируем символы:**"
   ]
  },
  {
   "cell_type": "code",
   "execution_count": 8,
   "id": "c75d1ee1-38a3-4d8f-951f-82c7f8d172c5",
   "metadata": {},
   "outputs": [
    {
     "name": "stdout",
     "output_type": "stream",
     "text": [
      "Data preparation for training has begun...\n",
      "The training of the model has begun...\n",
      "Pipeline ready!\n"
     ]
    }
   ],
   "source": [
    "pipeline1 = api.Pipeline(\n",
    "    dataset=dataset_phones.target.values,\n",
    "    preprocessing=preprocessing_list,\n",
    "    model=model_count_vectorizer_char,\n",
    "    searcher=searcher_faiss,\n",
    "    verbose=True,\n",
    ")"
   ]
  },
  {
   "cell_type": "code",
   "execution_count": 9,
   "id": "345f35f8-3936-4e58-951a-8e9c2becaddb",
   "metadata": {},
   "outputs": [
    {
     "name": "stdout",
     "output_type": "stream",
     "text": [
      "CPU times: total: 0 ns\n",
      "Wall time: 995 µs\n"
     ]
    },
    {
     "data": {
      "text/html": [
       "<div>\n",
       "<style scoped>\n",
       "    .dataframe tbody tr th:only-of-type {\n",
       "        vertical-align: middle;\n",
       "    }\n",
       "\n",
       "    .dataframe tbody tr th {\n",
       "        vertical-align: top;\n",
       "    }\n",
       "\n",
       "    .dataframe thead th {\n",
       "        text-align: right;\n",
       "    }\n",
       "</style>\n",
       "<table border=\"1\" class=\"dataframe\">\n",
       "  <thead>\n",
       "    <tr style=\"text-align: right;\">\n",
       "      <th></th>\n",
       "      <th>text</th>\n",
       "      <th>similarity</th>\n",
       "    </tr>\n",
       "  </thead>\n",
       "  <tbody>\n",
       "    <tr>\n",
       "      <th>0</th>\n",
       "      <td>Fairphone 3</td>\n",
       "      <td>12.0</td>\n",
       "    </tr>\n",
       "    <tr>\n",
       "      <th>1</th>\n",
       "      <td>Fairphone 4</td>\n",
       "      <td>12.0</td>\n",
       "    </tr>\n",
       "    <tr>\n",
       "      <th>2</th>\n",
       "      <td>OnePlus 9</td>\n",
       "      <td>14.0</td>\n",
       "    </tr>\n",
       "    <tr>\n",
       "      <th>3</th>\n",
       "      <td>OnePlus 6</td>\n",
       "      <td>14.0</td>\n",
       "    </tr>\n",
       "    <tr>\n",
       "      <th>4</th>\n",
       "      <td>OnePlus 8</td>\n",
       "      <td>14.0</td>\n",
       "    </tr>\n",
       "  </tbody>\n",
       "</table>\n",
       "</div>"
      ],
      "text/plain": [
       "          text  similarity\n",
       "0  Fairphone 3        12.0\n",
       "1  Fairphone 4        12.0\n",
       "2    OnePlus 9        14.0\n",
       "3    OnePlus 6        14.0\n",
       "4    OnePlus 8        14.0"
      ]
     },
     "execution_count": 9,
     "metadata": {},
     "output_type": "execute_result"
    }
   ],
   "source": [
    "%%time\n",
    "pipeline1.search('phone', 5, ascending=True)"
   ]
  },
  {
   "cell_type": "code",
   "execution_count": 10,
   "id": "f4071897-c183-416f-af27-b3416637723b",
   "metadata": {},
   "outputs": [
    {
     "name": "stderr",
     "output_type": "stream",
     "text": [
      "100%|█████████████████████████████████████████████████████████████████████| 223/223 [00:00<00:00, 1225.34it/s]"
     ]
    },
    {
     "name": "stdout",
     "output_type": "stream",
     "text": [
      "Top 1Acc = 0.905829596412556\n",
      "Top 5Acc = 0.9955156950672646\n",
      "Top 10Acc = 1.0\n"
     ]
    },
    {
     "name": "stderr",
     "output_type": "stream",
     "text": [
      "\n"
     ]
    },
    {
     "data": {
      "text/plain": [
       "{1: 0.905829596412556, 5: 0.9955156950672646, 10: 1.0}"
      ]
     },
     "execution_count": 10,
     "metadata": {},
     "output_type": "execute_result"
    }
   ],
   "source": [
    "pipeline1.validate(validate_augmentation_transforms, accuracy_top, ascending=True)"
   ]
  },
  {
   "cell_type": "code",
   "execution_count": 11,
   "id": "8fe27c4a-70a1-42bf-875b-37e4c8df4f20",
   "metadata": {},
   "outputs": [],
   "source": [
    "# pipeline1.save(path_folder_save='pipelines', filename='tmp.pkl')"
   ]
  },
  {
   "cell_type": "code",
   "execution_count": 12,
   "id": "c728b7fe-fc4d-4b1a-9062-cbde634ee46b",
   "metadata": {},
   "outputs": [],
   "source": [
    "# pipeline1 = api.load_pipeline(path_to_filename='./pipelines/tmp.pkl')\n",
    "# pipeline1"
   ]
  },
  {
   "cell_type": "markdown",
   "id": "f5d1f33a-70f3-4efd-ad4b-075926f57c32",
   "metadata": {},
   "source": [
    "**Меняем параметры поиска Faiss:**"
   ]
  },
  {
   "cell_type": "code",
   "execution_count": 13,
   "id": "6414eab7-7b43-45ed-b6fb-cda2b9525f2e",
   "metadata": {},
   "outputs": [
    {
     "name": "stdout",
     "output_type": "stream",
     "text": [
      "Data preparation for training has begun...\n",
      "The training of the model has begun...\n",
      "Pipeline ready!\n"
     ]
    }
   ],
   "source": [
    "pipeline1 = api.Pipeline(\n",
    "    dataset=dataset_phones.target.values,\n",
    "    preprocessing=preprocessing_list,\n",
    "    model=model_count_vectorizer_char,\n",
    "    searcher=searcher_faiss,\n",
    "    verbose=True,\n",
    "    count_voronoi_cells=2,\n",
    "    type_optimization_searcher='IVF',\n",
    ")"
   ]
  },
  {
   "cell_type": "code",
   "execution_count": 14,
   "id": "152edc80-dd0f-4cca-93a2-2734f893a6e8",
   "metadata": {},
   "outputs": [
    {
     "name": "stderr",
     "output_type": "stream",
     "text": [
      "100%|█████████████████████████████████████████████████████████████████████| 223/223 [00:00<00:00, 1037.22it/s]"
     ]
    },
    {
     "name": "stdout",
     "output_type": "stream",
     "text": [
      "Top 1Acc = 0.905829596412556\n",
      "Top 5Acc = 0.9955156950672646\n",
      "Top 10Acc = 1.0\n"
     ]
    },
    {
     "name": "stderr",
     "output_type": "stream",
     "text": [
      "\n"
     ]
    },
    {
     "data": {
      "text/plain": [
       "{1: 0.905829596412556, 5: 0.9955156950672646, 10: 1.0}"
      ]
     },
     "execution_count": 14,
     "metadata": {},
     "output_type": "execute_result"
    }
   ],
   "source": [
    "pipeline1.validate(validate_augmentation_transforms, accuracy_top, ascending=True)"
   ]
  },
  {
   "cell_type": "markdown",
   "id": "b29b7363-5792-4ecf-9118-26d69eda9d34",
   "metadata": {},
   "source": [
    "**Анализируем слова:**"
   ]
  },
  {
   "cell_type": "code",
   "execution_count": 15,
   "id": "e120f2a5-6f2d-4e2a-958e-52db3f4b7737",
   "metadata": {},
   "outputs": [
    {
     "name": "stdout",
     "output_type": "stream",
     "text": [
      "Data preparation for training has begun...\n",
      "The training of the model has begun...\n",
      "Pipeline ready!\n"
     ]
    },
    {
     "name": "stderr",
     "output_type": "stream",
     "text": [
      "100%|█████████████████████████████████████████████████████████████████████| 223/223 [00:00<00:00, 1186.27it/s]"
     ]
    },
    {
     "name": "stdout",
     "output_type": "stream",
     "text": [
      "Top 1Acc = 0.17040358744394618\n",
      "Top 5Acc = 0.3901345291479821\n",
      "Top 10Acc = 0.5112107623318386\n"
     ]
    },
    {
     "name": "stderr",
     "output_type": "stream",
     "text": [
      "\n"
     ]
    },
    {
     "data": {
      "text/plain": [
       "{1: 0.17040358744394618, 5: 0.3901345291479821, 10: 0.5112107623318386}"
      ]
     },
     "execution_count": 15,
     "metadata": {},
     "output_type": "execute_result"
    }
   ],
   "source": [
    "pipeline2 = api.Pipeline(\n",
    "    dataset=dataset_phones.target.values,\n",
    "    preprocessing=preprocessing_list,\n",
    "    model=model_count_vectorizer_word,\n",
    "    searcher=searcher_faiss,\n",
    "    verbose=True,\n",
    ")\n",
    "\n",
    "pipeline2.validate(validate_augmentation_transforms, accuracy_top, ascending=True)"
   ]
  },
  {
   "cell_type": "markdown",
   "id": "24a946f8-defa-4f83-9d2b-a804e405c554",
   "metadata": {},
   "source": [
    "**Меняем поисковик в уже обученном `Pipeline`:**"
   ]
  },
  {
   "cell_type": "code",
   "execution_count": 16,
   "id": "9ec48737-3ee7-4182-8afb-2162132d1eaa",
   "metadata": {},
   "outputs": [
    {
     "name": "stderr",
     "output_type": "stream",
     "text": [
      "  0%|                                                                                 | 0/223 [00:00<?, ?it/s]F:\\study\\recs\\venv\\Lib\\site-packages\\threadpoolctl.py:1010: RuntimeWarning: \n",
      "Found Intel OpenMP ('libiomp') and LLVM OpenMP ('libomp') loaded at\n",
      "the same time. Both libraries are known to be incompatible and this\n",
      "can cause random crashes or deadlocks on Linux when loaded in the\n",
      "same Python program.\n",
      "Using threadpoolctl may cause crashes or deadlocks. For more\n",
      "information and possible workarounds, please see\n",
      "    https://github.com/joblib/threadpoolctl/blob/master/multiple_openmp.md\n",
      "\n",
      "  warnings.warn(msg, RuntimeWarning)\n",
      "100%|██████████████████████████████████████████████████████████████████████| 223/223 [00:01<00:00, 143.16it/s]"
     ]
    },
    {
     "name": "stdout",
     "output_type": "stream",
     "text": [
      "Top 1Acc = 0.17488789237668162\n",
      "Top 5Acc = 0.36771300448430494\n",
      "Top 10Acc = 0.5067264573991032\n"
     ]
    },
    {
     "name": "stderr",
     "output_type": "stream",
     "text": [
      "\n"
     ]
    },
    {
     "data": {
      "text/plain": [
       "{1: 0.17488789237668162, 5: 0.36771300448430494, 10: 0.5067264573991032}"
      ]
     },
     "execution_count": 16,
     "metadata": {},
     "output_type": "execute_result"
    }
   ],
   "source": [
    "pipeline2.change_searcher(searcher_knn, metric='l2')\n",
    "pipeline2.validate(validate_augmentation_transforms, accuracy_top, ascending=True)"
   ]
  },
  {
   "cell_type": "markdown",
   "id": "3f0b66ab-2cb5-4ce6-b49f-971b7de27bc4",
   "metadata": {},
   "source": [
    "### TheFuzzSearch"
   ]
  },
  {
   "cell_type": "code",
   "execution_count": 17,
   "id": "00682952-d4a5-47ab-9e72-8c44b766f83d",
   "metadata": {},
   "outputs": [
    {
     "name": "stdout",
     "output_type": "stream",
     "text": [
      "Data preparation for training has begun...\n",
      "Pipeline ready!\n"
     ]
    }
   ],
   "source": [
    "pipeline3 = api.Pipeline(\n",
    "    dataset=dataset_phones.target.values,\n",
    "    preprocessing=preprocessing_list,\n",
    "    searcher=searcher_fuzz,\n",
    "    verbose=True,\n",
    ")"
   ]
  },
  {
   "cell_type": "code",
   "execution_count": 18,
   "id": "598cc4cf-298d-43de-948a-88a028762c05",
   "metadata": {},
   "outputs": [
    {
     "data": {
      "text/html": [
       "<div>\n",
       "<style scoped>\n",
       "    .dataframe tbody tr th:only-of-type {\n",
       "        vertical-align: middle;\n",
       "    }\n",
       "\n",
       "    .dataframe tbody tr th {\n",
       "        vertical-align: top;\n",
       "    }\n",
       "\n",
       "    .dataframe thead th {\n",
       "        text-align: right;\n",
       "    }\n",
       "</style>\n",
       "<table border=\"1\" class=\"dataframe\">\n",
       "  <thead>\n",
       "    <tr style=\"text-align: right;\">\n",
       "      <th></th>\n",
       "      <th>text</th>\n",
       "      <th>similarity</th>\n",
       "    </tr>\n",
       "  </thead>\n",
       "  <tbody>\n",
       "    <tr>\n",
       "      <th>0</th>\n",
       "      <td>Apple iPhone 13 Pro Max</td>\n",
       "      <td>90</td>\n",
       "    </tr>\n",
       "    <tr>\n",
       "      <th>1</th>\n",
       "      <td>Apple iPhone 13 Pro</td>\n",
       "      <td>90</td>\n",
       "    </tr>\n",
       "    <tr>\n",
       "      <th>2</th>\n",
       "      <td>Apple iPhone 13</td>\n",
       "      <td>90</td>\n",
       "    </tr>\n",
       "    <tr>\n",
       "      <th>3</th>\n",
       "      <td>Apple iPhone 13 mini</td>\n",
       "      <td>90</td>\n",
       "    </tr>\n",
       "    <tr>\n",
       "      <th>4</th>\n",
       "      <td>Apple iPhone 12 Pro Max</td>\n",
       "      <td>90</td>\n",
       "    </tr>\n",
       "  </tbody>\n",
       "</table>\n",
       "</div>"
      ],
      "text/plain": [
       "                      text  similarity\n",
       "0  Apple iPhone 13 Pro Max          90\n",
       "1      Apple iPhone 13 Pro          90\n",
       "2          Apple iPhone 13          90\n",
       "3     Apple iPhone 13 mini          90\n",
       "4  Apple iPhone 12 Pro Max          90"
      ]
     },
     "execution_count": 18,
     "metadata": {},
     "output_type": "execute_result"
    }
   ],
   "source": [
    "pipeline3.search('apple', 5, ascending=True)"
   ]
  },
  {
   "cell_type": "code",
   "execution_count": 19,
   "id": "0e4f95a0-79bf-45bc-b162-2d0be635e68a",
   "metadata": {},
   "outputs": [
    {
     "name": "stderr",
     "output_type": "stream",
     "text": [
      "100%|██████████████████████████████████████████████████████████████████████| 223/223 [00:00<00:00, 379.25it/s]"
     ]
    },
    {
     "name": "stdout",
     "output_type": "stream",
     "text": [
      "Top 1Acc = 0.9013452914798207\n",
      "Top 5Acc = 0.968609865470852\n",
      "Top 10Acc = 0.968609865470852\n"
     ]
    },
    {
     "name": "stderr",
     "output_type": "stream",
     "text": [
      "\n"
     ]
    },
    {
     "data": {
      "text/plain": [
       "{1: 0.9013452914798207, 5: 0.968609865470852, 10: 0.968609865470852}"
      ]
     },
     "execution_count": 19,
     "metadata": {},
     "output_type": "execute_result"
    }
   ],
   "source": [
    "pipeline3.validate(validate_augmentation_transforms, accuracy_top, ascending=False)"
   ]
  },
  {
   "cell_type": "markdown",
   "id": "a6e7e5b7-516d-4a87-a067-47ab7974e1f8",
   "metadata": {},
   "source": [
    "### SentenceTransformer-Faiss"
   ]
  },
  {
   "cell_type": "code",
   "execution_count": 20,
   "id": "6c1fa515-a168-4c56-9b5c-f97c9a61ddf3",
   "metadata": {},
   "outputs": [],
   "source": [
    "augmentation_transforms_seed_none = [\n",
    "    augmentation.AugmentexCharWrapperAugmentation(\n",
    "        action='insert',\n",
    "        unit_prob=1.0,\n",
    "        min_aug=1,\n",
    "        max_aug=2,\n",
    "        mult_num=2,\n",
    "        seed=None,\n",
    "        lang=\"eng\",\n",
    "        platform=\"pc\",\n",
    "    ),\n",
    "    augmentation.AugmentexCharWrapperAugmentation(\n",
    "        action='delete',\n",
    "        unit_prob=1.0,\n",
    "        min_aug=1,\n",
    "        max_aug=2,\n",
    "        mult_num=2,\n",
    "        seed=None,\n",
    "        lang=\"eng\",\n",
    "        platform=\"pc\",\n",
    "    ),\n",
    "]\n",
    "\n",
    "model_sentence_transformer = embeddings.SentenceTransformerWrapperEmbedding(\n",
    "    augmentation_transform=augmentation_transforms_seed_none,\n",
    "    batch_size=32,\n",
    "    epochs=6,\n",
    "    optimizer_params={'lr': 2e-2},\n",
    ")"
   ]
  },
  {
   "cell_type": "code",
   "execution_count": 21,
   "id": "d54c809e-49a9-4f3d-84dd-0620e5cb3146",
   "metadata": {},
   "outputs": [
    {
     "name": "stdout",
     "output_type": "stream",
     "text": [
      "Data preparation for training has begun...\n",
      "The training of the model has begun...\n"
     ]
    },
    {
     "data": {
      "application/vnd.jupyter.widget-view+json": {
       "model_id": "71e48c969342447fba69a4ca7c0b44d7",
       "version_major": 2,
       "version_minor": 0
      },
      "text/plain": [
       "Epoch:   0%|          | 0/6 [00:00<?, ?it/s]"
      ]
     },
     "metadata": {},
     "output_type": "display_data"
    },
    {
     "data": {
      "application/vnd.jupyter.widget-view+json": {
       "model_id": "6e75c412f5c847ae946e03f8a00849c7",
       "version_major": 2,
       "version_minor": 0
      },
      "text/plain": [
       "Iteration:   0%|          | 0/7 [00:00<?, ?it/s]"
      ]
     },
     "metadata": {},
     "output_type": "display_data"
    },
    {
     "data": {
      "application/vnd.jupyter.widget-view+json": {
       "model_id": "376436a70af54754831b8ffc3de4576f",
       "version_major": 2,
       "version_minor": 0
      },
      "text/plain": [
       "Iteration:   0%|          | 0/7 [00:00<?, ?it/s]"
      ]
     },
     "metadata": {},
     "output_type": "display_data"
    },
    {
     "data": {
      "application/vnd.jupyter.widget-view+json": {
       "model_id": "2c0bb0aa7bfe40fd9f66bbca50db0da6",
       "version_major": 2,
       "version_minor": 0
      },
      "text/plain": [
       "Iteration:   0%|          | 0/7 [00:00<?, ?it/s]"
      ]
     },
     "metadata": {},
     "output_type": "display_data"
    },
    {
     "data": {
      "application/vnd.jupyter.widget-view+json": {
       "model_id": "5c395823304149509c91f3fc54c2928e",
       "version_major": 2,
       "version_minor": 0
      },
      "text/plain": [
       "Iteration:   0%|          | 0/7 [00:00<?, ?it/s]"
      ]
     },
     "metadata": {},
     "output_type": "display_data"
    },
    {
     "data": {
      "application/vnd.jupyter.widget-view+json": {
       "model_id": "ac9c5672623d4cf3b9454bb2d09a9186",
       "version_major": 2,
       "version_minor": 0
      },
      "text/plain": [
       "Iteration:   0%|          | 0/7 [00:00<?, ?it/s]"
      ]
     },
     "metadata": {},
     "output_type": "display_data"
    },
    {
     "data": {
      "application/vnd.jupyter.widget-view+json": {
       "model_id": "a8363bd1e5a747d9837bbcd2998b281c",
       "version_major": 2,
       "version_minor": 0
      },
      "text/plain": [
       "Iteration:   0%|          | 0/7 [00:00<?, ?it/s]"
      ]
     },
     "metadata": {},
     "output_type": "display_data"
    },
    {
     "name": "stdout",
     "output_type": "stream",
     "text": [
      "Pipeline ready!\n"
     ]
    }
   ],
   "source": [
    "pipeline4 = api.Pipeline(\n",
    "    dataset=dataset_phones.target.values,\n",
    "    preprocessing=preprocessing_list,\n",
    "    model=model_sentence_transformer,\n",
    "    searcher=searcher_faiss,\n",
    "    verbose=True,\n",
    ")"
   ]
  },
  {
   "cell_type": "code",
   "execution_count": 22,
   "id": "f3e5e81f-f834-419b-a70f-5b995acdf022",
   "metadata": {},
   "outputs": [
    {
     "data": {
      "text/html": [
       "<div>\n",
       "<style scoped>\n",
       "    .dataframe tbody tr th:only-of-type {\n",
       "        vertical-align: middle;\n",
       "    }\n",
       "\n",
       "    .dataframe tbody tr th {\n",
       "        vertical-align: top;\n",
       "    }\n",
       "\n",
       "    .dataframe thead th {\n",
       "        text-align: right;\n",
       "    }\n",
       "</style>\n",
       "<table border=\"1\" class=\"dataframe\">\n",
       "  <thead>\n",
       "    <tr style=\"text-align: right;\">\n",
       "      <th></th>\n",
       "      <th>text</th>\n",
       "      <th>similarity</th>\n",
       "    </tr>\n",
       "  </thead>\n",
       "  <tbody>\n",
       "    <tr>\n",
       "      <th>0</th>\n",
       "      <td>Apple iPhone X</td>\n",
       "      <td>13.169312</td>\n",
       "    </tr>\n",
       "    <tr>\n",
       "      <th>1</th>\n",
       "      <td>Apple iPhone 8 Plus</td>\n",
       "      <td>21.750168</td>\n",
       "    </tr>\n",
       "    <tr>\n",
       "      <th>2</th>\n",
       "      <td>Apple iPhone XR</td>\n",
       "      <td>21.924805</td>\n",
       "    </tr>\n",
       "    <tr>\n",
       "      <th>3</th>\n",
       "      <td>Apple iPhone 11</td>\n",
       "      <td>22.218494</td>\n",
       "    </tr>\n",
       "    <tr>\n",
       "      <th>4</th>\n",
       "      <td>Apple iPhone 6</td>\n",
       "      <td>22.738293</td>\n",
       "    </tr>\n",
       "  </tbody>\n",
       "</table>\n",
       "</div>"
      ],
      "text/plain": [
       "                  text  similarity\n",
       "0       Apple iPhone X   13.169312\n",
       "1  Apple iPhone 8 Plus   21.750168\n",
       "2      Apple iPhone XR   21.924805\n",
       "3      Apple iPhone 11   22.218494\n",
       "4       Apple iPhone 6   22.738293"
      ]
     },
     "execution_count": 22,
     "metadata": {},
     "output_type": "execute_result"
    }
   ],
   "source": [
    "pipeline4.search('apple', 5)"
   ]
  },
  {
   "cell_type": "code",
   "execution_count": 23,
   "id": "657017cb-7b39-4491-8f4a-744b13a0b938",
   "metadata": {},
   "outputs": [
    {
     "name": "stderr",
     "output_type": "stream",
     "text": [
      "100%|███████████████████████████████████████████████████████████████████████| 223/223 [00:08<00:00, 24.90it/s]"
     ]
    },
    {
     "name": "stdout",
     "output_type": "stream",
     "text": [
      "Top 1Acc = 0.7219730941704036\n",
      "Top 5Acc = 0.9372197309417041\n",
      "Top 10Acc = 0.9775784753363229\n"
     ]
    },
    {
     "name": "stderr",
     "output_type": "stream",
     "text": [
      "\n"
     ]
    },
    {
     "data": {
      "text/plain": [
       "{1: 0.7219730941704036, 5: 0.9372197309417041, 10: 0.9775784753363229}"
      ]
     },
     "execution_count": 23,
     "metadata": {},
     "output_type": "execute_result"
    }
   ],
   "source": [
    "pipeline4.validate(validate_augmentation_transforms, accuracy_top)"
   ]
  },
  {
   "cell_type": "markdown",
   "id": "2c486761-e498-448f-b114-0399e1cb94ea",
   "metadata": {},
   "source": [
    "<a id='5'></a>\n",
    "## 5. Ансамбль моделей"
   ]
  },
  {
   "cell_type": "code",
   "execution_count": 24,
   "id": "d0f6b4f7-a0cd-40bf-ab63-ab0311572179",
   "metadata": {},
   "outputs": [],
   "source": [
    "model_count_vectorizer_ensemble = embeddings.EnsembleWrapperEmbedding(\n",
    "    models=[model_count_vectorizer_word, model_count_vectorizer_char],\n",
    "    weights=[1, 1],\n",
    ")"
   ]
  },
  {
   "cell_type": "code",
   "execution_count": 25,
   "id": "515bb26c-25bb-4477-946e-dbcbf3fbefd0",
   "metadata": {},
   "outputs": [
    {
     "name": "stdout",
     "output_type": "stream",
     "text": [
      "Data preparation for training has begun...\n",
      "The training of the model has begun...\n",
      "Pipeline ready!\n"
     ]
    },
    {
     "name": "stderr",
     "output_type": "stream",
     "text": [
      "100%|██████████████████████████████████████████████████████████████████████| 223/223 [00:00<00:00, 861.02it/s]"
     ]
    },
    {
     "name": "stdout",
     "output_type": "stream",
     "text": [
      "Top 1Acc = 0.8834080717488789\n",
      "Top 5Acc = 0.9955156950672646\n",
      "Top 10Acc = 1.0\n"
     ]
    },
    {
     "name": "stderr",
     "output_type": "stream",
     "text": [
      "\n"
     ]
    },
    {
     "data": {
      "text/plain": [
       "{1: 0.8834080717488789, 5: 0.9955156950672646, 10: 1.0}"
      ]
     },
     "execution_count": 25,
     "metadata": {},
     "output_type": "execute_result"
    }
   ],
   "source": [
    "pipeline5 = api.Pipeline(\n",
    "    dataset=dataset_phones.target.values,\n",
    "    preprocessing=preprocessing_list,\n",
    "    model=model_count_vectorizer_ensemble,\n",
    "    searcher=searcher_faiss,\n",
    "    verbose=True,\n",
    ")\n",
    "\n",
    "pipeline5.validate(validate_augmentation_transforms, accuracy_top, ascending=True)"
   ]
  },
  {
   "cell_type": "markdown",
   "id": "48d6bc8e-049d-44fb-a53c-9e4c6528d665",
   "metadata": {},
   "source": [
    "<a id='6'></a>\n",
    "## 6. Fine-tuning"
   ]
  },
  {
   "cell_type": "code",
   "execution_count": 26,
   "id": "64bbfe03-666d-4daf-86f4-e48ebbcb227b",
   "metadata": {},
   "outputs": [
    {
     "data": {
      "text/html": [
       "<div>\n",
       "<style scoped>\n",
       "    .dataframe tbody tr th:only-of-type {\n",
       "        vertical-align: middle;\n",
       "    }\n",
       "\n",
       "    .dataframe tbody tr th {\n",
       "        vertical-align: top;\n",
       "    }\n",
       "\n",
       "    .dataframe thead th {\n",
       "        text-align: right;\n",
       "    }\n",
       "</style>\n",
       "<table border=\"1\" class=\"dataframe\">\n",
       "  <thead>\n",
       "    <tr style=\"text-align: right;\">\n",
       "      <th></th>\n",
       "      <th>target</th>\n",
       "    </tr>\n",
       "  </thead>\n",
       "  <tbody>\n",
       "    <tr>\n",
       "      <th>0</th>\n",
       "      <td>Wii Sports</td>\n",
       "    </tr>\n",
       "    <tr>\n",
       "      <th>1</th>\n",
       "      <td>Super Mario Bros.</td>\n",
       "    </tr>\n",
       "    <tr>\n",
       "      <th>2</th>\n",
       "      <td>Mario Kart Wii</td>\n",
       "    </tr>\n",
       "  </tbody>\n",
       "</table>\n",
       "</div>"
      ],
      "text/plain": [
       "              target\n",
       "0         Wii Sports\n",
       "1  Super Mario Bros.\n",
       "2     Mario Kart Wii"
      ]
     },
     "execution_count": 26,
     "metadata": {},
     "output_type": "execute_result"
    }
   ],
   "source": [
    "dataset_games.head(3)"
   ]
  },
  {
   "cell_type": "code",
   "execution_count": 27,
   "id": "dba55bd9-99ae-49f2-8ced-e052e830e6bc",
   "metadata": {},
   "outputs": [
    {
     "name": "stdout",
     "output_type": "stream",
     "text": [
      "Data preparation for training has begun...\n",
      "The training of the model has begun...\n",
      "Pipeline ready!\n"
     ]
    }
   ],
   "source": [
    "pipeline5 = pipeline5.fine_tuning(dataset_games.target.values)"
   ]
  },
  {
   "cell_type": "code",
   "execution_count": 28,
   "id": "8b926c5f-7e14-4476-b640-856613363fa4",
   "metadata": {},
   "outputs": [
    {
     "data": {
      "text/html": [
       "<div>\n",
       "<style scoped>\n",
       "    .dataframe tbody tr th:only-of-type {\n",
       "        vertical-align: middle;\n",
       "    }\n",
       "\n",
       "    .dataframe tbody tr th {\n",
       "        vertical-align: top;\n",
       "    }\n",
       "\n",
       "    .dataframe thead th {\n",
       "        text-align: right;\n",
       "    }\n",
       "</style>\n",
       "<table border=\"1\" class=\"dataframe\">\n",
       "  <thead>\n",
       "    <tr style=\"text-align: right;\">\n",
       "      <th></th>\n",
       "      <th>text</th>\n",
       "      <th>similarity</th>\n",
       "    </tr>\n",
       "  </thead>\n",
       "  <tbody>\n",
       "    <tr>\n",
       "      <th>0</th>\n",
       "      <td>Mario Party</td>\n",
       "      <td>10.0</td>\n",
       "    </tr>\n",
       "    <tr>\n",
       "      <th>1</th>\n",
       "      <td>Mario Kart 7</td>\n",
       "      <td>12.0</td>\n",
       "    </tr>\n",
       "    <tr>\n",
       "      <th>2</th>\n",
       "      <td>Mario Kart 8</td>\n",
       "      <td>12.0</td>\n",
       "    </tr>\n",
       "    <tr>\n",
       "      <th>3</th>\n",
       "      <td>Mario Party 8</td>\n",
       "      <td>14.0</td>\n",
       "    </tr>\n",
       "    <tr>\n",
       "      <th>4</th>\n",
       "      <td>Dr. Mario</td>\n",
       "      <td>14.0</td>\n",
       "    </tr>\n",
       "  </tbody>\n",
       "</table>\n",
       "</div>"
      ],
      "text/plain": [
       "            text  similarity\n",
       "0    Mario Party        10.0\n",
       "1   Mario Kart 7        12.0\n",
       "2   Mario Kart 8        12.0\n",
       "3  Mario Party 8        14.0\n",
       "4      Dr. Mario        14.0"
      ]
     },
     "execution_count": 28,
     "metadata": {},
     "output_type": "execute_result"
    }
   ],
   "source": [
    "pipeline5.search('mario cart', 5)"
   ]
  },
  {
   "cell_type": "markdown",
   "id": "17c4555d-e427-4a4f-b25f-54c455a3599e",
   "metadata": {},
   "source": [
    "<a id='7'></a>\n",
    "## 7. Интерпретация результатов"
   ]
  },
  {
   "cell_type": "code",
   "execution_count": 29,
   "id": "8efba8c1-0eb4-4072-badf-8c555954c8bc",
   "metadata": {},
   "outputs": [],
   "source": [
    "dist_explain = explain.DistanceExplain(\n",
    "    pipeline5.get_model(),\n",
    "    preprocessing=pipeline5.get_preprocessing(),\n",
    "    distance='euclidean'\n",
    ")"
   ]
  },
  {
   "cell_type": "code",
   "execution_count": 30,
   "id": "fa15defb-d68c-4f1a-9827-4c2f1026bda2",
   "metadata": {},
   "outputs": [
    {
     "data": {
      "text/html": [
       "<div>\n",
       "<style scoped>\n",
       "    .dataframe tbody tr th:only-of-type {\n",
       "        vertical-align: middle;\n",
       "    }\n",
       "\n",
       "    .dataframe tbody tr th {\n",
       "        vertical-align: top;\n",
       "    }\n",
       "\n",
       "    .dataframe thead th {\n",
       "        text-align: right;\n",
       "    }\n",
       "</style>\n",
       "<table border=\"1\" class=\"dataframe\">\n",
       "  <thead>\n",
       "    <tr style=\"text-align: right;\">\n",
       "      <th></th>\n",
       "      <th>text</th>\n",
       "      <th>similarity</th>\n",
       "    </tr>\n",
       "  </thead>\n",
       "  <tbody>\n",
       "    <tr>\n",
       "      <th>0</th>\n",
       "      <td>apple iphone 13</td>\n",
       "      <td>4.472136</td>\n",
       "    </tr>\n",
       "    <tr>\n",
       "      <th>1</th>\n",
       "      <td>iphone 13 pro</td>\n",
       "      <td>5.291503</td>\n",
       "    </tr>\n",
       "    <tr>\n",
       "      <th>2</th>\n",
       "      <td>an apple iphone</td>\n",
       "      <td>5.477226</td>\n",
       "    </tr>\n",
       "    <tr>\n",
       "      <th>3</th>\n",
       "      <td>apple iphone</td>\n",
       "      <td>5.567764</td>\n",
       "    </tr>\n",
       "    <tr>\n",
       "      <th>4</th>\n",
       "      <td>13 pro max</td>\n",
       "      <td>6.324555</td>\n",
       "    </tr>\n",
       "    <tr>\n",
       "      <th>5</th>\n",
       "      <td>iphone 13</td>\n",
       "      <td>6.708204</td>\n",
       "    </tr>\n",
       "    <tr>\n",
       "      <th>6</th>\n",
       "      <td>pro max and</td>\n",
       "      <td>7.071068</td>\n",
       "    </tr>\n",
       "    <tr>\n",
       "      <th>7</th>\n",
       "      <td>pro max</td>\n",
       "      <td>7.141428</td>\n",
       "    </tr>\n",
       "    <tr>\n",
       "      <th>8</th>\n",
       "      <td>an apple</td>\n",
       "      <td>7.280110</td>\n",
       "    </tr>\n",
       "    <tr>\n",
       "      <th>9</th>\n",
       "      <td>13 pro</td>\n",
       "      <td>7.416198</td>\n",
       "    </tr>\n",
       "  </tbody>\n",
       "</table>\n",
       "</div>"
      ],
      "text/plain": [
       "              text  similarity\n",
       "0  apple iphone 13    4.472136\n",
       "1    iphone 13 pro    5.291503\n",
       "2  an apple iphone    5.477226\n",
       "3     apple iphone    5.567764\n",
       "4       13 pro max    6.324555\n",
       "5        iphone 13    6.708204\n",
       "6      pro max and    7.071068\n",
       "7          pro max    7.141428\n",
       "8         an apple    7.280110\n",
       "9           13 pro    7.416198"
      ]
     },
     "execution_count": 30,
     "metadata": {},
     "output_type": "execute_result"
    }
   ],
   "source": [
    "dist_explain.explain(\n",
    "    compared_text='Donald Trump bought an Apple iPhone 13 Pro Max and called his colleague Vladimir Putin',\n",
    "    original_text='Apple iPhone 13 Pro Max',\n",
    "    n_grams=(1, 3),\n",
    ")"
   ]
  },
  {
   "cell_type": "code",
   "execution_count": 31,
   "id": "0fa1fcf7-b88f-4865-ab94-b84456b84a7d",
   "metadata": {},
   "outputs": [
    {
     "data": {
      "text/html": [
       "<div>\n",
       "<style scoped>\n",
       "    .dataframe tbody tr th:only-of-type {\n",
       "        vertical-align: middle;\n",
       "    }\n",
       "\n",
       "    .dataframe tbody tr th {\n",
       "        vertical-align: top;\n",
       "    }\n",
       "\n",
       "    .dataframe thead th {\n",
       "        text-align: right;\n",
       "    }\n",
       "</style>\n",
       "<table border=\"1\" class=\"dataframe\">\n",
       "  <thead>\n",
       "    <tr style=\"text-align: right;\">\n",
       "      <th></th>\n",
       "      <th>text</th>\n",
       "      <th>similarity</th>\n",
       "    </tr>\n",
       "  </thead>\n",
       "  <tbody>\n",
       "    <tr>\n",
       "      <th>0</th>\n",
       "      <td>mario</td>\n",
       "      <td>3.605551</td>\n",
       "    </tr>\n",
       "    <tr>\n",
       "      <th>1</th>\n",
       "      <td>cart</td>\n",
       "      <td>4.582576</td>\n",
       "    </tr>\n",
       "  </tbody>\n",
       "</table>\n",
       "</div>"
      ],
      "text/plain": [
       "    text  similarity\n",
       "0  mario    3.605551\n",
       "1   cart    4.582576"
      ]
     },
     "execution_count": 31,
     "metadata": {},
     "output_type": "execute_result"
    }
   ],
   "source": [
    "dist_explain.explain(\n",
    "    compared_text='mario cart',\n",
    "    original_text='Mario Party',\n",
    "    n_grams=1,\n",
    ")"
   ]
  },
  {
   "cell_type": "code",
   "execution_count": null,
   "id": "6d99ab3f-ea3e-41f6-a003-ce05dcb1aaee",
   "metadata": {},
   "outputs": [],
   "source": []
  }
 ],
 "metadata": {
  "kernelspec": {
   "display_name": "Python 3 (ipykernel)",
   "language": "python",
   "name": "python3"
  },
  "language_info": {
   "codemirror_mode": {
    "name": "ipython",
    "version": 3
   },
   "file_extension": ".py",
   "mimetype": "text/x-python",
   "name": "python",
   "nbconvert_exporter": "python",
   "pygments_lexer": "ipython3",
   "version": "3.11.5"
  }
 },
 "nbformat": 4,
 "nbformat_minor": 5
}
