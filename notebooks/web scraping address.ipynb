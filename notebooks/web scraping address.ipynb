{
 "cells": [
  {
   "cell_type": "markdown",
   "id": "5672056d-400f-4046-9509-df05185eb5b3",
   "metadata": {},
   "source": [
    "# Web scraping to create a dataset"
   ]
  },
  {
   "cell_type": "code",
   "execution_count": 97,
   "id": "f03e0682-266e-4eb8-a2ec-8b458ed566b5",
   "metadata": {},
   "outputs": [],
   "source": [
    "import requests\n",
    "from bs4 import BeautifulSoup\n",
    "\n",
    "import pandas as pd\n",
    "\n",
    "from tqdm import tqdm"
   ]
  },
  {
   "cell_type": "markdown",
   "id": "c03aa44d-c344-4d60-bfd3-0c0017eec51b",
   "metadata": {},
   "source": [
    "### Скрапинг адресов"
   ]
  },
  {
   "cell_type": "code",
   "execution_count": 101,
   "id": "1ab656a9-cc2b-41f4-9054-aefc8233e9fd",
   "metadata": {},
   "outputs": [],
   "source": [
    "st_accept = \"text/html\" # говорим веб-серверу, \n",
    "                        # что хотим получить html\n",
    "# имитируем подключение через браузер Mozilla на macOS\n",
    "st_useragent = \"Mozilla/5.0 (Macintosh; Intel Mac OS X 12_3_1) AppleWebKit/605.1.15 (KHTML, like Gecko) Version/15.4 Safari/605.1.15\"\n",
    "# формируем хеш заголовков\n",
    "headers = {\n",
    "   \"Accept\": st_accept,\n",
    "   \"User-Agent\": st_useragent,\n",
    "}\n",
    "\n",
    "\n",
    "def scraping_url(url: str, main_url:str, start_text: str) -> dict:\n",
    "\n",
    "    result_lst = []\n",
    "\n",
    "    # отправляем запрос с заголовками по нужному адресу\n",
    "    src = requests.get(url, headers).text\n",
    "\n",
    "    # инициализируем html-код страницы\n",
    "    soup = BeautifulSoup(src, 'lxml')\n",
    "\n",
    "    ul = soup.find(\"ul\", {\"class\": \"col3\"})\n",
    "    \n",
    "    li = ul.find_all('li')\n",
    "\n",
    "    for part in tqdm(li):\n",
    "\n",
    "        # Находим только нужные улицы и переулки и тд.\n",
    "        if 'class' in part.attrs:\n",
    "            continue\n",
    "\n",
    "        # Обрабатываем только нужные дома.\n",
    "        else:\n",
    "            lst = part.get_text().split()\n",
    "\n",
    "            # индекс места.\n",
    "            index = lst[0]\n",
    "            # Название места: Александровский бульвар, 1-й Затонский пер. и тд\n",
    "            place_name = ' '.join(lst[1:])\n",
    "            # Ссылка с домами по месту.\n",
    "            url = part.a['href']\n",
    "            # print(f'{index = }\\n{place_name = }\\n{url = }')\n",
    "\n",
    "\n",
    "            # Переходим по новой ссылке с домами.\n",
    "            new_url = main_url + url\n",
    "            new_src = requests.get(new_url, headers).text\n",
    "            new_soup = BeautifulSoup(new_src, 'lxml')\n",
    "\n",
    "            # Получаем дома.\n",
    "            td = new_soup.find_all('td')\n",
    "            houses = td[-1].get_text().split(', ')\n",
    "\n",
    "            # Добавляем новый адрес в список.\n",
    "            for house in houses:\n",
    "\n",
    "                if house != 'Все':\n",
    "\n",
    "                    result = f'{start_text}, {place_name}, {house}, индекс {index}'\n",
    "                    \n",
    "                    result_lst.append(result)\n",
    "\n",
    "    return result_lst"
   ]
  },
  {
   "cell_type": "code",
   "execution_count": 99,
   "id": "90eb460b-14da-474b-be09-f249014ee79c",
   "metadata": {},
   "outputs": [],
   "source": [
    "MAIN_URL = 'https://index.kodifikant.ru'\n",
    "CITY_URL = '/ru/2400000100000'\n",
    "\n",
    "START_TEXT = 'Российская Федерация, Красноярский край, г. Красноярск'"
   ]
  },
  {
   "cell_type": "code",
   "execution_count": 102,
   "id": "eba105f5-6e16-4e37-8a49-4625bef1233b",
   "metadata": {},
   "outputs": [
    {
     "name": "stderr",
     "output_type": "stream",
     "text": [
      "100%|██████████████████████████████████████████████| 1341/1341 [16:44<00:00,  1.34it/s]\n"
     ]
    }
   ],
   "source": [
    "result = scraping_url(f'{MAIN_URL}{CITY_URL}', MAIN_URL, START_TEXT)"
   ]
  },
  {
   "cell_type": "markdown",
   "id": "7a92ea55-e981-436c-a209-4fc94eaf7d68",
   "metadata": {},
   "source": [
    "### Создаём dataframe и сохраним"
   ]
  },
  {
   "cell_type": "code",
   "execution_count": 111,
   "id": "ead3430f-f198-4aad-8606-27d3be0b0084",
   "metadata": {},
   "outputs": [],
   "source": [
    "df = pd.DataFrame({'target': result})\n",
    "\n",
    "df.to_csv('test.csv', index=False)"
   ]
  },
  {
   "cell_type": "code",
   "execution_count": null,
   "id": "f8280028-e52e-438e-8409-6d37a241210f",
   "metadata": {},
   "outputs": [],
   "source": []
  }
 ],
 "metadata": {
  "kernelspec": {
   "display_name": "Python 3 (ipykernel)",
   "language": "python",
   "name": "python3"
  },
  "language_info": {
   "codemirror_mode": {
    "name": "ipython",
    "version": 3
   },
   "file_extension": ".py",
   "mimetype": "text/x-python",
   "name": "python",
   "nbconvert_exporter": "python",
   "pygments_lexer": "ipython3",
   "version": "3.11.5"
  }
 },
 "nbformat": 4,
 "nbformat_minor": 5
}
