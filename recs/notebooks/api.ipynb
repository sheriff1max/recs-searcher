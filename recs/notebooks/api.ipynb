{
 "cells": [
  {
   "cell_type": "markdown",
   "id": "8a1d4d0d-aff3-4116-8c10-b3837638b20c",
   "metadata": {},
   "source": [
    "# Тестирование API"
   ]
  },
  {
   "cell_type": "code",
   "execution_count": null,
   "id": "295b81bd-6cca-45a3-b95f-4000d7df53c2",
   "metadata": {},
   "outputs": [],
   "source": [
    "%load_ext autoreload\n",
    "%autoreload 2\n",
    "\n",
    "import os"
   ]
  },
  {
   "cell_type": "code",
   "execution_count": null,
   "id": "2c926404-f202-403a-b678-1fbc0ce0c35d",
   "metadata": {},
   "outputs": [],
   "source": [
    "path_list = os.getcwd().split('\\\\')\n",
    "if path_list[-2] == 'recs' and path_list[-1] == 'recs':\n",
    "    pass\n",
    "else:\n",
    "    os.chdir('..')\n",
    "    print(os.getcwd())"
   ]
  },
  {
   "cell_type": "code",
   "execution_count": null,
   "id": "380cc8de-11fb-4d95-aeb6-3dd4694a1f8f",
   "metadata": {},
   "outputs": [],
   "source": [
    "SEED = 1"
   ]
  },
  {
   "cell_type": "markdown",
   "id": "519bd037-0916-403a-ac75-76f21101db7f",
   "metadata": {},
   "source": [
    "## Импорт модулей"
   ]
  },
  {
   "cell_type": "code",
   "execution_count": null,
   "id": "eeac66d6-b116-4d68-8185-1665bc111924",
   "metadata": {},
   "outputs": [],
   "source": [
    "import dataset\n",
    "import preprocessing\n",
    "import models\n",
    "import similarity_search\n",
    "import augmentation"
   ]
  },
  {
   "cell_type": "markdown",
   "id": "d65044c7-7200-459b-b09c-0cd147164d66",
   "metadata": {},
   "source": [
    "#### Настройки для pipeline:"
   ]
  },
  {
   "cell_type": "code",
   "execution_count": null,
   "id": "8e479587-68d0-4c75-8200-b3b649fd4130",
   "metadata": {},
   "outputs": [],
   "source": [
    "dataset = dataset.load_video_games()\n",
    "\n",
    "preprocessing_list = [\n",
    "    preprocessing.BaseCleaner(remove_number=False),\n",
    "    preprocessing.BaseNormalizer(\n",
    "        'english',\n",
    "        remove_stopwords=True,\n",
    "        number_extract=True,\n",
    "        lemmatize=True,\n",
    "    ),\n",
    "]\n",
    "\n",
    "model = models.FastTextWrapperModel(\n",
    "    min_count=1,\n",
    "    vector_size=200,\n",
    "    window=2,\n",
    "    sg=1,\n",
    "    hs=1,\n",
    "    epochs=70,\n",
    "    min_n=0,\n",
    "    seed=SEED,\n",
    ")\n",
    "\n",
    "searcher1 = similarity_search.FaissSearch\n",
    "searcher2 = similarity_search.NearestNeighborsSearch"
   ]
  },
  {
   "cell_type": "markdown",
   "id": "6ef0e6e5-d650-4e0f-a593-1eed36aa9db3",
   "metadata": {},
   "source": [
    "#### Настройки для валидации:"
   ]
  },
  {
   "cell_type": "code",
   "execution_count": null,
   "id": "ccb3b23e-18c8-4314-8f02-6676a26b61cb",
   "metadata": {},
   "outputs": [],
   "source": [
    "augmentation_transforms = [\n",
    "    augmentation.MisspellingAugmentation(\n",
    "        add_syms={'p': 0.01, 'language': 'english'},\n",
    "        change_syms={'p': 0.01, 'language': 'english'},\n",
    "        delete_syms={'p': 0.01},\n",
    "        multiply_syms={'p': 0.01},\n",
    "        swap_syms={'p': 0.01},\n",
    "        seed=SEED,\n",
    "    ),\n",
    "]\n",
    "accuracy_top = [1, 5, 10]"
   ]
  },
  {
   "cell_type": "markdown",
   "id": "fd2d52a7-3ab6-4efc-a547-72dab6307327",
   "metadata": {},
   "source": [
    "## Модуль `api`"
   ]
  },
  {
   "cell_type": "code",
   "execution_count": null,
   "id": "4f93b05c-4f1b-40db-ae87-b62465edfd09",
   "metadata": {},
   "outputs": [],
   "source": [
    "import api"
   ]
  },
  {
   "cell_type": "markdown",
   "id": "37ff0912-3b8a-4cc6-9bcf-806dbb6a2bb2",
   "metadata": {},
   "source": [
    "#### Faiss-fasttext"
   ]
  },
  {
   "cell_type": "code",
   "execution_count": null,
   "id": "c75d1ee1-38a3-4d8f-951f-82c7f8d172c5",
   "metadata": {},
   "outputs": [],
   "source": [
    "pipeline1 = api.Pipeline(\n",
    "    dataset=dataset.target.values,\n",
    "    preprocessing=preprocessing_list,\n",
    "    model=model,\n",
    "    searcher=searcher1,\n",
    "    verbose=True,\n",
    ")"
   ]
  },
  {
   "cell_type": "code",
   "execution_count": null,
   "id": "345f35f8-3936-4e58-951a-8e9c2becaddb",
   "metadata": {},
   "outputs": [],
   "source": [
    "pipeline1.search('mario', 5)"
   ]
  },
  {
   "cell_type": "code",
   "execution_count": null,
   "id": "f4071897-c183-416f-af27-b3416637723b",
   "metadata": {},
   "outputs": [],
   "source": [
    "pipeline1.validate(augmentation_transforms, accuracy_top)"
   ]
  },
  {
   "cell_type": "code",
   "execution_count": null,
   "id": "8fe27c4a-70a1-42bf-875b-37e4c8df4f20",
   "metadata": {},
   "outputs": [],
   "source": [
    "# pipeline1.save('tmp')"
   ]
  },
  {
   "cell_type": "code",
   "execution_count": null,
   "id": "c728b7fe-fc4d-4b1a-9062-cbde634ee46b",
   "metadata": {},
   "outputs": [],
   "source": [
    "# pipeline1 = api.load_pipeline('tmp')\n",
    "# pipeline1"
   ]
  },
  {
   "cell_type": "markdown",
   "id": "ea048c24-433a-48e3-9e0c-e736fd38cfb0",
   "metadata": {},
   "source": [
    "#### KNN-fasttext"
   ]
  },
  {
   "cell_type": "code",
   "execution_count": null,
   "id": "284dc776-8bda-44af-b6d0-e987f88fab3e",
   "metadata": {},
   "outputs": [],
   "source": [
    "pipeline2 = api.Pipeline(\n",
    "    dataset=dataset.target.values,\n",
    "    preprocessing=preprocessing_list,\n",
    "    model=model,\n",
    "    searcher=searcher2,\n",
    "    verbose=True,\n",
    "\n",
    "    algorithm='brute',\n",
    ")"
   ]
  },
  {
   "cell_type": "code",
   "execution_count": null,
   "id": "a439b6d3-e0a9-4b57-bf23-4e2881bbf1ba",
   "metadata": {},
   "outputs": [],
   "source": [
    "pipeline2.search('mario', 5)"
   ]
  },
  {
   "cell_type": "code",
   "execution_count": null,
   "id": "325bef72-9152-45ff-ab1e-420260875b78",
   "metadata": {},
   "outputs": [],
   "source": [
    "pipeline2.validate(augmentation_transforms, accuracy_top)"
   ]
  },
  {
   "cell_type": "code",
   "execution_count": null,
   "id": "72541769-1ce0-48d3-b2d1-2074e8e1a530",
   "metadata": {},
   "outputs": [],
   "source": []
  }
 ],
 "metadata": {
  "kernelspec": {
   "display_name": "Python 3 (ipykernel)",
   "language": "python",
   "name": "python3"
  },
  "language_info": {
   "codemirror_mode": {
    "name": "ipython",
    "version": 3
   },
   "file_extension": ".py",
   "mimetype": "text/x-python",
   "name": "python",
   "nbconvert_exporter": "python",
   "pygments_lexer": "ipython3",
   "version": "3.11.5"
  }
 },
 "nbformat": 4,
 "nbformat_minor": 5
}
