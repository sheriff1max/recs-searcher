{
 "cells": [
  {
   "cell_type": "markdown",
   "id": "a20ebb0d-563c-4377-ad92-c56ed2e1853e",
   "metadata": {},
   "source": [
    "# Тестирование модулей"
   ]
  },
  {
   "cell_type": "markdown",
   "id": "10194242-bc76-4050-95b6-dfef9a29d1c7",
   "metadata": {},
   "source": [
    "## Модуль `datasets`"
   ]
  },
  {
   "cell_type": "code",
   "execution_count": 1,
   "id": "50ae27d9-cbb7-4f8f-9e73-4bb011a162b1",
   "metadata": {},
   "outputs": [
    {
     "name": "stdout",
     "output_type": "stream",
     "text": [
      "C:\\Users\\kobel\\учёба\\recs\\recs\n"
     ]
    }
   ],
   "source": [
    "cd .."
   ]
  },
  {
   "cell_type": "code",
   "execution_count": 2,
   "id": "d064f8c2-10d9-4c5f-9547-f70c2ebac94a",
   "metadata": {},
   "outputs": [],
   "source": [
    "import datasets"
   ]
  },
  {
   "cell_type": "code",
   "execution_count": 3,
   "id": "ad6a1fc7-0acf-48b8-8a25-b46ea28a293c",
   "metadata": {},
   "outputs": [
    {
     "data": {
      "text/html": [
       "<div>\n",
       "<style scoped>\n",
       "    .dataframe tbody tr th:only-of-type {\n",
       "        vertical-align: middle;\n",
       "    }\n",
       "\n",
       "    .dataframe tbody tr th {\n",
       "        vertical-align: top;\n",
       "    }\n",
       "\n",
       "    .dataframe thead th {\n",
       "        text-align: right;\n",
       "    }\n",
       "</style>\n",
       "<table border=\"1\" class=\"dataframe\">\n",
       "  <thead>\n",
       "    <tr style=\"text-align: right;\">\n",
       "      <th></th>\n",
       "      <th>target</th>\n",
       "    </tr>\n",
       "  </thead>\n",
       "  <tbody>\n",
       "    <tr>\n",
       "      <th>0</th>\n",
       "      <td>Wii Sports</td>\n",
       "    </tr>\n",
       "    <tr>\n",
       "      <th>1</th>\n",
       "      <td>Super Mario Bros.</td>\n",
       "    </tr>\n",
       "    <tr>\n",
       "      <th>2</th>\n",
       "      <td>Mario Kart Wii</td>\n",
       "    </tr>\n",
       "    <tr>\n",
       "      <th>3</th>\n",
       "      <td>Wii Sports Resort</td>\n",
       "    </tr>\n",
       "    <tr>\n",
       "      <th>4</th>\n",
       "      <td>Pokemon Red/Pokemon Blue</td>\n",
       "    </tr>\n",
       "    <tr>\n",
       "      <th>...</th>\n",
       "      <td>...</td>\n",
       "    </tr>\n",
       "    <tr>\n",
       "      <th>11557</th>\n",
       "      <td>15 Days</td>\n",
       "    </tr>\n",
       "    <tr>\n",
       "      <th>11558</th>\n",
       "      <td>Aiyoku no Eustia</td>\n",
       "    </tr>\n",
       "    <tr>\n",
       "      <th>11559</th>\n",
       "      <td>Woody Woodpecker in Crazy Castle 5</td>\n",
       "    </tr>\n",
       "    <tr>\n",
       "      <th>11560</th>\n",
       "      <td>LMA Manager 2007</td>\n",
       "    </tr>\n",
       "    <tr>\n",
       "      <th>11561</th>\n",
       "      <td>Haitaka no Psychedelica</td>\n",
       "    </tr>\n",
       "  </tbody>\n",
       "</table>\n",
       "<p>11562 rows × 1 columns</p>\n",
       "</div>"
      ],
      "text/plain": [
       "                                   target\n",
       "0                              Wii Sports\n",
       "1                       Super Mario Bros.\n",
       "2                          Mario Kart Wii\n",
       "3                       Wii Sports Resort\n",
       "4                Pokemon Red/Pokemon Blue\n",
       "...                                   ...\n",
       "11557                             15 Days\n",
       "11558                    Aiyoku no Eustia\n",
       "11559  Woody Woodpecker in Crazy Castle 5\n",
       "11560                    LMA Manager 2007\n",
       "11561             Haitaka no Psychedelica\n",
       "\n",
       "[11562 rows x 1 columns]"
      ]
     },
     "execution_count": 3,
     "metadata": {},
     "output_type": "execute_result"
    }
   ],
   "source": [
    "df_video_games = datasets.load_video_games()\n",
    "df_video_games"
   ]
  },
  {
   "cell_type": "markdown",
   "id": "67d680d4-ba31-4d40-b799-ae72a4a19824",
   "metadata": {},
   "source": [
    "## Модуль `models`"
   ]
  },
  {
   "cell_type": "code",
   "execution_count": 4,
   "id": "1f23c6f6-199f-4de3-93a9-63721840d4ad",
   "metadata": {},
   "outputs": [],
   "source": [
    "import models"
   ]
  },
  {
   "cell_type": "code",
   "execution_count": 5,
   "id": "68e9c49e-95f7-4f7d-9577-2157a4074982",
   "metadata": {},
   "outputs": [],
   "source": [
    "from sklearn.feature_extraction.text import TfidfVectorizer\n",
    "tfidf = TfidfVectorizer()\n",
    "\n",
    "wrapper_model = models.TfidfWrapperModel(tfidf)"
   ]
  },
  {
   "cell_type": "code",
   "execution_count": 6,
   "id": "5d06a20b-741f-4748-9c6a-f587916a5a81",
   "metadata": {},
   "outputs": [
    {
     "name": "stdout",
     "output_type": "stream",
     "text": [
      "(11562, 8838)\n"
     ]
    },
    {
     "data": {
      "text/plain": [
       "array([[0., 0., 0., ..., 0., 0., 0.],\n",
       "       [0., 0., 0., ..., 0., 0., 0.],\n",
       "       [0., 0., 0., ..., 0., 0., 0.],\n",
       "       ...,\n",
       "       [0., 0., 0., ..., 0., 0., 0.],\n",
       "       [0., 0., 0., ..., 0., 0., 0.],\n",
       "       [0., 0., 0., ..., 0., 0., 0.]])"
      ]
     },
     "execution_count": 6,
     "metadata": {},
     "output_type": "execute_result"
    }
   ],
   "source": [
    "array = wrapper_model.fit_transform(df_video_games.target)\n",
    "\n",
    "print(array.shape)\n",
    "array"
   ]
  },
  {
   "cell_type": "code",
   "execution_count": 7,
   "id": "600095bf-07b6-4818-aebd-23b8cbdcddf2",
   "metadata": {},
   "outputs": [],
   "source": [
    "# wrapper_model.save('testing')\n",
    "# similarity = np.dot(emb, embedding[0]) / (np.linalg.norm(emb) * np.linalg.norm(embedding[0]) + 0.0001)"
   ]
  },
  {
   "cell_type": "markdown",
   "id": "943b376b-865c-44e3-8e6b-da17838ba0af",
   "metadata": {},
   "source": [
    "## `TEMP` code:"
   ]
  },
  {
   "cell_type": "code",
   "execution_count": 8,
   "id": "3986b2a4-4c8c-4701-a924-5831b59f1922",
   "metadata": {},
   "outputs": [
    {
     "name": "stdout",
     "output_type": "stream",
     "text": [
      "(1, 8838)\n"
     ]
    },
    {
     "data": {
      "text/plain": [
       "array([[0., 0., 0., ..., 0., 0., 0.]])"
      ]
     },
     "execution_count": 8,
     "metadata": {},
     "output_type": "execute_result"
    }
   ],
   "source": [
    "one_array = wrapper_model.transform(['mario'])\n",
    "\n",
    "print(one_array.shape)\n",
    "one_array"
   ]
  },
  {
   "cell_type": "code",
   "execution_count": 9,
   "id": "c2ab36da-bef0-4ecb-9308-a7a054bca6e0",
   "metadata": {},
   "outputs": [],
   "source": [
    "from sklearn.metrics.pairwise import cosine_similarity\n",
    "import numpy as np\n",
    "import pandas as pd\n",
    "\n",
    "\n",
    "def get_similarity_df(array,\n",
    "                      embedding,\n",
    "                      k_best: int) -> pd.DataFrame:\n",
    "    \"\"\"\n",
    "    Сравнение текущего эмбеддинга с базой данных и поиск k-подходящих адресов\n",
    "\n",
    "    Данная функция берёт только один вариант для каждого идентификатора\n",
    "\n",
    "    :param base_data: Словарь-справочник адресов\n",
    "    :param embedding: Результаты преобразований\n",
    "    :param k_best: Количество результатов, которые необходимо вывести\n",
    "    :return: Фрейм данных с результатами работы модели\n",
    "    \"\"\"\n",
    "\n",
    "    lst_target_id = []\n",
    "    lst_value = []\n",
    "\n",
    "    for target_id, emb in enumerate(array):\n",
    "        similarity = cosine_similarity(embedding, [emb])[0][0]\n",
    "\n",
    "        lst_target_id.append(target_id)\n",
    "        lst_value.append(similarity)\n",
    "\n",
    "    df_result = pd.DataFrame(\n",
    "        {\n",
    "            'target_id': lst_target_id,\n",
    "            'value': lst_value,\n",
    "        }\n",
    "    )\n",
    "    df_result = df_result.sort_values(by=['value'], ascending=False)\n",
    "    df_result = df_result.head(k_best)\n",
    "\n",
    "    return df_result"
   ]
  },
  {
   "cell_type": "code",
   "execution_count": 10,
   "id": "d15168a4-b65a-4e9f-aba1-6a41e80d4406",
   "metadata": {},
   "outputs": [
    {
     "name": "stdout",
     "output_type": "stream",
     "text": [
      "CPU times: total: 3.92 s\n",
      "Wall time: 3.92 s\n"
     ]
    },
    {
     "data": {
      "text/html": [
       "<div>\n",
       "<style scoped>\n",
       "    .dataframe tbody tr th:only-of-type {\n",
       "        vertical-align: middle;\n",
       "    }\n",
       "\n",
       "    .dataframe tbody tr th {\n",
       "        vertical-align: top;\n",
       "    }\n",
       "\n",
       "    .dataframe thead th {\n",
       "        text-align: right;\n",
       "    }\n",
       "</style>\n",
       "<table border=\"1\" class=\"dataframe\">\n",
       "  <thead>\n",
       "    <tr style=\"text-align: right;\">\n",
       "      <th></th>\n",
       "      <th>target_id</th>\n",
       "      <th>value</th>\n",
       "    </tr>\n",
       "  </thead>\n",
       "  <tbody>\n",
       "    <tr>\n",
       "      <th>479</th>\n",
       "      <td>479</td>\n",
       "      <td>0.723535</td>\n",
       "    </tr>\n",
       "    <tr>\n",
       "      <th>965</th>\n",
       "      <td>965</td>\n",
       "      <td>0.723535</td>\n",
       "    </tr>\n",
       "    <tr>\n",
       "      <th>538</th>\n",
       "      <td>538</td>\n",
       "      <td>0.723535</td>\n",
       "    </tr>\n",
       "    <tr>\n",
       "      <th>672</th>\n",
       "      <td>672</td>\n",
       "      <td>0.723535</td>\n",
       "    </tr>\n",
       "    <tr>\n",
       "      <th>750</th>\n",
       "      <td>750</td>\n",
       "      <td>0.723535</td>\n",
       "    </tr>\n",
       "    <tr>\n",
       "      <th>71</th>\n",
       "      <td>71</td>\n",
       "      <td>0.723535</td>\n",
       "    </tr>\n",
       "    <tr>\n",
       "      <th>910</th>\n",
       "      <td>910</td>\n",
       "      <td>0.723535</td>\n",
       "    </tr>\n",
       "    <tr>\n",
       "      <th>531</th>\n",
       "      <td>531</td>\n",
       "      <td>0.723535</td>\n",
       "    </tr>\n",
       "    <tr>\n",
       "      <th>381</th>\n",
       "      <td>381</td>\n",
       "      <td>0.723535</td>\n",
       "    </tr>\n",
       "    <tr>\n",
       "      <th>1055</th>\n",
       "      <td>1055</td>\n",
       "      <td>0.664143</td>\n",
       "    </tr>\n",
       "  </tbody>\n",
       "</table>\n",
       "</div>"
      ],
      "text/plain": [
       "      target_id     value\n",
       "479         479  0.723535\n",
       "965         965  0.723535\n",
       "538         538  0.723535\n",
       "672         672  0.723535\n",
       "750         750  0.723535\n",
       "71           71  0.723535\n",
       "910         910  0.723535\n",
       "531         531  0.723535\n",
       "381         381  0.723535\n",
       "1055       1055  0.664143"
      ]
     },
     "execution_count": 10,
     "metadata": {},
     "output_type": "execute_result"
    }
   ],
   "source": [
    "%%time\n",
    "get_similarity_df(array, one_array, 10)"
   ]
  },
  {
   "cell_type": "code",
   "execution_count": 11,
   "id": "7bb84403-a89f-40bd-b024-dc780f3aa30e",
   "metadata": {},
   "outputs": [
    {
     "data": {
      "text/plain": [
       "target    Mario Party\n",
       "Name: 479, dtype: object"
      ]
     },
     "execution_count": 11,
     "metadata": {},
     "output_type": "execute_result"
    }
   ],
   "source": [
    "df_video_games.iloc[479]"
   ]
  },
  {
   "cell_type": "code",
   "execution_count": 12,
   "id": "94521b33-e27c-4b4c-82c1-e17095ec2235",
   "metadata": {},
   "outputs": [
    {
     "data": {
      "text/plain": [
       "target    Mario Golf\n",
       "Name: 1055, dtype: object"
      ]
     },
     "execution_count": 12,
     "metadata": {},
     "output_type": "execute_result"
    }
   ],
   "source": [
    "df_video_games.iloc[1055]"
   ]
  },
  {
   "cell_type": "markdown",
   "id": "b9c6cb6c-4d72-46c1-b509-5632db480908",
   "metadata": {},
   "source": [
    "А если изменить одну букву?"
   ]
  },
  {
   "cell_type": "code",
   "execution_count": 13,
   "id": "3ee1d192-909e-4485-909d-16380360c9ce",
   "metadata": {},
   "outputs": [
    {
     "data": {
      "text/html": [
       "<div>\n",
       "<style scoped>\n",
       "    .dataframe tbody tr th:only-of-type {\n",
       "        vertical-align: middle;\n",
       "    }\n",
       "\n",
       "    .dataframe tbody tr th {\n",
       "        vertical-align: top;\n",
       "    }\n",
       "\n",
       "    .dataframe thead th {\n",
       "        text-align: right;\n",
       "    }\n",
       "</style>\n",
       "<table border=\"1\" class=\"dataframe\">\n",
       "  <thead>\n",
       "    <tr style=\"text-align: right;\">\n",
       "      <th></th>\n",
       "      <th>target_id</th>\n",
       "      <th>value</th>\n",
       "    </tr>\n",
       "  </thead>\n",
       "  <tbody>\n",
       "    <tr>\n",
       "      <th>0</th>\n",
       "      <td>0</td>\n",
       "      <td>0.0</td>\n",
       "    </tr>\n",
       "    <tr>\n",
       "      <th>7700</th>\n",
       "      <td>7700</td>\n",
       "      <td>0.0</td>\n",
       "    </tr>\n",
       "    <tr>\n",
       "      <th>7702</th>\n",
       "      <td>7702</td>\n",
       "      <td>0.0</td>\n",
       "    </tr>\n",
       "    <tr>\n",
       "      <th>7703</th>\n",
       "      <td>7703</td>\n",
       "      <td>0.0</td>\n",
       "    </tr>\n",
       "    <tr>\n",
       "      <th>7704</th>\n",
       "      <td>7704</td>\n",
       "      <td>0.0</td>\n",
       "    </tr>\n",
       "    <tr>\n",
       "      <th>7705</th>\n",
       "      <td>7705</td>\n",
       "      <td>0.0</td>\n",
       "    </tr>\n",
       "    <tr>\n",
       "      <th>7706</th>\n",
       "      <td>7706</td>\n",
       "      <td>0.0</td>\n",
       "    </tr>\n",
       "    <tr>\n",
       "      <th>7707</th>\n",
       "      <td>7707</td>\n",
       "      <td>0.0</td>\n",
       "    </tr>\n",
       "    <tr>\n",
       "      <th>7708</th>\n",
       "      <td>7708</td>\n",
       "      <td>0.0</td>\n",
       "    </tr>\n",
       "    <tr>\n",
       "      <th>7709</th>\n",
       "      <td>7709</td>\n",
       "      <td>0.0</td>\n",
       "    </tr>\n",
       "  </tbody>\n",
       "</table>\n",
       "</div>"
      ],
      "text/plain": [
       "      target_id  value\n",
       "0             0    0.0\n",
       "7700       7700    0.0\n",
       "7702       7702    0.0\n",
       "7703       7703    0.0\n",
       "7704       7704    0.0\n",
       "7705       7705    0.0\n",
       "7706       7706    0.0\n",
       "7707       7707    0.0\n",
       "7708       7708    0.0\n",
       "7709       7709    0.0"
      ]
     },
     "execution_count": 13,
     "metadata": {},
     "output_type": "execute_result"
    }
   ],
   "source": [
    "one_array = wrapper_model.transform(['maeio'])\n",
    "\n",
    "get_similarity_df(array, one_array, 10)"
   ]
  },
  {
   "cell_type": "code",
   "execution_count": null,
   "id": "f95982cd-973c-44f3-ae4b-7fa5a3b616f4",
   "metadata": {},
   "outputs": [],
   "source": []
  }
 ],
 "metadata": {
  "kernelspec": {
   "display_name": "Python 3 (ipykernel)",
   "language": "python",
   "name": "python3"
  },
  "language_info": {
   "codemirror_mode": {
    "name": "ipython",
    "version": 3
   },
   "file_extension": ".py",
   "mimetype": "text/x-python",
   "name": "python",
   "nbconvert_exporter": "python",
   "pygments_lexer": "ipython3",
   "version": "3.11.5"
  }
 },
 "nbformat": 4,
 "nbformat_minor": 5
}
