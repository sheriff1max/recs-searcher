{
 "cells": [
  {
   "cell_type": "markdown",
   "id": "a20ebb0d-563c-4377-ad92-c56ed2e1853e",
   "metadata": {},
   "source": [
    "# Тестирование модулей"
   ]
  },
  {
   "cell_type": "markdown",
   "id": "10194242-bc76-4050-95b6-dfef9a29d1c7",
   "metadata": {},
   "source": [
    "## Модуль `datasets`"
   ]
  },
  {
   "cell_type": "code",
   "execution_count": 1,
   "id": "50ae27d9-cbb7-4f8f-9e73-4bb011a162b1",
   "metadata": {},
   "outputs": [
    {
     "name": "stdout",
     "output_type": "stream",
     "text": [
      "C:\\Users\\kobel\\учёба\\recs\\recs\n"
     ]
    }
   ],
   "source": [
    "cd .."
   ]
  },
  {
   "cell_type": "code",
   "execution_count": 2,
   "id": "d064f8c2-10d9-4c5f-9547-f70c2ebac94a",
   "metadata": {},
   "outputs": [],
   "source": [
    "import dataset"
   ]
  },
  {
   "cell_type": "code",
   "execution_count": 3,
   "id": "ad6a1fc7-0acf-48b8-8a25-b46ea28a293c",
   "metadata": {},
   "outputs": [
    {
     "data": {
      "text/html": [
       "<div>\n",
       "<style scoped>\n",
       "    .dataframe tbody tr th:only-of-type {\n",
       "        vertical-align: middle;\n",
       "    }\n",
       "\n",
       "    .dataframe tbody tr th {\n",
       "        vertical-align: top;\n",
       "    }\n",
       "\n",
       "    .dataframe thead th {\n",
       "        text-align: right;\n",
       "    }\n",
       "</style>\n",
       "<table border=\"1\" class=\"dataframe\">\n",
       "  <thead>\n",
       "    <tr style=\"text-align: right;\">\n",
       "      <th></th>\n",
       "      <th>target</th>\n",
       "    </tr>\n",
       "  </thead>\n",
       "  <tbody>\n",
       "    <tr>\n",
       "      <th>0</th>\n",
       "      <td>Wii Sports</td>\n",
       "    </tr>\n",
       "    <tr>\n",
       "      <th>1</th>\n",
       "      <td>Super Mario Bros.</td>\n",
       "    </tr>\n",
       "    <tr>\n",
       "      <th>2</th>\n",
       "      <td>Mario Kart Wii</td>\n",
       "    </tr>\n",
       "    <tr>\n",
       "      <th>3</th>\n",
       "      <td>Wii Sports Resort</td>\n",
       "    </tr>\n",
       "    <tr>\n",
       "      <th>4</th>\n",
       "      <td>Pokemon Red/Pokemon Blue</td>\n",
       "    </tr>\n",
       "    <tr>\n",
       "      <th>...</th>\n",
       "      <td>...</td>\n",
       "    </tr>\n",
       "    <tr>\n",
       "      <th>11557</th>\n",
       "      <td>15 Days</td>\n",
       "    </tr>\n",
       "    <tr>\n",
       "      <th>11558</th>\n",
       "      <td>Aiyoku no Eustia</td>\n",
       "    </tr>\n",
       "    <tr>\n",
       "      <th>11559</th>\n",
       "      <td>Woody Woodpecker in Crazy Castle 5</td>\n",
       "    </tr>\n",
       "    <tr>\n",
       "      <th>11560</th>\n",
       "      <td>LMA Manager 2007</td>\n",
       "    </tr>\n",
       "    <tr>\n",
       "      <th>11561</th>\n",
       "      <td>Haitaka no Psychedelica</td>\n",
       "    </tr>\n",
       "  </tbody>\n",
       "</table>\n",
       "<p>11562 rows × 1 columns</p>\n",
       "</div>"
      ],
      "text/plain": [
       "                                   target\n",
       "0                              Wii Sports\n",
       "1                       Super Mario Bros.\n",
       "2                          Mario Kart Wii\n",
       "3                       Wii Sports Resort\n",
       "4                Pokemon Red/Pokemon Blue\n",
       "...                                   ...\n",
       "11557                             15 Days\n",
       "11558                    Aiyoku no Eustia\n",
       "11559  Woody Woodpecker in Crazy Castle 5\n",
       "11560                    LMA Manager 2007\n",
       "11561             Haitaka no Psychedelica\n",
       "\n",
       "[11562 rows x 1 columns]"
      ]
     },
     "execution_count": 3,
     "metadata": {},
     "output_type": "execute_result"
    }
   ],
   "source": [
    "df_video_games = dataset.load_video_games()\n",
    "df_video_games"
   ]
  },
  {
   "cell_type": "markdown",
   "id": "9e39fe99-2c71-4c98-9240-54ee20a2f5bc",
   "metadata": {},
   "source": [
    "## Модуль `preprocessing`"
   ]
  },
  {
   "cell_type": "code",
   "execution_count": 4,
   "id": "696e1a70-7687-4fe0-b1c2-72baa6843a46",
   "metadata": {},
   "outputs": [
    {
     "name": "stderr",
     "output_type": "stream",
     "text": [
      "C:\\Users\\kobel\\учёба\\recs\\venv\\Lib\\site-packages\\tqdm\\auto.py:21: TqdmWarning: IProgress not found. Please update jupyter and ipywidgets. See https://ipywidgets.readthedocs.io/en/stable/user_install.html\n",
      "  from .autonotebook import tqdm as notebook_tqdm\n"
     ]
    }
   ],
   "source": [
    "import preprocessing"
   ]
  },
  {
   "cell_type": "code",
   "execution_count": 5,
   "id": "ec0b98f0-e934-49e4-8c6c-bf93095a2d0f",
   "metadata": {},
   "outputs": [],
   "source": [
    "cleaner_base = preprocessing.BaseCleaner(remove_number=False)"
   ]
  },
  {
   "cell_type": "code",
   "execution_count": 6,
   "id": "2b7c58dc-0409-4676-a622-71f7fb705c1d",
   "metadata": {},
   "outputs": [
    {
     "data": {
      "text/plain": [
       "['15 days',\n",
       " 'aiyoku no eustia',\n",
       " 'woody woodpecker in crazy castle 5',\n",
       " 'lma manager 2007',\n",
       " 'haitaka no psychedelica']"
      ]
     },
     "execution_count": 6,
     "metadata": {},
     "output_type": "execute_result"
    }
   ],
   "source": [
    "clear_text = cleaner_base.transform(df_video_games.target)\n",
    "clear_text[-5:]"
   ]
  },
  {
   "cell_type": "markdown",
   "id": "67d680d4-ba31-4d40-b799-ae72a4a19824",
   "metadata": {},
   "source": [
    "## Модуль `models`"
   ]
  },
  {
   "cell_type": "code",
   "execution_count": 7,
   "id": "1f23c6f6-199f-4de3-93a9-63721840d4ad",
   "metadata": {},
   "outputs": [],
   "source": [
    "import models"
   ]
  },
  {
   "cell_type": "markdown",
   "id": "9a1ce819-5da7-4ce8-8e34-b530c8ea9c4c",
   "metadata": {},
   "source": [
    "#### TFIDF:"
   ]
  },
  {
   "cell_type": "code",
   "execution_count": 8,
   "id": "68e9c49e-95f7-4f7d-9577-2157a4074982",
   "metadata": {},
   "outputs": [],
   "source": [
    "model_tfidf_wrapper = models.TfidfWrapperModel()"
   ]
  },
  {
   "cell_type": "code",
   "execution_count": 9,
   "id": "5d06a20b-741f-4748-9c6a-f587916a5a81",
   "metadata": {},
   "outputs": [
    {
     "name": "stdout",
     "output_type": "stream",
     "text": [
      "(11562, 9169)\n",
      "CPU times: total: 375 ms\n",
      "Wall time: 377 ms\n"
     ]
    },
    {
     "data": {
      "text/plain": [
       "array([[0., 0., 0., ..., 0., 0., 0.],\n",
       "       [0., 0., 0., ..., 0., 0., 0.],\n",
       "       [0., 0., 0., ..., 0., 0., 0.],\n",
       "       ...,\n",
       "       [0., 0., 0., ..., 0., 0., 0.],\n",
       "       [0., 0., 0., ..., 0., 0., 0.],\n",
       "       [0., 0., 0., ..., 0., 0., 0.]])"
      ]
     },
     "execution_count": 9,
     "metadata": {},
     "output_type": "execute_result"
    }
   ],
   "source": [
    "%%time\n",
    "embedding_basedata_tfidf = model_tfidf_wrapper.fit_transform(clear_text)\n",
    "\n",
    "print(embedding_basedata_tfidf.shape)\n",
    "embedding_basedata_tfidf"
   ]
  },
  {
   "cell_type": "code",
   "execution_count": 10,
   "id": "600095bf-07b6-4818-aebd-23b8cbdcddf2",
   "metadata": {},
   "outputs": [],
   "source": [
    "# model_tfidf_wrapper.save('testing')"
   ]
  },
  {
   "cell_type": "code",
   "execution_count": 11,
   "id": "3ba6c461-cb11-4f37-97bf-595d53e814b4",
   "metadata": {},
   "outputs": [],
   "source": [
    "# model_tfidf_wrapper.load('testing')"
   ]
  },
  {
   "cell_type": "markdown",
   "id": "7f0d72a2-f46c-4406-892d-0fc52cc8e77b",
   "metadata": {},
   "source": [
    "#### FastText"
   ]
  },
  {
   "cell_type": "code",
   "execution_count": 12,
   "id": "7b4761c1-86c5-445b-b403-5d33b96638d5",
   "metadata": {},
   "outputs": [],
   "source": [
    "model_fasttext_wrapper = models.FastTextWrapperModel(\n",
    "    min_count=3,\n",
    "    vector_size=100, \n",
    "    window=3, \n",
    "    sg=1\n",
    ")"
   ]
  },
  {
   "cell_type": "code",
   "execution_count": 13,
   "id": "e543516e-811d-497d-99cd-4655fb7ae490",
   "metadata": {},
   "outputs": [
    {
     "name": "stdout",
     "output_type": "stream",
     "text": [
      "(11562, 100)\n",
      "CPU times: total: 5.47 s\n",
      "Wall time: 4.26 s\n"
     ]
    },
    {
     "data": {
      "text/plain": [
       "array([[-0.15230161, -0.02121007, -0.09091443, ..., -0.08356076,\n",
       "         0.05686298,  0.05183981],\n",
       "       [-0.15229307, -0.02348029, -0.08850324, ..., -0.08940327,\n",
       "         0.05713321,  0.04942806],\n",
       "       [-0.15165074, -0.02096771, -0.09120651, ..., -0.08512478,\n",
       "         0.05741649,  0.05147989],\n",
       "       ...,\n",
       "       [-0.15105745, -0.02188818, -0.09104431, ..., -0.0852009 ,\n",
       "         0.05585201,  0.04948147],\n",
       "       [-0.15118353, -0.02251317, -0.09281135, ..., -0.08021916,\n",
       "         0.05730164,  0.05155784],\n",
       "       [-0.14995156, -0.02489554, -0.09146437, ..., -0.08269682,\n",
       "         0.05654266,  0.05103846]], dtype=float32)"
      ]
     },
     "execution_count": 13,
     "metadata": {},
     "output_type": "execute_result"
    }
   ],
   "source": [
    "%%time\n",
    "embedding_basedata_fasttext = model_fasttext_wrapper.fit_transform(clear_text)\n",
    "\n",
    "print(embedding_basedata_fasttext.shape)\n",
    "embedding_basedata_fasttext"
   ]
  },
  {
   "cell_type": "markdown",
   "id": "a1115281-b376-4adb-8dc9-fdabac781981",
   "metadata": {},
   "source": [
    "#### SentenceTransformers"
   ]
  },
  {
   "cell_type": "code",
   "execution_count": 14,
   "id": "803e724e-869f-466c-b7a7-93f83cd90d7b",
   "metadata": {},
   "outputs": [],
   "source": [
    "model_transformer_wrapper = models.SentenceTransformerWrapperModel()"
   ]
  },
  {
   "cell_type": "code",
   "execution_count": 17,
   "id": "d0729a55-6f62-490d-998f-b6de46ed16aa",
   "metadata": {},
   "outputs": [],
   "source": [
    "# model_transformer_wrapper.fit(clear_text)"
   ]
  },
  {
   "cell_type": "code",
   "execution_count": 18,
   "id": "92a93d7b-ceef-43e4-b78a-8c189ed53c91",
   "metadata": {},
   "outputs": [
    {
     "name": "stdout",
     "output_type": "stream",
     "text": [
      "(11562, 384)\n"
     ]
    },
    {
     "data": {
      "text/plain": [
       "array([[-0.03356819, -0.00994224, -0.38047782, ..., -0.3514836 ,\n",
       "        -0.13663206, -0.2837611 ],\n",
       "       [-0.10025516,  0.12757903, -0.04055376, ..., -0.15694027,\n",
       "        -0.11605553,  0.16881616],\n",
       "       [-0.12735258,  0.15968087, -0.1906877 , ..., -0.34117892,\n",
       "        -0.13013414,  0.04280528],\n",
       "       ...,\n",
       "       [ 0.1761831 ,  0.07396939,  0.12333596, ..., -0.25326034,\n",
       "        -0.03523049,  0.22894253],\n",
       "       [ 0.00739819, -0.14365028, -0.0232647 , ..., -0.43694916,\n",
       "        -0.5284057 ,  0.35563788],\n",
       "       [-0.03762897,  0.03798281, -0.12057619, ..., -0.13760985,\n",
       "        -0.17423956, -0.13552156]], dtype=float32)"
      ]
     },
     "execution_count": 18,
     "metadata": {},
     "output_type": "execute_result"
    }
   ],
   "source": [
    "embedding_basedata_transformer = model_transformer_wrapper.transform(clear_text)\n",
    "\n",
    "print(embedding_basedata_transformer.shape)\n",
    "embedding_basedata_transformer"
   ]
  },
  {
   "cell_type": "markdown",
   "id": "b380e7ed-6a3c-48fe-ac1a-c34accdfc411",
   "metadata": {},
   "source": [
    "## Модуль `similarity_search`"
   ]
  },
  {
   "cell_type": "code",
   "execution_count": 19,
   "id": "2cdf7392-f32e-40c2-bf16-6adc378fd77f",
   "metadata": {},
   "outputs": [],
   "source": [
    "import similarity_search"
   ]
  },
  {
   "cell_type": "markdown",
   "id": "f5fa4a05-419e-43b3-a3eb-a0b96fdde5d0",
   "metadata": {},
   "source": [
    "#### ForCycleSearch"
   ]
  },
  {
   "cell_type": "markdown",
   "id": "2d668499-8eea-4e0f-a104-3abcdc3a21c6",
   "metadata": {},
   "source": [
    "Для TfIdf:"
   ]
  },
  {
   "cell_type": "code",
   "execution_count": 20,
   "id": "d4c0c825-f34f-47da-810f-b4a211026866",
   "metadata": {},
   "outputs": [
    {
     "name": "stdout",
     "output_type": "stream",
     "text": [
      "CPU times: total: 1.53 s\n",
      "Wall time: 1.64 s\n"
     ]
    },
    {
     "data": {
      "text/html": [
       "<div>\n",
       "<style scoped>\n",
       "    .dataframe tbody tr th:only-of-type {\n",
       "        vertical-align: middle;\n",
       "    }\n",
       "\n",
       "    .dataframe tbody tr th {\n",
       "        vertical-align: top;\n",
       "    }\n",
       "\n",
       "    .dataframe thead th {\n",
       "        text-align: right;\n",
       "    }\n",
       "</style>\n",
       "<table border=\"1\" class=\"dataframe\">\n",
       "  <thead>\n",
       "    <tr style=\"text-align: right;\">\n",
       "      <th></th>\n",
       "      <th>name</th>\n",
       "      <th>similarity</th>\n",
       "    </tr>\n",
       "  </thead>\n",
       "  <tbody>\n",
       "    <tr>\n",
       "      <th>479</th>\n",
       "      <td>Mario Party</td>\n",
       "      <td>0.724069</td>\n",
       "    </tr>\n",
       "    <tr>\n",
       "      <th>381</th>\n",
       "      <td>Mario Party 9</td>\n",
       "      <td>0.724069</td>\n",
       "    </tr>\n",
       "    <tr>\n",
       "      <th>531</th>\n",
       "      <td>Mario Party 2</td>\n",
       "      <td>0.724069</td>\n",
       "    </tr>\n",
       "    <tr>\n",
       "      <th>71</th>\n",
       "      <td>Mario Party 8</td>\n",
       "      <td>0.724069</td>\n",
       "    </tr>\n",
       "    <tr>\n",
       "      <th>965</th>\n",
       "      <td>Mario Party 7</td>\n",
       "      <td>0.724069</td>\n",
       "    </tr>\n",
       "  </tbody>\n",
       "</table>\n",
       "</div>"
      ],
      "text/plain": [
       "              name  similarity\n",
       "479    Mario Party    0.724069\n",
       "381  Mario Party 9    0.724069\n",
       "531  Mario Party 2    0.724069\n",
       "71   Mario Party 8    0.724069\n",
       "965  Mario Party 7    0.724069"
      ]
     },
     "execution_count": 20,
     "metadata": {},
     "output_type": "execute_result"
    }
   ],
   "source": [
    "%%time\n",
    "search_for_cycle = similarity_search.ForCycleSearch(model_tfidf_wrapper, embedding_basedata_tfidf, df_video_games.target.values)\n",
    "search_for_cycle.search('mario 9', 5)"
   ]
  },
  {
   "cell_type": "markdown",
   "id": "9f1275d9-2734-47dc-98c7-992f0ac74064",
   "metadata": {},
   "source": [
    "Для FastText:"
   ]
  },
  {
   "cell_type": "code",
   "execution_count": 21,
   "id": "4bbcb4f0-1f74-4756-a1c7-18684a08bd2b",
   "metadata": {},
   "outputs": [
    {
     "name": "stdout",
     "output_type": "stream",
     "text": [
      "CPU times: total: 297 ms\n",
      "Wall time: 299 ms\n"
     ]
    },
    {
     "data": {
      "text/html": [
       "<div>\n",
       "<style scoped>\n",
       "    .dataframe tbody tr th:only-of-type {\n",
       "        vertical-align: middle;\n",
       "    }\n",
       "\n",
       "    .dataframe tbody tr th {\n",
       "        vertical-align: top;\n",
       "    }\n",
       "\n",
       "    .dataframe thead th {\n",
       "        text-align: right;\n",
       "    }\n",
       "</style>\n",
       "<table border=\"1\" class=\"dataframe\">\n",
       "  <thead>\n",
       "    <tr style=\"text-align: right;\">\n",
       "      <th></th>\n",
       "      <th>name</th>\n",
       "      <th>similarity</th>\n",
       "    </tr>\n",
       "  </thead>\n",
       "  <tbody>\n",
       "    <tr>\n",
       "      <th>381</th>\n",
       "      <td>Mario Party 9</td>\n",
       "      <td>0.999814</td>\n",
       "    </tr>\n",
       "    <tr>\n",
       "      <th>4814</th>\n",
       "      <td>Wild 9</td>\n",
       "      <td>0.999797</td>\n",
       "    </tr>\n",
       "    <tr>\n",
       "      <th>9751</th>\n",
       "      <td>Medabots 9: Metabee / Rokusho</td>\n",
       "      <td>0.999728</td>\n",
       "    </tr>\n",
       "    <tr>\n",
       "      <th>9799</th>\n",
       "      <td>Medarot 9: Kabuto Ver. / Kuwagata Ver.</td>\n",
       "      <td>0.999695</td>\n",
       "    </tr>\n",
       "    <tr>\n",
       "      <th>6374</th>\n",
       "      <td>World Soccer Winning Eleven 9 Bonus Pack</td>\n",
       "      <td>0.999642</td>\n",
       "    </tr>\n",
       "  </tbody>\n",
       "</table>\n",
       "</div>"
      ],
      "text/plain": [
       "                                          name  similarity\n",
       "381                              Mario Party 9    0.999814\n",
       "4814                                    Wild 9    0.999797\n",
       "9751             Medabots 9: Metabee / Rokusho    0.999728\n",
       "9799    Medarot 9: Kabuto Ver. / Kuwagata Ver.    0.999695\n",
       "6374  World Soccer Winning Eleven 9 Bonus Pack    0.999642"
      ]
     },
     "execution_count": 21,
     "metadata": {},
     "output_type": "execute_result"
    }
   ],
   "source": [
    "%%time\n",
    "search_for_cycle = similarity_search.ForCycleSearch(model_fasttext_wrapper, embedding_basedata_fasttext, df_video_games.target.values)\n",
    "search_for_cycle.search('mario 9', 5)"
   ]
  },
  {
   "cell_type": "markdown",
   "id": "e4b39cc4-d6a5-4ebb-a25f-3433201686f4",
   "metadata": {},
   "source": [
    "Для SentenceTransformer:"
   ]
  },
  {
   "cell_type": "code",
   "execution_count": 24,
   "id": "45df9a0a-4b08-4f8a-b177-7523a0ffeb39",
   "metadata": {},
   "outputs": [
    {
     "name": "stdout",
     "output_type": "stream",
     "text": [
      "CPU times: total: 953 ms\n",
      "Wall time: 246 ms\n"
     ]
    },
    {
     "data": {
      "text/html": [
       "<div>\n",
       "<style scoped>\n",
       "    .dataframe tbody tr th:only-of-type {\n",
       "        vertical-align: middle;\n",
       "    }\n",
       "\n",
       "    .dataframe tbody tr th {\n",
       "        vertical-align: top;\n",
       "    }\n",
       "\n",
       "    .dataframe thead th {\n",
       "        text-align: right;\n",
       "    }\n",
       "</style>\n",
       "<table border=\"1\" class=\"dataframe\">\n",
       "  <thead>\n",
       "    <tr style=\"text-align: right;\">\n",
       "      <th></th>\n",
       "      <th>name</th>\n",
       "      <th>similarity</th>\n",
       "    </tr>\n",
       "  </thead>\n",
       "  <tbody>\n",
       "    <tr>\n",
       "      <th>596</th>\n",
       "      <td>Mario Bros.</td>\n",
       "      <td>0.833682</td>\n",
       "    </tr>\n",
       "    <tr>\n",
       "      <th>99</th>\n",
       "      <td>Mario Kart 8</td>\n",
       "      <td>0.830035</td>\n",
       "    </tr>\n",
       "    <tr>\n",
       "      <th>2924</th>\n",
       "      <td>Mario &amp; Wario</td>\n",
       "      <td>0.822572</td>\n",
       "    </tr>\n",
       "    <tr>\n",
       "      <th>37</th>\n",
       "      <td>Mario Kart 7</td>\n",
       "      <td>0.792277</td>\n",
       "    </tr>\n",
       "    <tr>\n",
       "      <th>381</th>\n",
       "      <td>Mario Party 9</td>\n",
       "      <td>0.786914</td>\n",
       "    </tr>\n",
       "  </tbody>\n",
       "</table>\n",
       "</div>"
      ],
      "text/plain": [
       "               name  similarity\n",
       "596     Mario Bros.    0.833682\n",
       "99     Mario Kart 8    0.830035\n",
       "2924  Mario & Wario    0.822572\n",
       "37     Mario Kart 7    0.792277\n",
       "381   Mario Party 9    0.786914"
      ]
     },
     "execution_count": 24,
     "metadata": {},
     "output_type": "execute_result"
    }
   ],
   "source": [
    "%%time\n",
    "search_for_cycle = similarity_search.ForCycleSearch(model_transformer_wrapper, embedding_basedata_transformer, df_video_games.target.values)\n",
    "search_for_cycle.search('mario 9', 5)"
   ]
  },
  {
   "cell_type": "markdown",
   "id": "943b376b-865c-44e3-8e6b-da17838ba0af",
   "metadata": {},
   "source": [
    "## `TEMP` code:"
   ]
  },
  {
   "cell_type": "code",
   "execution_count": null,
   "id": "8a4c0fd1-2521-4cbc-a402-fa7d1f5592bd",
   "metadata": {},
   "outputs": [],
   "source": []
  }
 ],
 "metadata": {
  "kernelspec": {
   "display_name": "venv",
   "language": "python",
   "name": "venv"
  },
  "language_info": {
   "codemirror_mode": {
    "name": "ipython",
    "version": 3
   },
   "file_extension": ".py",
   "mimetype": "text/x-python",
   "name": "python",
   "nbconvert_exporter": "python",
   "pygments_lexer": "ipython3",
   "version": "3.11.5"
  }
 },
 "nbformat": 4,
 "nbformat_minor": 5
}
