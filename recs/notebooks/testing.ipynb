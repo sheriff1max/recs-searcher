{
 "cells": [
  {
   "cell_type": "markdown",
   "id": "a20ebb0d-563c-4377-ad92-c56ed2e1853e",
   "metadata": {},
   "source": [
    "# Тестирование модулей"
   ]
  },
  {
   "cell_type": "markdown",
   "id": "10194242-bc76-4050-95b6-dfef9a29d1c7",
   "metadata": {},
   "source": [
    "## Модуль `datasets`"
   ]
  },
  {
   "cell_type": "code",
   "execution_count": 1,
   "id": "50ae27d9-cbb7-4f8f-9e73-4bb011a162b1",
   "metadata": {},
   "outputs": [
    {
     "name": "stdout",
     "output_type": "stream",
     "text": [
      "F:\\учёба\\recs\\recs\n"
     ]
    }
   ],
   "source": [
    "cd .."
   ]
  },
  {
   "cell_type": "code",
   "execution_count": 11,
   "id": "d064f8c2-10d9-4c5f-9547-f70c2ebac94a",
   "metadata": {},
   "outputs": [],
   "source": [
    "import dataset"
   ]
  },
  {
   "cell_type": "code",
   "execution_count": 12,
   "id": "ad6a1fc7-0acf-48b8-8a25-b46ea28a293c",
   "metadata": {},
   "outputs": [
    {
     "data": {
      "text/html": [
       "<div>\n",
       "<style scoped>\n",
       "    .dataframe tbody tr th:only-of-type {\n",
       "        vertical-align: middle;\n",
       "    }\n",
       "\n",
       "    .dataframe tbody tr th {\n",
       "        vertical-align: top;\n",
       "    }\n",
       "\n",
       "    .dataframe thead th {\n",
       "        text-align: right;\n",
       "    }\n",
       "</style>\n",
       "<table border=\"1\" class=\"dataframe\">\n",
       "  <thead>\n",
       "    <tr style=\"text-align: right;\">\n",
       "      <th></th>\n",
       "      <th>target</th>\n",
       "    </tr>\n",
       "  </thead>\n",
       "  <tbody>\n",
       "    <tr>\n",
       "      <th>0</th>\n",
       "      <td>Wii Sports</td>\n",
       "    </tr>\n",
       "    <tr>\n",
       "      <th>1</th>\n",
       "      <td>Super Mario Bros.</td>\n",
       "    </tr>\n",
       "    <tr>\n",
       "      <th>2</th>\n",
       "      <td>Mario Kart Wii</td>\n",
       "    </tr>\n",
       "    <tr>\n",
       "      <th>3</th>\n",
       "      <td>Wii Sports Resort</td>\n",
       "    </tr>\n",
       "    <tr>\n",
       "      <th>4</th>\n",
       "      <td>Pokemon Red/Pokemon Blue</td>\n",
       "    </tr>\n",
       "    <tr>\n",
       "      <th>...</th>\n",
       "      <td>...</td>\n",
       "    </tr>\n",
       "    <tr>\n",
       "      <th>11557</th>\n",
       "      <td>15 Days</td>\n",
       "    </tr>\n",
       "    <tr>\n",
       "      <th>11558</th>\n",
       "      <td>Aiyoku no Eustia</td>\n",
       "    </tr>\n",
       "    <tr>\n",
       "      <th>11559</th>\n",
       "      <td>Woody Woodpecker in Crazy Castle 5</td>\n",
       "    </tr>\n",
       "    <tr>\n",
       "      <th>11560</th>\n",
       "      <td>LMA Manager 2007</td>\n",
       "    </tr>\n",
       "    <tr>\n",
       "      <th>11561</th>\n",
       "      <td>Haitaka no Psychedelica</td>\n",
       "    </tr>\n",
       "  </tbody>\n",
       "</table>\n",
       "<p>11562 rows × 1 columns</p>\n",
       "</div>"
      ],
      "text/plain": [
       "                                   target\n",
       "0                              Wii Sports\n",
       "1                       Super Mario Bros.\n",
       "2                          Mario Kart Wii\n",
       "3                       Wii Sports Resort\n",
       "4                Pokemon Red/Pokemon Blue\n",
       "...                                   ...\n",
       "11557                             15 Days\n",
       "11558                    Aiyoku no Eustia\n",
       "11559  Woody Woodpecker in Crazy Castle 5\n",
       "11560                    LMA Manager 2007\n",
       "11561             Haitaka no Psychedelica\n",
       "\n",
       "[11562 rows x 1 columns]"
      ]
     },
     "execution_count": 12,
     "metadata": {},
     "output_type": "execute_result"
    }
   ],
   "source": [
    "df_video_games = dataset.load_video_games()\n",
    "df_video_games"
   ]
  },
  {
   "cell_type": "markdown",
   "id": "9e39fe99-2c71-4c98-9240-54ee20a2f5bc",
   "metadata": {},
   "source": [
    "## Модуль `preprocessing`"
   ]
  },
  {
   "cell_type": "code",
   "execution_count": 6,
   "id": "696e1a70-7687-4fe0-b1c2-72baa6843a46",
   "metadata": {},
   "outputs": [],
   "source": [
    "import preprocessing"
   ]
  },
  {
   "cell_type": "code",
   "execution_count": 7,
   "id": "ec0b98f0-e934-49e4-8c6c-bf93095a2d0f",
   "metadata": {},
   "outputs": [],
   "source": [
    "cleaner_base = preprocessing.BaseCleaner(remove_number=False)"
   ]
  },
  {
   "cell_type": "code",
   "execution_count": 8,
   "id": "2b7c58dc-0409-4676-a622-71f7fb705c1d",
   "metadata": {},
   "outputs": [
    {
     "data": {
      "text/plain": [
       "['15 days',\n",
       " 'aiyoku no eustia',\n",
       " 'woody woodpecker in crazy castle 5',\n",
       " 'lma manager 2007',\n",
       " 'haitaka no psychedelica']"
      ]
     },
     "execution_count": 8,
     "metadata": {},
     "output_type": "execute_result"
    }
   ],
   "source": [
    "clear_text = cleaner_base.transform(df_video_games.target)\n",
    "clear_text[-5:]"
   ]
  },
  {
   "cell_type": "markdown",
   "id": "67d680d4-ba31-4d40-b799-ae72a4a19824",
   "metadata": {},
   "source": [
    "## Модуль `models`"
   ]
  },
  {
   "cell_type": "code",
   "execution_count": 5,
   "id": "1f23c6f6-199f-4de3-93a9-63721840d4ad",
   "metadata": {},
   "outputs": [
    {
     "ename": "ImportError",
     "evalue": "cannot import name 'Dataset' from 'datasets' (F:\\учёба\\recs\\recs\\datasets\\__init__.py)",
     "output_type": "error",
     "traceback": [
      "\u001b[1;31m---------------------------------------------------------------------------\u001b[0m",
      "\u001b[1;31mImportError\u001b[0m                               Traceback (most recent call last)",
      "Cell \u001b[1;32mIn[5], line 1\u001b[0m\n\u001b[1;32m----> 1\u001b[0m \u001b[38;5;28;01mimport\u001b[39;00m \u001b[38;5;21;01mmodels\u001b[39;00m\n",
      "File \u001b[1;32mF:\\учёба\\recs\\recs\\models\\__init__.py:1\u001b[0m\n\u001b[1;32m----> 1\u001b[0m \u001b[38;5;28;01mfrom\u001b[39;00m \u001b[38;5;21;01m.\u001b[39;00m\u001b[38;5;21;01m_models\u001b[39;00m \u001b[38;5;28;01mimport\u001b[39;00m (\n\u001b[0;32m      2\u001b[0m     TfidfWrapperModel,\n\u001b[0;32m      3\u001b[0m     FastTextWrapperModel,\n\u001b[0;32m      4\u001b[0m )\n\u001b[0;32m      6\u001b[0m __all__ \u001b[38;5;241m=\u001b[39m [\n\u001b[0;32m      7\u001b[0m     \u001b[38;5;124m'\u001b[39m\u001b[38;5;124mTfidfWrapperModel\u001b[39m\u001b[38;5;124m'\u001b[39m,\n\u001b[0;32m      8\u001b[0m     \u001b[38;5;124m'\u001b[39m\u001b[38;5;124mFastTextWrapperModel\u001b[39m\u001b[38;5;124m'\u001b[39m,\n\u001b[0;32m      9\u001b[0m ]\n",
      "File \u001b[1;32mF:\\учёба\\recs\\recs\\models\\_models.py:18\u001b[0m\n\u001b[0;32m     15\u001b[0m \u001b[38;5;28;01mfrom\u001b[39;00m \u001b[38;5;21;01mgensim\u001b[39;00m\u001b[38;5;21;01m.\u001b[39;00m\u001b[38;5;21;01mmodels\u001b[39;00m\u001b[38;5;21;01m.\u001b[39;00m\u001b[38;5;21;01mfasttext_inner\u001b[39;00m \u001b[38;5;28;01mimport\u001b[39;00m MAX_WORDS_IN_BATCH\n\u001b[0;32m     17\u001b[0m \u001b[38;5;28;01mfrom\u001b[39;00m \u001b[38;5;21;01msentence_transformers\u001b[39;00m \u001b[38;5;28;01mimport\u001b[39;00m SentenceTransformer, models, InputExample, losses\n\u001b[1;32m---> 18\u001b[0m \u001b[38;5;28;01mfrom\u001b[39;00m \u001b[38;5;21;01mdatasets\u001b[39;00m \u001b[38;5;28;01mimport\u001b[39;00m Dataset\n\u001b[0;32m     19\u001b[0m \u001b[38;5;28;01mfrom\u001b[39;00m \u001b[38;5;21;01mtorch\u001b[39;00m\u001b[38;5;21;01m.\u001b[39;00m\u001b[38;5;21;01mutils\u001b[39;00m\u001b[38;5;21;01m.\u001b[39;00m\u001b[38;5;21;01mdata\u001b[39;00m \u001b[38;5;28;01mimport\u001b[39;00m DataLoader\n\u001b[0;32m     21\u001b[0m \u001b[38;5;28;01mimport\u001b[39;00m \u001b[38;5;21;01mnumpy\u001b[39;00m \u001b[38;5;28;01mas\u001b[39;00m \u001b[38;5;21;01mnp\u001b[39;00m\n",
      "\u001b[1;31mImportError\u001b[0m: cannot import name 'Dataset' from 'datasets' (F:\\учёба\\recs\\recs\\datasets\\__init__.py)"
     ]
    }
   ],
   "source": [
    "import models"
   ]
  },
  {
   "cell_type": "markdown",
   "id": "9a1ce819-5da7-4ce8-8e34-b530c8ea9c4c",
   "metadata": {},
   "source": [
    "#### TFIDF:"
   ]
  },
  {
   "cell_type": "code",
   "execution_count": 8,
   "id": "68e9c49e-95f7-4f7d-9577-2157a4074982",
   "metadata": {},
   "outputs": [],
   "source": [
    "model_tfidf_wrapper = models.TfidfWrapperModel()"
   ]
  },
  {
   "cell_type": "code",
   "execution_count": 9,
   "id": "5d06a20b-741f-4748-9c6a-f587916a5a81",
   "metadata": {},
   "outputs": [
    {
     "name": "stdout",
     "output_type": "stream",
     "text": [
      "(11562, 9169)\n",
      "CPU times: total: 250 ms\n",
      "Wall time: 248 ms\n"
     ]
    },
    {
     "data": {
      "text/plain": [
       "array([[0., 0., 0., ..., 0., 0., 0.],\n",
       "       [0., 0., 0., ..., 0., 0., 0.],\n",
       "       [0., 0., 0., ..., 0., 0., 0.],\n",
       "       ...,\n",
       "       [0., 0., 0., ..., 0., 0., 0.],\n",
       "       [0., 0., 0., ..., 0., 0., 0.],\n",
       "       [0., 0., 0., ..., 0., 0., 0.]])"
      ]
     },
     "execution_count": 9,
     "metadata": {},
     "output_type": "execute_result"
    }
   ],
   "source": [
    "%%time\n",
    "embedding_basedata_tfidf = model_tfidf_wrapper.fit_transform(clear_text)\n",
    "\n",
    "print(embedding_basedata_tfidf.shape)\n",
    "embedding_basedata_tfidf"
   ]
  },
  {
   "cell_type": "code",
   "execution_count": 10,
   "id": "600095bf-07b6-4818-aebd-23b8cbdcddf2",
   "metadata": {},
   "outputs": [],
   "source": [
    "# model_tfidf_wrapper.save('testing')"
   ]
  },
  {
   "cell_type": "code",
   "execution_count": 11,
   "id": "3ba6c461-cb11-4f37-97bf-595d53e814b4",
   "metadata": {},
   "outputs": [],
   "source": [
    "# model_tfidf_wrapper.load('testing')"
   ]
  },
  {
   "cell_type": "markdown",
   "id": "7f0d72a2-f46c-4406-892d-0fc52cc8e77b",
   "metadata": {},
   "source": [
    "#### FastText"
   ]
  },
  {
   "cell_type": "code",
   "execution_count": 12,
   "id": "7b4761c1-86c5-445b-b403-5d33b96638d5",
   "metadata": {},
   "outputs": [],
   "source": [
    "model_fasttext_wrapper = models.FastTextWrapperModel(\n",
    "    min_count=3,\n",
    "    vector_size=100, \n",
    "    window=3, \n",
    "    sg=1\n",
    ")"
   ]
  },
  {
   "cell_type": "code",
   "execution_count": 13,
   "id": "e543516e-811d-497d-99cd-4655fb7ae490",
   "metadata": {},
   "outputs": [
    {
     "name": "stdout",
     "output_type": "stream",
     "text": [
      "(11562, 100)\n",
      "CPU times: total: 4.2 s\n",
      "Wall time: 3.54 s\n"
     ]
    },
    {
     "data": {
      "text/plain": [
       "array([[-0.14566788, -0.04110384, -0.08632195, ..., -0.07217097,\n",
       "         0.06976114,  0.04420856],\n",
       "       [-0.14439343, -0.04345939, -0.0829755 , ..., -0.07839716,\n",
       "         0.06973555,  0.04046907],\n",
       "       [-0.14426135, -0.04093863, -0.08609829, ..., -0.07420567,\n",
       "         0.06972575,  0.04349964],\n",
       "       ...,\n",
       "       [-0.14383729, -0.04226118, -0.08653367, ..., -0.07478501,\n",
       "         0.06843017,  0.04093023],\n",
       "       [-0.14383869, -0.04326478, -0.08702809, ..., -0.06931728,\n",
       "         0.07004426,  0.04359977],\n",
       "       [-0.141986  , -0.04554222, -0.08709615, ..., -0.07256959,\n",
       "         0.06801727,  0.04175485]], dtype=float32)"
      ]
     },
     "execution_count": 13,
     "metadata": {},
     "output_type": "execute_result"
    }
   ],
   "source": [
    "%%time\n",
    "embedding_basedata_fasttext = model_fasttext_wrapper.fit_transform(clear_text)\n",
    "\n",
    "print(embedding_basedata_fasttext.shape)\n",
    "embedding_basedata_fasttext"
   ]
  },
  {
   "cell_type": "markdown",
   "id": "b380e7ed-6a3c-48fe-ac1a-c34accdfc411",
   "metadata": {},
   "source": [
    "## Модуль `similarity_search`"
   ]
  },
  {
   "cell_type": "code",
   "execution_count": 33,
   "id": "2cdf7392-f32e-40c2-bf16-6adc378fd77f",
   "metadata": {},
   "outputs": [],
   "source": [
    "import similarity_search"
   ]
  },
  {
   "cell_type": "markdown",
   "id": "f5fa4a05-419e-43b3-a3eb-a0b96fdde5d0",
   "metadata": {},
   "source": [
    "#### ForCycleSearch"
   ]
  },
  {
   "cell_type": "code",
   "execution_count": 17,
   "id": "d4c0c825-f34f-47da-810f-b4a211026866",
   "metadata": {},
   "outputs": [],
   "source": [
    "search_for_cycle = similarity_search.ForCycleSearch(model_fasttext_wrapper, embedding_basedata_fasttext, df_video_games.target.values)"
   ]
  },
  {
   "cell_type": "code",
   "execution_count": 18,
   "id": "bc81c1bf-4a82-4092-b362-8ed56445b87c",
   "metadata": {},
   "outputs": [
    {
     "name": "stdout",
     "output_type": "stream",
     "text": [
      "CPU times: total: 219 ms\n",
      "Wall time: 264 ms\n"
     ]
    },
    {
     "data": {
      "text/html": [
       "<div>\n",
       "<style scoped>\n",
       "    .dataframe tbody tr th:only-of-type {\n",
       "        vertical-align: middle;\n",
       "    }\n",
       "\n",
       "    .dataframe tbody tr th {\n",
       "        vertical-align: top;\n",
       "    }\n",
       "\n",
       "    .dataframe thead th {\n",
       "        text-align: right;\n",
       "    }\n",
       "</style>\n",
       "<table border=\"1\" class=\"dataframe\">\n",
       "  <thead>\n",
       "    <tr style=\"text-align: right;\">\n",
       "      <th></th>\n",
       "      <th>name</th>\n",
       "      <th>similarity</th>\n",
       "    </tr>\n",
       "  </thead>\n",
       "  <tbody>\n",
       "    <tr>\n",
       "      <th>1130</th>\n",
       "      <td>Paper Mario</td>\n",
       "      <td>0.999842</td>\n",
       "    </tr>\n",
       "    <tr>\n",
       "      <th>596</th>\n",
       "      <td>Mario Bros.</td>\n",
       "      <td>0.999838</td>\n",
       "    </tr>\n",
       "    <tr>\n",
       "      <th>473</th>\n",
       "      <td>Mario Paint</td>\n",
       "      <td>0.999825</td>\n",
       "    </tr>\n",
       "    <tr>\n",
       "      <th>2924</th>\n",
       "      <td>Mario &amp; Wario</td>\n",
       "      <td>0.999823</td>\n",
       "    </tr>\n",
       "    <tr>\n",
       "      <th>1055</th>\n",
       "      <td>Mario Golf</td>\n",
       "      <td>0.999820</td>\n",
       "    </tr>\n",
       "  </tbody>\n",
       "</table>\n",
       "</div>"
      ],
      "text/plain": [
       "               name  similarity\n",
       "1130    Paper Mario    0.999842\n",
       "596     Mario Bros.    0.999838\n",
       "473     Mario Paint    0.999825\n",
       "2924  Mario & Wario    0.999823\n",
       "1055     Mario Golf    0.999820"
      ]
     },
     "execution_count": 18,
     "metadata": {},
     "output_type": "execute_result"
    }
   ],
   "source": [
    "%%time\n",
    "search_for_cycle.search('mario', 5)"
   ]
  },
  {
   "cell_type": "code",
   "execution_count": 19,
   "id": "70263af1-3dbe-414e-a44f-3cd90e979bdc",
   "metadata": {},
   "outputs": [
    {
     "name": "stdout",
     "output_type": "stream",
     "text": [
      "CPU times: total: 203 ms\n",
      "Wall time: 221 ms\n"
     ]
    },
    {
     "data": {
      "text/html": [
       "<div>\n",
       "<style scoped>\n",
       "    .dataframe tbody tr th:only-of-type {\n",
       "        vertical-align: middle;\n",
       "    }\n",
       "\n",
       "    .dataframe tbody tr th {\n",
       "        vertical-align: top;\n",
       "    }\n",
       "\n",
       "    .dataframe thead th {\n",
       "        text-align: right;\n",
       "    }\n",
       "</style>\n",
       "<table border=\"1\" class=\"dataframe\">\n",
       "  <thead>\n",
       "    <tr style=\"text-align: right;\">\n",
       "      <th></th>\n",
       "      <th>name</th>\n",
       "      <th>similarity</th>\n",
       "    </tr>\n",
       "  </thead>\n",
       "  <tbody>\n",
       "    <tr>\n",
       "      <th>381</th>\n",
       "      <td>Mario Party 9</td>\n",
       "      <td>0.999812</td>\n",
       "    </tr>\n",
       "    <tr>\n",
       "      <th>4814</th>\n",
       "      <td>Wild 9</td>\n",
       "      <td>0.999801</td>\n",
       "    </tr>\n",
       "    <tr>\n",
       "      <th>9751</th>\n",
       "      <td>Medabots 9: Metabee / Rokusho</td>\n",
       "      <td>0.999726</td>\n",
       "    </tr>\n",
       "    <tr>\n",
       "      <th>9799</th>\n",
       "      <td>Medarot 9: Kabuto Ver. / Kuwagata Ver.</td>\n",
       "      <td>0.999675</td>\n",
       "    </tr>\n",
       "    <tr>\n",
       "      <th>6918</th>\n",
       "      <td>J-League Winning Eleven 9: Asia Championship</td>\n",
       "      <td>0.999659</td>\n",
       "    </tr>\n",
       "  </tbody>\n",
       "</table>\n",
       "</div>"
      ],
      "text/plain": [
       "                                              name  similarity\n",
       "381                                  Mario Party 9    0.999812\n",
       "4814                                        Wild 9    0.999801\n",
       "9751                 Medabots 9: Metabee / Rokusho    0.999726\n",
       "9799        Medarot 9: Kabuto Ver. / Kuwagata Ver.    0.999675\n",
       "6918  J-League Winning Eleven 9: Asia Championship    0.999659"
      ]
     },
     "execution_count": 19,
     "metadata": {},
     "output_type": "execute_result"
    }
   ],
   "source": [
    "%%time\n",
    "search_for_cycle.search('mario 9', 5)"
   ]
  },
  {
   "cell_type": "code",
   "execution_count": 23,
   "id": "56559003-bb19-4c5b-8a92-9a9878f565f4",
   "metadata": {},
   "outputs": [
    {
     "name": "stdout",
     "output_type": "stream",
     "text": [
      "CPU times: total: 203 ms\n",
      "Wall time: 219 ms\n"
     ]
    },
    {
     "data": {
      "text/html": [
       "<div>\n",
       "<style scoped>\n",
       "    .dataframe tbody tr th:only-of-type {\n",
       "        vertical-align: middle;\n",
       "    }\n",
       "\n",
       "    .dataframe tbody tr th {\n",
       "        vertical-align: top;\n",
       "    }\n",
       "\n",
       "    .dataframe thead th {\n",
       "        text-align: right;\n",
       "    }\n",
       "</style>\n",
       "<table border=\"1\" class=\"dataframe\">\n",
       "  <thead>\n",
       "    <tr style=\"text-align: right;\">\n",
       "      <th></th>\n",
       "      <th>name</th>\n",
       "      <th>similarity</th>\n",
       "    </tr>\n",
       "  </thead>\n",
       "  <tbody>\n",
       "    <tr>\n",
       "      <th>7581</th>\n",
       "      <td>Sidewinder Max</td>\n",
       "      <td>0.999762</td>\n",
       "    </tr>\n",
       "    <tr>\n",
       "      <th>5772</th>\n",
       "      <td>Bomberman B-Daman</td>\n",
       "      <td>0.999754</td>\n",
       "    </tr>\n",
       "    <tr>\n",
       "      <th>2785</th>\n",
       "      <td>Seaman</td>\n",
       "      <td>0.999753</td>\n",
       "    </tr>\n",
       "    <tr>\n",
       "      <th>353</th>\n",
       "      <td>Max Payne</td>\n",
       "      <td>0.999746</td>\n",
       "    </tr>\n",
       "    <tr>\n",
       "      <th>9501</th>\n",
       "      <td>Gitaroo Man Lives!</td>\n",
       "      <td>0.999746</td>\n",
       "    </tr>\n",
       "  </tbody>\n",
       "</table>\n",
       "</div>"
      ],
      "text/plain": [
       "                    name  similarity\n",
       "7581      Sidewinder Max    0.999762\n",
       "5772   Bomberman B-Daman    0.999754\n",
       "2785              Seaman    0.999753\n",
       "353            Max Payne    0.999746\n",
       "9501  Gitaroo Man Lives!    0.999746"
      ]
     },
     "execution_count": 23,
     "metadata": {},
     "output_type": "execute_result"
    }
   ],
   "source": [
    "%%time\n",
    "search_for_cycle.search('maio', 5)"
   ]
  },
  {
   "cell_type": "markdown",
   "id": "943b376b-865c-44e3-8e6b-da17838ba0af",
   "metadata": {},
   "source": [
    "## `TEMP` code:"
   ]
  },
  {
   "cell_type": "code",
   "execution_count": 2,
   "id": "f95982cd-973c-44f3-ae4b-7fa5a3b616f4",
   "metadata": {},
   "outputs": [],
   "source": [
    "from sentence_transformers import SentenceTransformer, models, InputExample, losses\n",
    "# from datasets import Dataset\n",
    "from torch.utils.data import Dataset, DataLoader"
   ]
  },
  {
   "cell_type": "code",
   "execution_count": 3,
   "id": "105adb76-0c96-4c14-8141-0beb3a065cdc",
   "metadata": {},
   "outputs": [],
   "source": [
    "class CustomDataset(Dataset):\n",
    "\n",
    "    def __init__(self, array, augmentation=None):\n",
    "        self.array = [[text, text] for text in array]\n",
    "        self.augmentation = augmentation\n",
    "\n",
    "    def __len__(self):\n",
    "        return len(self.array)\n",
    "\n",
    "    def __getitem__(self, idx):\n",
    "\n",
    "        lst = self.array[idx]\n",
    "        return InputExample(texts=[lst[0], lst[1]])"
   ]
  },
  {
   "cell_type": "code",
   "execution_count": 4,
   "id": "d390f3ba-cb6d-4dab-92cc-34dbc1988930",
   "metadata": {},
   "outputs": [],
   "source": [
    "# array = df_video_games.target.values\n",
    "# array"
   ]
  },
  {
   "cell_type": "code",
   "execution_count": 5,
   "id": "18a414dd-abe8-4a26-aadd-ed82a075fec8",
   "metadata": {},
   "outputs": [],
   "source": [
    "# array = [[text, text] for text in array]\n",
    "# array[:5]"
   ]
  },
  {
   "cell_type": "code",
   "execution_count": 6,
   "id": "a9ca7c28-c780-40d4-bd8f-ce538de24cce",
   "metadata": {},
   "outputs": [],
   "source": [
    "# import pandas as pd\n",
    "# train_df = pd.DataFrame({'set': array})\n",
    "# train_df"
   ]
  },
  {
   "cell_type": "code",
   "execution_count": 7,
   "id": "ade9efd9-2373-4281-a0a9-9488a005fe40",
   "metadata": {},
   "outputs": [],
   "source": [
    "# dataset = Dataset.from_pandas(train_df)\n",
    "# dataset"
   ]
  },
  {
   "cell_type": "code",
   "execution_count": 8,
   "id": "c9764663-998a-4cf9-b4e1-df6a6d9efa4f",
   "metadata": {},
   "outputs": [],
   "source": [
    "# train_examples = []\n",
    "# train_data = dataset[\"set\"]\n",
    "# n_examples = dataset.num_rows\n",
    "\n",
    "# for i in range(n_examples):\n",
    "#     example = train_data[i]\n",
    "#     if example[0] == None: #remove None\n",
    "#         print(example)\n",
    "#         continue        \n",
    "#     train_examples.append(InputExample(texts=[str(example[0]), str(example[1])]))"
   ]
  },
  {
   "cell_type": "code",
   "execution_count": 9,
   "id": "71960990-12dc-4474-9f2f-cdc8cae5a913",
   "metadata": {},
   "outputs": [],
   "source": [
    "model = SentenceTransformer(\"sentence-transformers/paraphrase-multilingual-MiniLM-L12-v2\")"
   ]
  },
  {
   "cell_type": "code",
   "execution_count": 34,
   "id": "94853c60-d2e2-494d-a4d4-451edc080666",
   "metadata": {},
   "outputs": [],
   "source": [
    "from utils import _cosine_distance"
   ]
  },
  {
   "cell_type": "markdown",
   "id": "67f69430-ad1a-4f99-be57-140d88d0b7f5",
   "metadata": {},
   "source": [
    "Base"
   ]
  },
  {
   "cell_type": "code",
   "execution_count": 35,
   "id": "c2ad2044-5934-4ffc-9631-51121f81729f",
   "metadata": {},
   "outputs": [
    {
     "data": {
      "text/plain": [
       "0.10861024720662833"
      ]
     },
     "execution_count": 35,
     "metadata": {},
     "output_type": "execute_result"
    }
   ],
   "source": [
    "array1 = model.encode('maio')\n",
    "array2 = model.encode('Super Mario Bros.')\n",
    "_cosine_distance(array1, array2)"
   ]
  },
  {
   "cell_type": "code",
   "execution_count": 36,
   "id": "0d0c3de1-d0d6-49f3-94a1-091fc0da1066",
   "metadata": {},
   "outputs": [
    {
     "data": {
      "text/plain": [
       "0.2950194479607329"
      ]
     },
     "execution_count": 36,
     "metadata": {},
     "output_type": "execute_result"
    }
   ],
   "source": [
    "array1 = model.encode('maio')\n",
    "array2 = model.encode('Mario')\n",
    "_cosine_distance(array1, array2)"
   ]
  },
  {
   "cell_type": "code",
   "execution_count": 48,
   "id": "a0153a7f-301b-48f5-b09c-2cfb86b5e0e9",
   "metadata": {},
   "outputs": [
    {
     "data": {
      "text/plain": [
       "0.8449747411830386"
      ]
     },
     "execution_count": 48,
     "metadata": {},
     "output_type": "execute_result"
    }
   ],
   "source": [
    "array1 = model.encode('Max 5')\n",
    "array2 = model.encode('Maxim 5')\n",
    "_cosine_distance(array1, array2)"
   ]
  },
  {
   "cell_type": "code",
   "execution_count": 49,
   "id": "2681f3df-07ec-40e1-a78d-085c6fe557fe",
   "metadata": {},
   "outputs": [
    {
     "data": {
      "text/plain": [
       "0.6417559815496462"
      ]
     },
     "execution_count": 49,
     "metadata": {},
     "output_type": "execute_result"
    }
   ],
   "source": [
    "array1 = model.encode('Мария')\n",
    "array2 = model.encode('Маия')\n",
    "_cosine_distance(array1, array2)"
   ]
  },
  {
   "cell_type": "markdown",
   "id": "ef99b721-587e-4d75-bd65-df843766e49c",
   "metadata": {},
   "source": [
    "Tuning"
   ]
  },
  {
   "cell_type": "code",
   "execution_count": 13,
   "id": "f92595ec-de6f-4b99-a54b-32581fb47d6c",
   "metadata": {},
   "outputs": [],
   "source": [
    "train_examples = CustomDataset(df_video_games.target.values)"
   ]
  },
  {
   "cell_type": "code",
   "execution_count": 14,
   "id": "480dfdf5-b3ab-4053-9b9a-82afff7e7028",
   "metadata": {},
   "outputs": [],
   "source": [
    "train_dataloader = DataLoader(train_examples, shuffle=True, batch_size=64)\n",
    "train_loss = losses.MultipleNegativesRankingLoss(model=model)\n",
    "# num_epochs = 10\n",
    "num_epochs = 1\n",
    "warmup_steps = int(len(train_dataloader) * num_epochs * 0.1) #10% of train data"
   ]
  },
  {
   "cell_type": "code",
   "execution_count": 15,
   "id": "c361fdad-dc25-4151-abf2-98135d4aeaf1",
   "metadata": {},
   "outputs": [
    {
     "data": {
      "application/vnd.jupyter.widget-view+json": {
       "model_id": "ec21881cc7d644e0a30a60eb57e96a01",
       "version_major": 2,
       "version_minor": 0
      },
      "text/plain": [
       "Epoch:   0%|          | 0/1 [00:00<?, ?it/s]"
      ]
     },
     "metadata": {},
     "output_type": "display_data"
    },
    {
     "data": {
      "application/vnd.jupyter.widget-view+json": {
       "model_id": "8b278f077fa44158b16a0050cdf11fce",
       "version_major": 2,
       "version_minor": 0
      },
      "text/plain": [
       "Iteration:   0%|          | 0/181 [00:00<?, ?it/s]"
      ]
     },
     "metadata": {},
     "output_type": "display_data"
    },
    {
     "ename": "KeyboardInterrupt",
     "evalue": "",
     "output_type": "error",
     "traceback": [
      "\u001b[1;31m---------------------------------------------------------------------------\u001b[0m",
      "\u001b[1;31mKeyboardInterrupt\u001b[0m                         Traceback (most recent call last)",
      "Cell \u001b[1;32mIn[15], line 1\u001b[0m\n\u001b[1;32m----> 1\u001b[0m \u001b[43mmodel\u001b[49m\u001b[38;5;241;43m.\u001b[39;49m\u001b[43mfit\u001b[49m\u001b[43m(\u001b[49m\u001b[43mtrain_objectives\u001b[49m\u001b[38;5;241;43m=\u001b[39;49m\u001b[43m[\u001b[49m\u001b[43m(\u001b[49m\u001b[43mtrain_dataloader\u001b[49m\u001b[43m,\u001b[49m\u001b[43m \u001b[49m\u001b[43mtrain_loss\u001b[49m\u001b[43m)\u001b[49m\u001b[43m]\u001b[49m\u001b[43m,\u001b[49m\n\u001b[0;32m      2\u001b[0m \u001b[43m          \u001b[49m\u001b[43mepochs\u001b[49m\u001b[38;5;241;43m=\u001b[39;49m\u001b[43mnum_epochs\u001b[49m\u001b[43m,\u001b[49m\n\u001b[0;32m      3\u001b[0m \u001b[43m          \u001b[49m\u001b[43mwarmup_steps\u001b[49m\u001b[38;5;241;43m=\u001b[39;49m\u001b[43mwarmup_steps\u001b[49m\u001b[43m)\u001b[49m\n",
      "File \u001b[1;32mF:\\учёба\\recs\\venv\\Lib\\site-packages\\sentence_transformers\\SentenceTransformer.py:722\u001b[0m, in \u001b[0;36mSentenceTransformer.fit\u001b[1;34m(self, train_objectives, evaluator, epochs, steps_per_epoch, scheduler, warmup_steps, optimizer_class, optimizer_params, weight_decay, evaluation_steps, output_path, save_best_model, max_grad_norm, use_amp, callback, show_progress_bar, checkpoint_path, checkpoint_save_steps, checkpoint_save_total_limit)\u001b[0m\n\u001b[0;32m    720\u001b[0m \u001b[38;5;28;01melse\u001b[39;00m:\n\u001b[0;32m    721\u001b[0m     loss_value \u001b[38;5;241m=\u001b[39m loss_model(features, labels)\n\u001b[1;32m--> 722\u001b[0m     \u001b[43mloss_value\u001b[49m\u001b[38;5;241;43m.\u001b[39;49m\u001b[43mbackward\u001b[49m\u001b[43m(\u001b[49m\u001b[43m)\u001b[49m\n\u001b[0;32m    723\u001b[0m     torch\u001b[38;5;241m.\u001b[39mnn\u001b[38;5;241m.\u001b[39mutils\u001b[38;5;241m.\u001b[39mclip_grad_norm_(loss_model\u001b[38;5;241m.\u001b[39mparameters(), max_grad_norm)\n\u001b[0;32m    724\u001b[0m     optimizer\u001b[38;5;241m.\u001b[39mstep()\n",
      "File \u001b[1;32mF:\\учёба\\recs\\venv\\Lib\\site-packages\\torch\\_tensor.py:492\u001b[0m, in \u001b[0;36mTensor.backward\u001b[1;34m(self, gradient, retain_graph, create_graph, inputs)\u001b[0m\n\u001b[0;32m    482\u001b[0m \u001b[38;5;28;01mif\u001b[39;00m has_torch_function_unary(\u001b[38;5;28mself\u001b[39m):\n\u001b[0;32m    483\u001b[0m     \u001b[38;5;28;01mreturn\u001b[39;00m handle_torch_function(\n\u001b[0;32m    484\u001b[0m         Tensor\u001b[38;5;241m.\u001b[39mbackward,\n\u001b[0;32m    485\u001b[0m         (\u001b[38;5;28mself\u001b[39m,),\n\u001b[1;32m   (...)\u001b[0m\n\u001b[0;32m    490\u001b[0m         inputs\u001b[38;5;241m=\u001b[39minputs,\n\u001b[0;32m    491\u001b[0m     )\n\u001b[1;32m--> 492\u001b[0m \u001b[43mtorch\u001b[49m\u001b[38;5;241;43m.\u001b[39;49m\u001b[43mautograd\u001b[49m\u001b[38;5;241;43m.\u001b[39;49m\u001b[43mbackward\u001b[49m\u001b[43m(\u001b[49m\n\u001b[0;32m    493\u001b[0m \u001b[43m    \u001b[49m\u001b[38;5;28;43mself\u001b[39;49m\u001b[43m,\u001b[49m\u001b[43m \u001b[49m\u001b[43mgradient\u001b[49m\u001b[43m,\u001b[49m\u001b[43m \u001b[49m\u001b[43mretain_graph\u001b[49m\u001b[43m,\u001b[49m\u001b[43m \u001b[49m\u001b[43mcreate_graph\u001b[49m\u001b[43m,\u001b[49m\u001b[43m \u001b[49m\u001b[43minputs\u001b[49m\u001b[38;5;241;43m=\u001b[39;49m\u001b[43minputs\u001b[49m\n\u001b[0;32m    494\u001b[0m \u001b[43m\u001b[49m\u001b[43m)\u001b[49m\n",
      "File \u001b[1;32mF:\\учёба\\recs\\venv\\Lib\\site-packages\\torch\\autograd\\__init__.py:251\u001b[0m, in \u001b[0;36mbackward\u001b[1;34m(tensors, grad_tensors, retain_graph, create_graph, grad_variables, inputs)\u001b[0m\n\u001b[0;32m    246\u001b[0m     retain_graph \u001b[38;5;241m=\u001b[39m create_graph\n\u001b[0;32m    248\u001b[0m \u001b[38;5;66;03m# The reason we repeat the same comment below is that\u001b[39;00m\n\u001b[0;32m    249\u001b[0m \u001b[38;5;66;03m# some Python versions print out the first line of a multi-line function\u001b[39;00m\n\u001b[0;32m    250\u001b[0m \u001b[38;5;66;03m# calls in the traceback and some print out the last line\u001b[39;00m\n\u001b[1;32m--> 251\u001b[0m \u001b[43mVariable\u001b[49m\u001b[38;5;241;43m.\u001b[39;49m\u001b[43m_execution_engine\u001b[49m\u001b[38;5;241;43m.\u001b[39;49m\u001b[43mrun_backward\u001b[49m\u001b[43m(\u001b[49m\u001b[43m  \u001b[49m\u001b[38;5;66;43;03m# Calls into the C++ engine to run the backward pass\u001b[39;49;00m\n\u001b[0;32m    252\u001b[0m \u001b[43m    \u001b[49m\u001b[43mtensors\u001b[49m\u001b[43m,\u001b[49m\n\u001b[0;32m    253\u001b[0m \u001b[43m    \u001b[49m\u001b[43mgrad_tensors_\u001b[49m\u001b[43m,\u001b[49m\n\u001b[0;32m    254\u001b[0m \u001b[43m    \u001b[49m\u001b[43mretain_graph\u001b[49m\u001b[43m,\u001b[49m\n\u001b[0;32m    255\u001b[0m \u001b[43m    \u001b[49m\u001b[43mcreate_graph\u001b[49m\u001b[43m,\u001b[49m\n\u001b[0;32m    256\u001b[0m \u001b[43m    \u001b[49m\u001b[43minputs\u001b[49m\u001b[43m,\u001b[49m\n\u001b[0;32m    257\u001b[0m \u001b[43m    \u001b[49m\u001b[43mallow_unreachable\u001b[49m\u001b[38;5;241;43m=\u001b[39;49m\u001b[38;5;28;43;01mTrue\u001b[39;49;00m\u001b[43m,\u001b[49m\n\u001b[0;32m    258\u001b[0m \u001b[43m    \u001b[49m\u001b[43maccumulate_grad\u001b[49m\u001b[38;5;241;43m=\u001b[39;49m\u001b[38;5;28;43;01mTrue\u001b[39;49;00m\u001b[43m,\u001b[49m\n\u001b[0;32m    259\u001b[0m \u001b[43m\u001b[49m\u001b[43m)\u001b[49m\n",
      "\u001b[1;31mKeyboardInterrupt\u001b[0m: "
     ]
    }
   ],
   "source": [
    "model.fit(train_objectives=[(train_dataloader, train_loss)],\n",
    "          epochs=num_epochs,\n",
    "          warmup_steps=warmup_steps)"
   ]
  },
  {
   "cell_type": "code",
   "execution_count": 52,
   "id": "42c99c4b-e2f1-4006-a00b-00c1a9af3f5f",
   "metadata": {},
   "outputs": [
    {
     "data": {
      "text/plain": [
       "-0.09821634156992119"
      ]
     },
     "execution_count": 52,
     "metadata": {},
     "output_type": "execute_result"
    }
   ],
   "source": [
    "array1 = model.encode('maio')\n",
    "array2 = model.encode('Super Mario Bros.')\n",
    "_cosine_distance(array1, array2)"
   ]
  },
  {
   "cell_type": "code",
   "execution_count": 53,
   "id": "52e4cd6a-b327-4209-aec4-de5fcf1b7b19",
   "metadata": {},
   "outputs": [
    {
     "data": {
      "text/plain": [
       "0.07148838958792078"
      ]
     },
     "execution_count": 53,
     "metadata": {},
     "output_type": "execute_result"
    }
   ],
   "source": [
    "array1 = model.encode('maio')\n",
    "array2 = model.encode('Mario')\n",
    "_cosine_distance(array1, array2)"
   ]
  },
  {
   "cell_type": "code",
   "execution_count": 54,
   "id": "b723942d-0daf-4b7b-acca-e9d31489c4af",
   "metadata": {},
   "outputs": [
    {
     "data": {
      "text/plain": [
       "0.8812535528163306"
      ]
     },
     "execution_count": 54,
     "metadata": {},
     "output_type": "execute_result"
    }
   ],
   "source": [
    "array1 = model.encode('Max 5')\n",
    "array2 = model.encode('Maxim 5')\n",
    "_cosine_distance(array1, array2)"
   ]
  },
  {
   "cell_type": "code",
   "execution_count": 55,
   "id": "2b8c5538-d4ab-4611-8f5c-e4e84f935629",
   "metadata": {},
   "outputs": [
    {
     "data": {
      "text/plain": [
       "0.529520837670178"
      ]
     },
     "execution_count": 55,
     "metadata": {},
     "output_type": "execute_result"
    }
   ],
   "source": [
    "array1 = model.encode('Мария')\n",
    "array2 = model.encode('Маия')\n",
    "_cosine_distance(array1, array2)"
   ]
  }
 ],
 "metadata": {
  "kernelspec": {
   "display_name": "Python 3 (ipykernel)",
   "language": "python",
   "name": "python3"
  },
  "language_info": {
   "codemirror_mode": {
    "name": "ipython",
    "version": 3
   },
   "file_extension": ".py",
   "mimetype": "text/x-python",
   "name": "python",
   "nbconvert_exporter": "python",
   "pygments_lexer": "ipython3",
   "version": "3.11.5"
  }
 },
 "nbformat": 4,
 "nbformat_minor": 5
}
