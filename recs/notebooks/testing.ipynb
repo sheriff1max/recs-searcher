{
 "cells": [
  {
   "cell_type": "markdown",
   "id": "a20ebb0d-563c-4377-ad92-c56ed2e1853e",
   "metadata": {},
   "source": [
    "# Тестирование модулей"
   ]
  },
  {
   "cell_type": "markdown",
   "id": "10194242-bc76-4050-95b6-dfef9a29d1c7",
   "metadata": {},
   "source": [
    "## Модуль `datasets`"
   ]
  },
  {
   "cell_type": "code",
   "execution_count": 1,
   "id": "50ae27d9-cbb7-4f8f-9e73-4bb011a162b1",
   "metadata": {},
   "outputs": [
    {
     "name": "stdout",
     "output_type": "stream",
     "text": [
      "F:\\учёба\\recs\\recs\n"
     ]
    }
   ],
   "source": [
    "cd .."
   ]
  },
  {
   "cell_type": "code",
   "execution_count": 2,
   "id": "d064f8c2-10d9-4c5f-9547-f70c2ebac94a",
   "metadata": {},
   "outputs": [],
   "source": [
    "import datasets"
   ]
  },
  {
   "cell_type": "code",
   "execution_count": 3,
   "id": "ad6a1fc7-0acf-48b8-8a25-b46ea28a293c",
   "metadata": {},
   "outputs": [
    {
     "data": {
      "text/html": [
       "<div>\n",
       "<style scoped>\n",
       "    .dataframe tbody tr th:only-of-type {\n",
       "        vertical-align: middle;\n",
       "    }\n",
       "\n",
       "    .dataframe tbody tr th {\n",
       "        vertical-align: top;\n",
       "    }\n",
       "\n",
       "    .dataframe thead th {\n",
       "        text-align: right;\n",
       "    }\n",
       "</style>\n",
       "<table border=\"1\" class=\"dataframe\">\n",
       "  <thead>\n",
       "    <tr style=\"text-align: right;\">\n",
       "      <th></th>\n",
       "      <th>target</th>\n",
       "    </tr>\n",
       "  </thead>\n",
       "  <tbody>\n",
       "    <tr>\n",
       "      <th>0</th>\n",
       "      <td>Wii Sports</td>\n",
       "    </tr>\n",
       "    <tr>\n",
       "      <th>1</th>\n",
       "      <td>Super Mario Bros.</td>\n",
       "    </tr>\n",
       "    <tr>\n",
       "      <th>2</th>\n",
       "      <td>Mario Kart Wii</td>\n",
       "    </tr>\n",
       "    <tr>\n",
       "      <th>3</th>\n",
       "      <td>Wii Sports Resort</td>\n",
       "    </tr>\n",
       "    <tr>\n",
       "      <th>4</th>\n",
       "      <td>Pokemon Red/Pokemon Blue</td>\n",
       "    </tr>\n",
       "    <tr>\n",
       "      <th>...</th>\n",
       "      <td>...</td>\n",
       "    </tr>\n",
       "    <tr>\n",
       "      <th>11557</th>\n",
       "      <td>15 Days</td>\n",
       "    </tr>\n",
       "    <tr>\n",
       "      <th>11558</th>\n",
       "      <td>Aiyoku no Eustia</td>\n",
       "    </tr>\n",
       "    <tr>\n",
       "      <th>11559</th>\n",
       "      <td>Woody Woodpecker in Crazy Castle 5</td>\n",
       "    </tr>\n",
       "    <tr>\n",
       "      <th>11560</th>\n",
       "      <td>LMA Manager 2007</td>\n",
       "    </tr>\n",
       "    <tr>\n",
       "      <th>11561</th>\n",
       "      <td>Haitaka no Psychedelica</td>\n",
       "    </tr>\n",
       "  </tbody>\n",
       "</table>\n",
       "<p>11562 rows × 1 columns</p>\n",
       "</div>"
      ],
      "text/plain": [
       "                                   target\n",
       "0                              Wii Sports\n",
       "1                       Super Mario Bros.\n",
       "2                          Mario Kart Wii\n",
       "3                       Wii Sports Resort\n",
       "4                Pokemon Red/Pokemon Blue\n",
       "...                                   ...\n",
       "11557                             15 Days\n",
       "11558                    Aiyoku no Eustia\n",
       "11559  Woody Woodpecker in Crazy Castle 5\n",
       "11560                    LMA Manager 2007\n",
       "11561             Haitaka no Psychedelica\n",
       "\n",
       "[11562 rows x 1 columns]"
      ]
     },
     "execution_count": 3,
     "metadata": {},
     "output_type": "execute_result"
    }
   ],
   "source": [
    "df_video_games = datasets.load_video_games()\n",
    "df_video_games"
   ]
  },
  {
   "cell_type": "markdown",
   "id": "67d680d4-ba31-4d40-b799-ae72a4a19824",
   "metadata": {},
   "source": [
    "## Модуль `models`"
   ]
  },
  {
   "cell_type": "code",
   "execution_count": 4,
   "id": "1f23c6f6-199f-4de3-93a9-63721840d4ad",
   "metadata": {},
   "outputs": [],
   "source": [
    "import models\n",
    "\n",
    "from sklearn.feature_extraction.text import TfidfVectorizer"
   ]
  },
  {
   "cell_type": "code",
   "execution_count": 5,
   "id": "68e9c49e-95f7-4f7d-9577-2157a4074982",
   "metadata": {},
   "outputs": [],
   "source": [
    "tfidf = TfidfVectorizer()\n",
    "\n",
    "wrapper_model = models.TfidfWrapperModel(tfidf)"
   ]
  },
  {
   "cell_type": "code",
   "execution_count": 6,
   "id": "5d06a20b-741f-4748-9c6a-f587916a5a81",
   "metadata": {},
   "outputs": [
    {
     "name": "stdout",
     "output_type": "stream",
     "text": [
      "(11562, 8838)\n"
     ]
    },
    {
     "data": {
      "text/plain": [
       "array([[0., 0., 0., ..., 0., 0., 0.],\n",
       "       [0., 0., 0., ..., 0., 0., 0.],\n",
       "       [0., 0., 0., ..., 0., 0., 0.],\n",
       "       ...,\n",
       "       [0., 0., 0., ..., 0., 0., 0.],\n",
       "       [0., 0., 0., ..., 0., 0., 0.],\n",
       "       [0., 0., 0., ..., 0., 0., 0.]])"
      ]
     },
     "execution_count": 6,
     "metadata": {},
     "output_type": "execute_result"
    }
   ],
   "source": [
    "array = wrapper_model.fit_transform(df_video_games.target)\n",
    "\n",
    "print(array.shape)\n",
    "array"
   ]
  },
  {
   "cell_type": "code",
   "execution_count": 7,
   "id": "600095bf-07b6-4818-aebd-23b8cbdcddf2",
   "metadata": {},
   "outputs": [
    {
     "data": {
      "text/plain": [
       "<models._models.TfidfWrapperModel at 0x23a5017dc10>"
      ]
     },
     "execution_count": 7,
     "metadata": {},
     "output_type": "execute_result"
    }
   ],
   "source": [
    "# wrapper_model.save('testing')"
   ]
  },
  {
   "cell_type": "code",
   "execution_count": null,
   "id": "a45ad86c-39cd-4017-8678-f3565fcacaa7",
   "metadata": {},
   "outputs": [],
   "source": []
  }
 ],
 "metadata": {
  "kernelspec": {
   "display_name": "Python 3 (ipykernel)",
   "language": "python",
   "name": "python3"
  },
  "language_info": {
   "codemirror_mode": {
    "name": "ipython",
    "version": 3
   },
   "file_extension": ".py",
   "mimetype": "text/x-python",
   "name": "python",
   "nbconvert_exporter": "python",
   "pygments_lexer": "ipython3",
   "version": "3.11.5"
  }
 },
 "nbformat": 4,
 "nbformat_minor": 5
}
